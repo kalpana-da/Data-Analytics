{
  "nbformat": 4,
  "nbformat_minor": 0,
  "metadata": {
    "colab": {
      "provenance": []
    },
    "kernelspec": {
      "name": "python3",
      "display_name": "Python 3"
    },
    "language_info": {
      "name": "python"
    }
  },
  "cells": [
    {
      "cell_type": "code",
      "execution_count": null,
      "metadata": {
        "id": "u89du_d74byA"
      },
      "outputs": [],
      "source": []
    },
    {
      "cell_type": "markdown",
      "source": [
        "# Theory Questions"
      ],
      "metadata": {
        "id": "mag65aMf56Pr"
      }
    },
    {
      "cell_type": "markdown",
      "source": [
        "1)\tWhat is hypothesis testing in statistics?\n",
        "\n",
        "Ans -: Hypothesis testing is a fundamental method in statistics used to infer the validity of assumptions about a population based on sample data. It involves setting up two opposing hypotheses—the null hypothesis (H0H_0H0) and the alternative hypothesis (H1H_1H1)—and determining which one the data supports more strongly. It's a critical tool in statistical inference used across many fields for decision making.\n",
        "\n",
        "---\n",
        "\n",
        "\n",
        "2)\tWhat is the null hypothesis, and how does it differ from the alternative hypothesis?\n",
        "\n",
        "Ans -: The null hypothesis (H0H_0H0) usually states that there is no effect or no difference between groups or conditions. It is a statement of 'no change' or 'no effect'. In contrast, the alternative hypothesis (H1H_1H1) suggests that there is an effect, a difference, or a change from the norm or from the established condition of H0H_0H0. Hypothesis testing revolves around the goal of rejecting the null hypothesis in favor of the alternative hypothesis.\n",
        "\n",
        "---\n",
        "\n",
        "\n",
        "3)\tWhat is the significance level in hypothesis testing, and why is it important?\n",
        "\n",
        "Ans -: The significance level (α\\alphaα) is a threshold set by the researcher to determine how confident they need to be to reject the null hypothesis. Commonly set at 0.05, it means there is a 5% chance of rejecting the null hypothesis when it is actually true (Type I error). The choice of α\\alphaα reflects the degree of certainty required before concluding that the effect or difference observed is statistically significant and not due to random chance.\n",
        "\n",
        "---\n",
        "\n",
        "\n",
        "4)\tWhat does a P-value represent in hypothesis testing?\n",
        "\n",
        "Ans -: The P-value quantifies the probability of obtaining test results at least as extreme as the results actually observed, under the assumption that the null hypothesis is correct. A low P-value indicates that the observed data are unlikely under the null hypothesis, suggesting an effect or difference that could justify rejecting the null hypothesis.\n",
        "\n",
        "---\n",
        "\n",
        "\n",
        "5)\tHow do you interpret the P-value in hypothesis testing?\n",
        "\n",
        "Ans -: In interpreting the P-value, if it is less than the chosen significance level (α\\alphaα), typically 0.05, the null hypothesis is rejected in favor of the alternative hypothesis. This interpretation means the data provides sufficient evidence to conclude that the effect or difference observed is statistically significant.\n",
        "\n",
        "---\n",
        "\n",
        "\n",
        "6)\tWhat are Type I and Type 2 errors in hypothesis testing?\n",
        "\n",
        "Ans -: Type I error occurs when the null hypothesis is wrongly rejected when it is true (false positive). This error is controlled by the significance level (α\\alphaα). Type II error occurs when the null hypothesis is not rejected when it is false (false negative). The probability of a Type II error is denoted by β\\betaβ, and 1-β\\betaβ is the power of the test, which reflects the test's ability to correctly reject a false null hypothesis.\n",
        "\n",
        "---\n",
        "\n",
        "\n",
        "7)\tWhat is the difference between a one-tailed and a two-tailed test in hypothesis testing?\n",
        "\n",
        "Ans -: A one-tailed test is used when the research hypothesis specifies a direction of the statistical relationship (e.g., greater than or less than). In contrast, a two-tailed test is used when the research hypothesis does not specify a direction but only indicates a difference (e.g., not equal to).\n",
        "\n",
        "---\n",
        "\n",
        "\n",
        "8)What is the Z-test, and when is it used in hypothesis testing?\n",
        "\n",
        "Ans -: The Z-test is used when testing hypotheses concerning the mean when the variance is known and the sample size is large (usually over 30). It's especially useful for comparing the sample mean to a known population mean (e.g., comparing the average height of a sample to the national average).\n",
        "\n",
        "---\n",
        "\n",
        "\n",
        "9)\tHow do you calculate the Z-score, and what does it represent in hypothesis testing?\n",
        "\n",
        "Ans -: The Z-score is calculated as Z=(X−μ)σ/nZ=σ/n (X−μ), where XX is the sample mean, μμ is the population mean, σσ is the population standard deviation, and nn is the sample size. This score tells you how many standard deviations the sample mean is from the population mean. A higher absolute value of the Z-score indicates a greater deviation from the null hypothesis.\n",
        "\n",
        "---\n",
        "\n",
        "\n",
        "10)\tWhat is the T-distribution, and when should it be used instead of the normal distribution?\n",
        "\n",
        "Ans -: The T-distribution is used instead of the normal distribution when the sample size is small or the population standard deviation is unknown. This distribution is similar to the normal distribution but with thicker tails, which provides a more accurate estimate in the face of these uncertainties.\n",
        "\n",
        "---\n",
        "\n",
        "\n",
        "11)\tWhat is the difference between a Z-test and a T-test?\n",
        "\n",
        "Ans -: The Z-test and T-test both assess whether means differ significantly under different assumptions. A Z-test is used when the population variance is known and the sample size is large, using the standard normal distribution. The T-test is used when the population variance is unknown and the sample size is small, using the T-distribution, which accounts for the increased variability that comes with smaller samples.\n",
        "\n",
        "---\n",
        "\n",
        "\n",
        "12)\tWhat is the T-test, and how is it used in hypothesis testing?\n",
        "\n",
        "Ans -: The T-test is a statistical test used to compare the means of two groups to see if they are statistically different from each other. It is commonly used when dealing with small sample sizes and unknown population variances. There are different types of T-tests (independent samples, paired samples), each suited to different experimental designs and hypotheses.\n",
        "\n",
        "---\n",
        "\n",
        "\n",
        "13)\tWhat is the relationship between Z-test and T-test in hypothesis testing?\n",
        "\n",
        "Ans -: Both the Z-test and T-test are used to determine if there are significant differences between the means of groups. The choice between a Z-test and a T-test generally depends on whether the population variance is known (Z-test) or unknown (T-test) and whether the sample size is sufficiently large (Z-test) or not (T-test).\n",
        "\n",
        "---\n",
        "\n",
        "\n",
        "14)\tWhat is a confidence interval, and how is it used to interpret statistical results?\n",
        "\n",
        "Ans -: A confidence interval (CI) is a range of values, derived from the sample data, that is likely to contain the value of an unknown population parameter. The confidence level (the percentage, such as 95%) indicates the probability that the CI contains the true parameter value. CIs provide a measure of uncertainty around the estimated effect.\n",
        "\n",
        "---\n",
        "\n",
        "\n",
        "15)\tWhat is the margin of error, and how does it affect the confidence interval?\n",
        "\n",
        "Ans -: The margin of error defines the extent to which the estimated statistic could differ from the true population parameter. It is influenced by the sample size and variability of the data. The margin of error affects the width of the confidence interval; a larger margin results in a wider interval, indicating less precision in the estimate.\n",
        "\n",
        "---\n",
        "\n",
        "\n",
        "16)\tHow is Bayes' Theorem used in statistics, and what is its significance?\n",
        "\n",
        "Ans -: Bayes' Theorem is used to update the probability for a hypothesis as more evidence or information becomes available. This theorem combines prior knowledge (prior probabilities) with new data (likelihood) to form a revised probability (posterior probability). Its significance lies in its ability to provide a flexible way to update beliefs in the face of new data, making it especially useful in predictive models and decision-making processes.\n",
        "\n",
        "---\n",
        "\n",
        "\n",
        "17)\tWhat is the Chi-square distribution, and when is it used?\n",
        "\n",
        "Ans -: The Chi-square distribution is a fundamental probability distribution in statistics used primarily in hypothesis testing and confidence interval estimation for categorical data. It is especially useful in tests of independence in contingency tables and in goodness-of-fit tests to determine how well a theoretical distribution fits observed data.\n",
        "\n",
        "\n",
        "---\n",
        "\n",
        "\n",
        "\n",
        "18)\tWhat is the Chi-square goodness of fit test, and how is it applied?\n",
        "\n",
        "Ans -: The Chi-square goodness of fit test is used to determine whether a set of observed frequencies matches expected frequencies derived from a theory. This test calculates the discrepancies between observed and expected frequencies, squaring them, dividing by the expected frequencies, and summing these values to produce a Chi-square statistic, which indicates how well the observed distribution fits the expected distribution.\n",
        "\n",
        "---\n",
        "\n",
        "\n",
        "19)\tWhat is the F-distribution, and when is it used in hypothesis testing?\n",
        "\n",
        "Ans -: The F-distribution is used primarily in the analysis of variance (ANOVA), particularly in comparing the variances of two populations. It is also used in regression analysis to test if the overall regression model is fit. The distribution arises when comparing the ratio of two variances, assuming the populations from which the variances are sampled are normally distributed.\n",
        "\n",
        "---\n",
        "\n",
        "\n",
        "20)\tWhat is an ANOVA test, and what are its assumptions?\n",
        "\n",
        "Ans -: ANOVA (Analysis of Variance) is a statistical method used to test differences between two or more group means. The assumptions underlying ANOVA include the independence of samples, normally distributed group populations, and homogeneity of variance across the groups. ANOVA helps in determining whether any of the group differences are statistically significant.\n",
        "\n",
        "---\n",
        "\n",
        "\n",
        "21)\tWhat are the different types of ANOVA tests?\n",
        "\n",
        "Ans -: There are several types of ANOVA, each suited for different experimental designs: one-way ANOVA tests differences between groups based on a single factor, two-way ANOVA examines the effects of two factors and can also study the interaction between them, and repeated measures ANOVA is used when the same subjects are used in all groups.\n",
        "\n",
        "---\n",
        "\n",
        "\n",
        "22)\tWhat is the F-test, and how does it relate to hypothesis testing?\n",
        "\n",
        "Ans -: The F-test is used to determine if the variances of two populations are equal and is commonly used in the context of comparing statistical models. In ANOVA, the F-test helps determine whether there are significant differences between group means in the experiment. The F-test looks at the ratio of the variance between groups to the variance within groups; a high F-ratio suggests significant differences between group means relative to the variation within groups.\n",
        "\n",
        "\n",
        "---\n",
        "\n",
        "\n",
        "\n",
        "\n",
        "\n"
      ],
      "metadata": {
        "id": "Mbp_nzV04c-a"
      }
    },
    {
      "cell_type": "markdown",
      "source": [
        "# Practical Questions"
      ],
      "metadata": {
        "id": "mTLC7yCF6HiR"
      }
    },
    {
      "cell_type": "markdown",
      "source": [
        "1)Write a Python program to perform a Z-test for comparing a sample mean to a known population mean and interpret the results?"
      ],
      "metadata": {
        "id": "hFoBQvIa64Mf"
      }
    },
    {
      "cell_type": "code",
      "source": [
        "from statsmodels.stats.weightstats import ztest\n",
        "import numpy as np\n",
        "\n",
        "sample_data = np.random.normal(loc=75, scale=10, size=30)  # Sample mean around 75, SD=10, n=30\n",
        "population_mean = 70\n",
        "\n",
        "z_stat, p_value = ztest(sample_data, value=population_mean)\n",
        "\n",
        "print(\"Z-statistic:\", z_stat)\n",
        "print(\"P-value:\", p_value)\n",
        "if p_value < 0.05:\n",
        "    print(\"Reject the null hypothesis\")\n",
        "else:\n",
        "    print(\"Fail to reject the null hypothesis\")\n"
      ],
      "metadata": {
        "colab": {
          "base_uri": "https://localhost:8080/"
        },
        "id": "FWX7qnaQ61sK",
        "outputId": "d042b79d-1d29-4e5c-941b-65ba964c03dd"
      },
      "execution_count": 3,
      "outputs": [
        {
          "output_type": "stream",
          "name": "stdout",
          "text": [
            "Z-statistic: 5.210295886446646\n",
            "P-value: 1.88539702477881e-07\n",
            "Reject the null hypothesis\n"
          ]
        }
      ]
    },
    {
      "cell_type": "markdown",
      "source": [
        "2)Simulate random data to perform hypothesis testing and calculate the corresponding P-value using Python?"
      ],
      "metadata": {
        "id": "v2gQdl8F7ChC"
      }
    },
    {
      "cell_type": "code",
      "source": [
        "import numpy as np\n",
        "from scipy.stats import ttest_1samp\n",
        "\n",
        "data = np.random.normal(loc=50, scale=15, size=40)\n",
        "\n",
        "t_stat, p_value = ttest_1samp(data, popmean=45)\n",
        "\n",
        "print(\"T-statistic:\", t_stat)\n",
        "print(\"P-value:\", p_value)\n"
      ],
      "metadata": {
        "colab": {
          "base_uri": "https://localhost:8080/"
        },
        "id": "Pcl08PJY7G04",
        "outputId": "7073fb2e-c153-4778-c86e-d88605940686"
      },
      "execution_count": 2,
      "outputs": [
        {
          "output_type": "stream",
          "name": "stdout",
          "text": [
            "T-statistic: 4.121919942119225\n",
            "P-value: 0.00018986620092247897\n"
          ]
        }
      ]
    },
    {
      "cell_type": "markdown",
      "source": [
        "3)Implement a one-sample Z-test using Python to compare the sample mean with the population mean?"
      ],
      "metadata": {
        "id": "w-UmFklj7eIr"
      }
    },
    {
      "cell_type": "code",
      "source": [
        "import numpy as np\n",
        "from statsmodels.stats.weightstats import ztest\n",
        "\n",
        "np.random.seed(0)\n",
        "sample_data = np.random.normal(75, 10, 50)\n",
        "\n",
        "population_mean = 70\n",
        "\n",
        "z_statistic, p_value = ztest(sample_data, value=population_mean)\n",
        "\n",
        "print(\"Z-statistic:\", z_statistic)\n",
        "print(\"P-value:\", p_value)\n",
        "\n",
        "alpha = 0.05\n",
        "if p_value < alpha:\n",
        "    print(\"Reject the null hypothesis - suggest the sample mean and the population mean are not equal\")\n",
        "else:\n",
        "    print(\"Fail to reject the null hypothesis - suggest there is not enough evidence to conclude the sample mean and the population mean are different\")\n"
      ],
      "metadata": {
        "colab": {
          "base_uri": "https://localhost:8080/"
        },
        "id": "NmbszvKx7fia",
        "outputId": "ca19aa15-04e4-4cd7-d67c-267b007df24d"
      },
      "execution_count": 4,
      "outputs": [
        {
          "output_type": "stream",
          "name": "stdout",
          "text": [
            "Z-statistic: 3.9838503723951364\n",
            "P-value: 6.7807575889934e-05\n",
            "Reject the null hypothesis - suggest the sample mean and the population mean are not equal\n"
          ]
        }
      ]
    },
    {
      "cell_type": "markdown",
      "source": [
        "4)Perform a two-tailed Z-test using Python and visualize the decision region on a plot."
      ],
      "metadata": {
        "id": "339wHknB70gG"
      }
    },
    {
      "cell_type": "code",
      "source": [
        "import matplotlib.pyplot as plt\n",
        "\n",
        "plt.figure(figsize=(10, 6))\n",
        "plt.hist(sample_data, bins=15, alpha=0.7, label='Sample Data')\n",
        "plt.axvline(population_mean, color='r', linestyle='dashed', linewidth=2, label='Population Mean')\n",
        "plt.legend()\n",
        "plt.show()\n"
      ],
      "metadata": {
        "colab": {
          "base_uri": "https://localhost:8080/",
          "height": 522
        },
        "id": "0Oto8KuU74CU",
        "outputId": "9a68a761-23e6-44da-ec4c-0d8f9e0256dc"
      },
      "execution_count": 5,
      "outputs": [
        {
          "output_type": "display_data",
          "data": {
            "text/plain": [
              "<Figure size 1000x600 with 1 Axes>"
            ],
            "image/png": "[encoded data removed]"
          },
          "metadata": {}
        }
      ]
    },
    {
      "cell_type": "markdown",
      "source": [
        "5)Create a Python function that calculates and visualizes Type 1 and Type 2 errors during hypothesis testing."
      ],
      "metadata": {
        "id": "40WSyams8NzG"
      }
    },
    {
      "cell_type": "code",
      "source": [
        "import numpy as np\n",
        "import matplotlib.pyplot as plt\n",
        "from statsmodels.stats.weightstats import ztest\n",
        "\n",
        "def simulate_errors(pop_mean, pop_std, sample_size, effect_size, alpha, simulations):\n",
        "    type1_errors = 0\n",
        "    type2_errors = 0\n",
        "\n",
        "    for _ in range(simulations):\n",
        "        null_data = np.random.normal(pop_mean, pop_std, sample_size)\n",
        "        z_stat, p_value = ztest(null_data, value=pop_mean)\n",
        "        if p_value < alpha:\n",
        "            type1_errors += 1\n",
        "\n",
        "        alt_data = np.random.normal(pop_mean + effect_size, pop_std, sample_size)\n",
        "        z_stat, p_value = ztest(alt_data, value=pop_mean)\n",
        "        if p_value >= alpha:\n",
        "            type2_errors += 1\n",
        "\n",
        "    plt.figure(figsize=(10, 5))\n",
        "    plt.bar(['Type I Error', 'Type II Error'], [type1_errors / simulations, type2_errors / simulations], color=['red', 'blue'])\n",
        "    plt.ylabel('Proportion of Errors')\n",
        "    plt.title(f'Type I and Type II Errors over {simulations} Simulations\\nAlpha = {alpha}, Effect Size = {effect_size}')\n",
        "    plt.ylim(0, 1)\n",
        "    plt.show()\n",
        "\n",
        "    print(f\"Type I Error Rate: {type1_errors / simulations}\")\n",
        "    print(f\"Type II Error Rate: {type2_errors / simulations}\")\n",
        "\n",
        "# Example usage\n",
        "simulate_errors(pop_mean=100, pop_std=15, sample_size=30, effect_size=5, alpha=0.05, simulations=1000)\n"
      ],
      "metadata": {
        "colab": {
          "base_uri": "https://localhost:8080/",
          "height": 523
        },
        "id": "W0-yY4-b8W3l",
        "outputId": "6e4e95e2-dbf0-461c-b11f-1114cf1e497a"
      },
      "execution_count": 12,
      "outputs": [
        {
          "output_type": "display_data",
          "data": {
            "text/plain": [
              "<Figure size 1000x500 with 1 Axes>"
            ],
            "image/png": "[encoded data removed]"
          },
          "metadata": {}
        },
        {
          "output_type": "stream",
          "name": "stdout",
          "text": [
            "Type I Error Rate: 0.056\n",
            "Type II Error Rate: 0.533\n"
          ]
        }
      ]
    },
    {
      "cell_type": "markdown",
      "source": [
        "6)Write a Python program to perform an independent T-test and interpret the results."
      ],
      "metadata": {
        "id": "rYOzawcz9Ktl"
      }
    },
    {
      "cell_type": "code",
      "source": [
        "from scipy.stats import ttest_ind\n",
        "\n",
        "group1 = np.random.normal(50, 10, 25)\n",
        "group2 = np.random.normal(55, 10, 25)\n",
        "\n",
        "t_stat, p_value = ttest_ind(group1, group2)\n",
        "\n",
        "print(\"T-statistic:\", t_stat)\n",
        "print(\"P-value:\", p_value)\n"
      ],
      "metadata": {
        "colab": {
          "base_uri": "https://localhost:8080/"
        },
        "id": "BxNJFtDG9Nya",
        "outputId": "d8d4aaf4-eeca-4aed-b2c2-5b7a8492a55d"
      },
      "execution_count": 13,
      "outputs": [
        {
          "output_type": "stream",
          "name": "stdout",
          "text": [
            "T-statistic: -0.5398347903139556\n",
            "P-value: 0.591806762218291\n"
          ]
        }
      ]
    },
    {
      "cell_type": "markdown",
      "source": [
        "7)Perform a paired sample T-test using Python and visualize the comparison results."
      ],
      "metadata": {
        "id": "I1GkfhVf9Zt5"
      }
    },
    {
      "cell_type": "code",
      "source": [
        "from scipy.stats import ttest_rel\n",
        "import matplotlib.pyplot as plt\n",
        "\n",
        "before = np.random.normal(60, 10, 30)\n",
        "after = before + np.random.normal(-2, 5, 30)\n",
        "\n",
        "t_stat, p_value = ttest_rel(before, after)\n",
        "\n",
        "plt.figure(figsize=(10, 6))\n",
        "plt.scatter(range(len(before)), before, color='blue', label='Before')\n",
        "plt.scatter(range(len(after)), after, color='red', label='After')\n",
        "plt.legend()\n",
        "plt.title('Paired T-test Data')\n",
        "plt.show()\n"
      ],
      "metadata": {
        "colab": {
          "base_uri": "https://localhost:8080/",
          "height": 545
        },
        "id": "h5sxbAUA9c_0",
        "outputId": "ea8b0819-f040-4fda-f262-026eded169e3"
      },
      "execution_count": 14,
      "outputs": [
        {
          "output_type": "display_data",
          "data": {
            "text/plain": [
              "<Figure size 1000x600 with 1 Axes>"
            ],
            "image/png": "[encoded data removed]"
          },
          "metadata": {}
        }
      ]
    },
    {
      "cell_type": "markdown",
      "source": [
        "8)Simulate data and perform both Z-test and T-test, then compare the results using Python."
      ],
      "metadata": {
        "id": "_5Z5-3Uu9oIB"
      }
    },
    {
      "cell_type": "code",
      "source": [
        "import numpy as np\n",
        "import matplotlib.pyplot as plt\n",
        "from scipy.stats import ttest_1samp\n",
        "from statsmodels.stats.weightstats import ztest\n",
        "np.random.seed(0)\n",
        "\n",
        "sample_size = 30\n",
        "population_mean = 50\n",
        "population_std_dev = 10\n",
        "\n",
        "data = np.random.normal(population_mean, population_std_dev, sample_size)\n",
        "z_stat, z_p_value = ztest(data, value=population_mean)\n",
        "\n",
        "# T-test\n",
        "t_stat, t_p_value = ttest_1samp(data, popmean=population_mean)\n",
        "\n",
        "print(\"Z-test Results:\")\n",
        "print(\"Z-statistic:\", z_stat)\n",
        "print(\"P-value:\", z_p_value)\n",
        "\n",
        "print(\"\\nT-test Results:\")\n",
        "print(\"T-statistic:\", t_stat)\n",
        "print(\"P-value:\", t_p_value)\n",
        "\n",
        "plt.figure(figsize=(8, 6))\n",
        "plt.bar('Z-test', z_p_value, color='blue', alpha=0.7, label=f'Z-test P-value: {z_p_value:.5f}')\n",
        "plt.bar('T-test', t_p_value, color='green', alpha=0.7, label=f'T-test P-value: {t_p_value:.5f}')\n",
        "plt.axhline(0.05, color='red', linestyle='dashed', linewidth=1)  # significance level\n",
        "plt.ylim(0, max(z_p_value, t_p_value) + 0.05)\n",
        "plt.ylabel('P-value')\n",
        "plt.title('Comparison of Z-test and T-test P-values')\n",
        "plt.legend()\n",
        "plt.show()\n"
      ],
      "metadata": {
        "colab": {
          "base_uri": "https://localhost:8080/",
          "height": 667
        },
        "id": "shafZGyQ9vv0",
        "outputId": "08868966-b0a5-485f-a0fa-f2dc3b7fea0d"
      },
      "execution_count": 17,
      "outputs": [
        {
          "output_type": "stream",
          "name": "stdout",
          "text": [
            "Z-test Results:\n",
            "Z-statistic: 2.204455162760573\n",
            "P-value: 0.027492349902893006\n",
            "\n",
            "T-test Results:\n",
            "T-statistic: 2.2044551627605724\n",
            "P-value: 0.035580270712694984\n"
          ]
        },
        {
          "output_type": "display_data",
          "data": {
            "text/plain": [
              "<Figure size 800x600 with 1 Axes>"
            ],
            "image/png": "[encoded data removed]"
          },
          "metadata": {}
        }
      ]
    },
    {
      "cell_type": "markdown",
      "source": [
        "9)Write a Python function to calculate the confidence interval for a sample mean and explain its significance."
      ],
      "metadata": {
        "id": "3UXOC5MV-KdX"
      }
    },
    {
      "cell_type": "code",
      "source": [
        "def confidence_interval(data, confidence=0.95):\n",
        "    import numpy as np\n",
        "    import scipy.stats as stats\n",
        "    mean = np.mean(data)\n",
        "    sem = stats.sem(data)  # Standard error of the mean\n",
        "    interval = sem * stats.t.ppf((1 + confidence) / 2., len(data)-1)\n",
        "    return mean - interval, mean + interval\n",
        "\n",
        "sample_data = np.random.normal(50, 10, 100)\n",
        "ci = confidence_interval(sample_data)\n",
        "print(\"Confidence Interval:\", ci)\n"
      ],
      "metadata": {
        "colab": {
          "base_uri": "https://localhost:8080/"
        },
        "id": "6i7cx-xF-SpG",
        "outputId": "0a787d7e-afa8-4cc4-943f-e3d53f7bcd24"
      },
      "execution_count": 18,
      "outputs": [
        {
          "output_type": "stream",
          "name": "stdout",
          "text": [
            "Confidence Interval: (48.52507285583761, 52.51073300356087)\n"
          ]
        }
      ]
    },
    {
      "cell_type": "markdown",
      "source": [
        "10)Write a Python program to calculate the margin of error for a given confidence level using sample data."
      ],
      "metadata": {
        "id": "kjdbvJgG-kco"
      }
    },
    {
      "cell_type": "code",
      "source": [
        "import numpy as np\n",
        "import scipy.stats as stats\n",
        "\n",
        "data = np.random.normal(loc=100, scale=15, size=50)\n",
        "confidence_level = 0.95\n",
        "\n",
        "stderr = stats.sem(data)\n",
        "z_score = stats.norm.ppf((1 + confidence_level) / 2)\n",
        "margin_of_error = z_score * stderr\n",
        "\n",
        "print(\"Margin of Error:\", margin_of_error)\n"
      ],
      "metadata": {
        "colab": {
          "base_uri": "https://localhost:8080/"
        },
        "id": "aAWtDdkj-nsX",
        "outputId": "37f70372-211c-4604-ca3f-e1dadb449f0f"
      },
      "execution_count": 19,
      "outputs": [
        {
          "output_type": "stream",
          "name": "stdout",
          "text": [
            "Margin of Error: 3.8881956784869782\n"
          ]
        }
      ]
    },
    {
      "cell_type": "markdown",
      "source": [
        "11) Implement a Bayesian inference method using Bayes' Theorem in Python and explain the process."
      ],
      "metadata": {
        "id": "AwntBDZB-s1l"
      }
    },
    {
      "cell_type": "code",
      "source": [
        "def bayesian_inference(prior, likelihood, evidence):\n",
        "\n",
        "    posterior = (likelihood * prior) / evidence\n",
        "    return posterior\n",
        "\n",
        "prior = 0.3\n",
        "likelihood = 0.8\n",
        "evidence = 0.5\n",
        "\n",
        "posterior = bayesian_inference(prior, likelihood, evidence)\n",
        "print(\"Posterior Probability:\", posterior)\n"
      ],
      "metadata": {
        "colab": {
          "base_uri": "https://localhost:8080/"
        },
        "id": "Ua-TI37W-vLS",
        "outputId": "cb6eaff8-83c7-4160-be41-17fe3fce1813"
      },
      "execution_count": 21,
      "outputs": [
        {
          "output_type": "stream",
          "name": "stdout",
          "text": [
            "Posterior Probability: 0.48\n"
          ]
        }
      ]
    },
    {
      "cell_type": "markdown",
      "source": [
        "12)Perform a Chi-square test for independence between two categorical variables in Python."
      ],
      "metadata": {
        "id": "0hG8B2Eg-6IM"
      }
    },
    {
      "cell_type": "code",
      "source": [
        "import numpy as np\n",
        "from scipy.stats import chi2_contingency\n",
        "\n",
        "data = np.array([[10, 20], [20, 30]])\n",
        "\n",
        "chi2, p_value, dof, expected = chi2_contingency(data)\n",
        "\n",
        "print(\"Chi-square Statistic:\", chi2)\n",
        "print(\"P-value:\", p_value)\n",
        "print(\"Degrees of Freedom:\", dof)\n",
        "print(\"Expected Frequencies:\\n\", expected)\n"
      ],
      "metadata": {
        "colab": {
          "base_uri": "https://localhost:8080/"
        },
        "id": "WjxGjV_L-8bq",
        "outputId": "a2768a0c-c42f-4715-bbb4-56e82f8ca41a"
      },
      "execution_count": 22,
      "outputs": [
        {
          "output_type": "stream",
          "name": "stdout",
          "text": [
            "Chi-square Statistic: 0.128\n",
            "P-value: 0.7205147871362552\n",
            "Degrees of Freedom: 1\n",
            "Expected Frequencies:\n",
            " [[11.25 18.75]\n",
            " [18.75 31.25]]\n"
          ]
        }
      ]
    },
    {
      "cell_type": "markdown",
      "source": [
        "13)Write a Python program to calculate the expected frequencies for a Chi-square test based on observed data."
      ],
      "metadata": {
        "id": "_nne232P-_Kt"
      }
    },
    {
      "cell_type": "code",
      "source": [
        "\n",
        "expected_freq = expected\n",
        "print(\"Expected Frequencies:\\n\", expected_freq)\n"
      ],
      "metadata": {
        "colab": {
          "base_uri": "https://localhost:8080/"
        },
        "id": "ZXqGLria_EnT",
        "outputId": "d0b29935-23b9-4821-c88b-375b30465340"
      },
      "execution_count": 24,
      "outputs": [
        {
          "output_type": "stream",
          "name": "stdout",
          "text": [
            "Expected Frequencies:\n",
            " [[11.25 18.75]\n",
            " [18.75 31.25]]\n"
          ]
        }
      ]
    },
    {
      "cell_type": "markdown",
      "source": [
        "14)Perform a goodness-of-fit test using Python to compare the observed data to an expected distribution."
      ],
      "metadata": {
        "id": "n_Y3VUs0_PCS"
      }
    },
    {
      "cell_type": "code",
      "source": [
        "from scipy.stats import chisquare\n",
        "\n",
        "observed = np.array([18, 32])\n",
        "\n",
        "expected = np.array([25, 25])\n",
        "\n",
        "chi_stat, p_val = chisquare(f_obs=observed, f_exp=expected)\n",
        "\n",
        "print(\"Chi-square Statistic:\", chi_stat)\n",
        "print(\"P-value:\", p_val)\n"
      ],
      "metadata": {
        "colab": {
          "base_uri": "https://localhost:8080/"
        },
        "id": "C1Bn2t9Q_SAp",
        "outputId": "ae839c63-80b5-4db4-9abf-b42d5e7e2542"
      },
      "execution_count": 25,
      "outputs": [
        {
          "output_type": "stream",
          "name": "stdout",
          "text": [
            "Chi-square Statistic: 3.92\n",
            "P-value: 0.04771488023735101\n"
          ]
        }
      ]
    },
    {
      "cell_type": "markdown",
      "source": [
        "15)Create a Python script to simulate and visualize the Chi-square distribution and discuss its characteristics."
      ],
      "metadata": {
        "id": "qELYLG9X_ZtS"
      }
    },
    {
      "cell_type": "code",
      "source": [
        "import matplotlib.pyplot as plt\n",
        "import numpy as np\n",
        "from scipy.stats import chi2\n",
        "\n",
        "df = 5\n",
        "chi_square_values = np.random.chisquare(df=2, size=1000)\n",
        "\n",
        "plt.hist(chi_square_values, bins=30, density=True)\n",
        "plt.title('Chi-square Distribution with 2 degrees of freedom')\n",
        "plt.xlabel('Value')\n",
        "plt.ylabel('Frequency')\n",
        "plt.show()\n"
      ],
      "metadata": {
        "colab": {
          "base_uri": "https://localhost:8080/",
          "height": 472
        },
        "id": "kMfvuC0Y_daq",
        "outputId": "19b619f4-c302-41ab-a249-4768b9d3649f"
      },
      "execution_count": 26,
      "outputs": [
        {
          "output_type": "display_data",
          "data": {
            "text/plain": [
              "<Figure size 640x480 with 1 Axes>"
            ],
            "image/png": "[encoded data removed]"
          },
          "metadata": {}
        }
      ]
    },
    {
      "cell_type": "markdown",
      "source": [
        "16. Implement an F-test using Python to compare the variances of two random samples."
      ],
      "metadata": {
        "id": "aqREPjrO_txw"
      }
    },
    {
      "cell_type": "code",
      "source": [
        "from scipy.stats import f_oneway\n",
        "\n",
        "data1 = np.random.normal(100, 10, 100)\n",
        "data2 = np.random.normal(100, 20, 100)\n",
        "\n",
        "F_statistic, p_value = f_oneway(data1, data2)\n",
        "\n",
        "print(\"F-statistic:\", F_statistic)\n",
        "print(\"P-value:\", p_value)\n"
      ],
      "metadata": {
        "colab": {
          "base_uri": "https://localhost:8080/"
        },
        "id": "I0O7lW0x_uuE",
        "outputId": "3ba7210a-e13d-4cef-c879-96797b83256c"
      },
      "execution_count": 27,
      "outputs": [
        {
          "output_type": "stream",
          "name": "stdout",
          "text": [
            "F-statistic: 0.004560438250420655\n",
            "P-value: 0.9462271143432629\n"
          ]
        }
      ]
    },
    {
      "cell_type": "markdown",
      "source": [
        "17. Write a Python program to perform an ANOVA test to compare means between multiple groups and interpret the results."
      ],
      "metadata": {
        "id": "jAkFOdlI_1Fc"
      }
    },
    {
      "cell_type": "code",
      "source": [
        "\n",
        "F_statistic, p_value = f_oneway(data1, data2)\n",
        "\n",
        "print(\"F-statistic:\", F_statistic)\n",
        "print(\"P-value:\", p_value)\n",
        "if p_value < 0.05:\n",
        "    print(\"There is a statistically significant difference between groups.\")\n",
        "else:\n",
        "    print(\"No significant difference between groups.\")\n"
      ],
      "metadata": {
        "colab": {
          "base_uri": "https://localhost:8080/"
        },
        "id": "l1Et2mF0_2rE",
        "outputId": "bc750670-371a-48e8-e922-2978afd96e4c"
      },
      "execution_count": 28,
      "outputs": [
        {
          "output_type": "stream",
          "name": "stdout",
          "text": [
            "F-statistic: 0.004560438250420655\n",
            "P-value: 0.9462271143432629\n",
            "No significant difference between groups.\n"
          ]
        }
      ]
    },
    {
      "cell_type": "markdown",
      "source": [
        "18. Perform a one-way ANOVA test using Python to compare the means of different groups and plot the results."
      ],
      "metadata": {
        "id": "8SbXAz52_72j"
      }
    },
    {
      "cell_type": "code",
      "source": [
        "import matplotlib.pyplot as plt\n",
        "\n",
        "F_statistic, p_value = f_oneway(data1, data2)\n",
        "\n",
        "plt.boxplot([data1, data2])\n",
        "plt.xticks([1, 2], ['Group 1', 'Group 2'])\n",
        "plt.ylabel('Values')\n",
        "plt.title('Group Comparisons')\n",
        "plt.show()\n"
      ],
      "metadata": {
        "colab": {
          "base_uri": "https://localhost:8080/",
          "height": 452
        },
        "id": "cN7EC-rB_9q8",
        "outputId": "72ee6b23-eb14-4161-b93a-d4ccb2e0cee4"
      },
      "execution_count": 29,
      "outputs": [
        {
          "output_type": "display_data",
          "data": {
            "text/plain": [
              "<Figure size 640x480 with 1 Axes>"
            ],
            "image/png": "[encoded data removed]"
          },
          "metadata": {}
        }
      ]
    },
    {
      "cell_type": "markdown",
      "source": [
        "19. Write a Python function to check the assumptions (normality, independence, and equal variance) for ANOVA."
      ],
      "metadata": {
        "id": "w439wCCUAB_8"
      }
    },
    {
      "cell_type": "code",
      "source": [
        "from scipy.stats import shapiro, levene\n",
        "\n",
        "def check_anova_assumptions(*groups):\n",
        "\n",
        "    for i, group in enumerate(groups, 1):\n",
        "        stat, p = shapiro(group)\n",
        "        print(f\"Group {i} - Normality Test P-value: {p}\")\n",
        "\n",
        "    stat, p = levene(*groups)\n",
        "    print(f\"Equal Variance Test P-value: {p}\")\n",
        "check_anova_assumptions(data1, data2)\n"
      ],
      "metadata": {
        "colab": {
          "base_uri": "https://localhost:8080/"
        },
        "id": "bfDsyNMxADgt",
        "outputId": "14a0a862-9672-4028-a5cd-bb9002dc3c9d"
      },
      "execution_count": 30,
      "outputs": [
        {
          "output_type": "stream",
          "name": "stdout",
          "text": [
            "Group 1 - Normality Test P-value: 0.3970957189662737\n",
            "Group 2 - Normality Test P-value: 0.4393098756296665\n",
            "Equal Variance Test P-value: 9.780049976125198e-09\n"
          ]
        }
      ]
    },
    {
      "cell_type": "markdown",
      "source": [
        "20. Perform a two-way ANOVA test using Python to study the interaction between two factors and visualize the results."
      ],
      "metadata": {
        "id": "uh8nrznQAItA"
      }
    },
    {
      "cell_type": "code",
      "source": [
        "import pandas as pd\n",
        "from statsmodels.formula.api import ols\n",
        "\n",
        "df = pd.DataFrame({\n",
        "    'response': np.concatenate([data1, data2]),\n",
        "    'factor1': ['A']*100 + ['B']*100,\n",
        "    'factor2': ['X']*50 + ['Y']*50 + ['X']*50 + ['Y']*50\n",
        "})\n",
        "\n",
        "model = ols('response ~ C(factor1) + C(factor2) + C(factor1):C(factor2)', data=df).fit()\n",
        "\n",
        "anova_results = sm.stats.anova_lm(model, typ=2)\n",
        "print(anova_results)\n"
      ],
      "metadata": {
        "colab": {
          "base_uri": "https://localhost:8080/"
        },
        "id": "NWCPfq9BAKSc",
        "outputId": "015d0930-2994-4298-94b3-010909e15187"
      },
      "execution_count": 34,
      "outputs": [
        {
          "output_type": "stream",
          "name": "stdout",
          "text": [
            "                             sum_sq     df         F    PR(>F)\n",
            "C(factor1)                 0.988588    1.0  0.004551  0.946282\n",
            "C(factor2)                 5.053710    1.0  0.023266  0.878923\n",
            "C(factor1):C(factor2)    342.911948    1.0  1.578701  0.210443\n",
            "Residual               42573.436065  196.0       NaN       NaN\n"
          ]
        }
      ]
    },
    {
      "cell_type": "markdown",
      "source": [
        "21. Write a Python program to visualize the F-distribution and discuss its use in hypothesis testing."
      ],
      "metadata": {
        "id": "YMixAqWXAiNB"
      }
    },
    {
      "cell_type": "code",
      "source": [
        "\n",
        "f_values = np.random.f(dfnum=10, dfden=10, size=1000)\n",
        "plt.hist(f_values, bins=30, density=True, alpha=0.75)\n",
        "plt.xlabel('F value')\n",
        "plt.ylabel('Probability')\n",
        "plt.title('F-Distribution')\n",
        "plt.show()\n"
      ],
      "metadata": {
        "colab": {
          "base_uri": "https://localhost:8080/",
          "height": 472
        },
        "id": "dVIcnMaXAkpR",
        "outputId": "e5b5ffa2-c7c1-4e93-882c-f9881717a93b"
      },
      "execution_count": 36,
      "outputs": [
        {
          "output_type": "display_data",
          "data": {
            "text/plain": [
              "<Figure size 640x480 with 1 Axes>"
            ],
            "image/png": "[encoded data removed]"
          },
          "metadata": {}
        }
      ]
    },
    {
      "cell_type": "markdown",
      "source": [
        "22. Perform a one-way ANOVA test in Python and visualize the results with boxplots to compare group means."
      ],
      "metadata": {
        "id": "z4EBJ6ahAqSV"
      }
    },
    {
      "cell_type": "code",
      "source": [
        "\n",
        "F_statistic, p_value = f_oneway(data1, data2)\n",
        "plt.boxplot([data1, data2])\n",
        "plt.xticks([1, 2], ['Group 1', 'Group 2'])\n",
        "plt.ylabel('Values')\n",
        "plt.title('One-way ANOVA: F-statistic={:.2f}, p-value={:.3f}'.format(F_statistic, p_value))\n",
        "plt.show()\n"
      ],
      "metadata": {
        "colab": {
          "base_uri": "https://localhost:8080/",
          "height": 452
        },
        "id": "SbhEBemzAraK",
        "outputId": "4279f230-81f0-40cd-8549-203ccfccc12f"
      },
      "execution_count": 38,
      "outputs": [
        {
          "output_type": "display_data",
          "data": {
            "text/plain": [
              "<Figure size 640x480 with 1 Axes>"
            ],
            "image/png": "[encoded data removed]"
          },
          "metadata": {}
        }
      ]
    },
    {
      "cell_type": "markdown",
      "source": [
        "23. Simulate random data from a normal distribution, then perform hypothesis testing to evaluate the means."
      ],
      "metadata": {
        "id": "LJ4nIj9iAwKc"
      }
    },
    {
      "cell_type": "code",
      "source": [
        "# Simulate and test\n",
        "data3 = np.random.normal(110, 15, 100)  # Different mean\n",
        "t_stat, p_val = ttest_1samp(data3, 100)\n",
        "print(\"T-statistic:\", t_stat)\n",
        "print(\"P-value:\", p_val)\n"
      ],
      "metadata": {
        "colab": {
          "base_uri": "https://localhost:8080/"
        },
        "id": "sRjxXh4vAxrq",
        "outputId": "d0a7e225-dbd0-453d-becc-aa9769f76903"
      },
      "execution_count": 39,
      "outputs": [
        {
          "output_type": "stream",
          "name": "stdout",
          "text": [
            "T-statistic: 4.531464596222659\n",
            "P-value: 1.6401523815382062e-05\n"
          ]
        }
      ]
    },
    {
      "cell_type": "markdown",
      "source": [
        "24. Perform a hypothesis test for population variance using a Chi-square distribution and interpret the results."
      ],
      "metadata": {
        "id": "WjOxkZO_A0H0"
      }
    },
    {
      "cell_type": "code",
      "source": [
        "from scipy.stats import chi2\n",
        "\n",
        "# Hypothesis testing for variance\n",
        "observed_variance = np.var(data1)\n",
        "expected_variance = 100\n",
        "chi_stat = (len(data1) - 1) * observed_variance / expected_variance\n",
        "p_value = 1 - chi2.cdf(chi_stat, df=len(data1)-1)\n",
        "\n",
        "print(\"Chi-square statistic for variance:\", chi_stat)\n",
        "print(\"P-value:\", p_value)\n"
      ],
      "metadata": {
        "colab": {
          "base_uri": "https://localhost:8080/"
        },
        "id": "PtOgc6fMA1db",
        "outputId": "7a5240e2-579d-43fe-db04-ff998661fec9"
      },
      "execution_count": 40,
      "outputs": [
        {
          "output_type": "stream",
          "name": "stdout",
          "text": [
            "Chi-square statistic for variance: 76.41531627039892\n",
            "P-value: 0.9552525992436488\n"
          ]
        }
      ]
    },
    {
      "cell_type": "markdown",
      "source": [
        "25. Write a Python script to perform a Z-test for comparing proportions between two datasets or groups."
      ],
      "metadata": {
        "id": "gDXrqmSRA7L6"
      }
    },
    {
      "cell_type": "code",
      "source": [
        "from statsmodels.stats.proportion import proportions_ztest\n",
        "\n",
        "count = np.array([75, 30])\n",
        "nobs = np.array([100, 100])\n",
        "\n",
        "stat, pval = proportions_ztest(count, nobs)\n",
        "print('Z-test for proportions: Z={0:0.3f}, p-value={1:0.3f}'.format(stat, pval))\n"
      ],
      "metadata": {
        "colab": {
          "base_uri": "https://localhost:8080/"
        },
        "id": "eVtQwG2TA83W",
        "outputId": "3f6da5de-489f-489a-eafe-d6d3e6984ecb"
      },
      "execution_count": 41,
      "outputs": [
        {
          "output_type": "stream",
          "name": "stdout",
          "text": [
            "Z-test for proportions: Z=6.372, p-value=0.000\n"
          ]
        }
      ]
    },
    {
      "cell_type": "markdown",
      "source": [
        "26. Implement an F-test for comparing the variances of two datasets, then interpret and visualize the results."
      ],
      "metadata": {
        "id": "UNc-F8isBBVB"
      }
    },
    {
      "cell_type": "code",
      "source": [
        "\n",
        "f_value = np.var(data1) / np.var(data2)\n",
        "df1 = len(data1) - 1\n",
        "df2 = len(data2) - 1\n",
        "p_value = 1 - stats.f.cdf(f_value, df1, df2)\n",
        "\n",
        "print(\"F-value:\", f_value)\n",
        "print(\"P-value:\", p_value)\n",
        "\n",
        "plt.figure(figsize=(6, 4))\n",
        "plt.bar(['Data1', 'Data2'], [np.var(data1), np.var(data2)], color=['blue', 'green'])\n",
        "plt.ylabel('Variance')\n",
        "plt.title('Comparison of Variances: F-value={:.2f}, p-value={:.3f}'.format(f_value, p_value))\n",
        "plt.show()\n"
      ],
      "metadata": {
        "colab": {
          "base_uri": "https://localhost:8080/",
          "height": 426
        },
        "id": "Fw4Hz0a2BCqz",
        "outputId": "15bda9f8-3764-465b-e213-04535ad73e44"
      },
      "execution_count": 43,
      "outputs": [
        {
          "output_type": "stream",
          "name": "stdout",
          "text": [
            "F-value: 0.21926507236540138\n",
            "P-value: 0.9999999999997209\n"
          ]
        },
        {
          "output_type": "display_data",
          "data": {
            "text/plain": [
              "<Figure size 600x400 with 1 Axes>"
            ],
            "image/png": "[encoded data removed]"
          },
          "metadata": {}
        }
      ]
    },
    {
      "cell_type": "markdown",
      "source": [
        "27. Perform a Chi-square test for goodness of fit with simulated data and analyze the results."
      ],
      "metadata": {
        "id": "BzjA_UgNBIsQ"
      }
    },
    {
      "cell_type": "code",
      "source": [
        "import numpy as np\n",
        "from scipy.stats import chisquare\n",
        "\n",
        "observed = np.random.poisson(lam=3, size=100)\n",
        "\n",
        "values, counts = np.unique(observed, return_counts=True)\n",
        "\n",
        "expected = np.full_like(counts, fill_value=np.mean(counts))\n",
        "\n",
        "expected = expected * (np.sum(counts) / np.sum(expected))\n",
        "\n",
        "chi_stat, p_val = chisquare(f_obs=counts, f_exp=expected)\n",
        "\n",
        "print(\"Chi-square Statistic:\", chi_stat)\n",
        "print(\"P-value:\", p_val)\n"
      ],
      "metadata": {
        "colab": {
          "base_uri": "https://localhost:8080/"
        },
        "id": "DNltAsCOBK3E",
        "outputId": "74fd8403-edd1-4055-afa0-c584a5d6f79a"
      },
      "execution_count": 49,
      "outputs": [
        {
          "output_type": "stream",
          "name": "stdout",
          "text": [
            "Chi-square Statistic: 56.599999999999994\n",
            "P-value: 2.1550987861439064e-09\n"
          ]
        }
      ]
    }
  ]
}

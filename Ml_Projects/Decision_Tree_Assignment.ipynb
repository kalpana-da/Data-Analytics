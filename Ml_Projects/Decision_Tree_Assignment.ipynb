{
 "cells": [
  {
   "cell_type": "code",
   "execution_count": null,
   "id": "00e1b74b-2281-4b0a-87cf-e8de2b6a12e2",
   "metadata": {},
   "outputs": [],
   "source": [
    "######################## Theory questions ######################"
   ]
  },
  {
   "cell_type": "markdown",
   "id": "710769ca",
   "metadata": {},
   "source": [
    "### 1. What is a Decision Tree, and how does it work?\n",
    "\n",
    "A Decision Tree is a flowchart-like structure used in machine learning for both classification and regression tasks. It splits the dataset into subsets based on the value of input features. Each internal node represents a decision rule on a feature, each branch represents an outcome of the decision, and each leaf node represents a predicted result. The tree continues to split until a stopping condition is met such as maximum depth, minimum samples per leaf, or no further information gain."
   ]
  },
  {
   "cell_type": "markdown",
   "id": "9c5fd083",
   "metadata": {},
   "source": [
    "### 2. What are impurity measures in Decision Trees?\n",
    "\n",
    "Impurity measures quantify the level of disorder or impurity in a dataset at a node. These are used to decide the best feature and threshold to split the data. Common impurity measures include:\n",
    "- **Gini Impurity**: Measures the probability of a wrong classification.\n",
    "- **Entropy**: Measures the level of randomness or disorder.\n",
    "- **Classification Error**: Measures the frequency of the most common label."
   ]
  },
  {
   "cell_type": "markdown",
   "id": "1e819a42",
   "metadata": {},
   "source": [
    "### 3. What is the mathematical formula for Gini Impurity?\n",
    "\n",
    "The formula for Gini Impurity is: **Gini = 1 - Σ(p_i)^2**\n",
    "where p_i is the proportion of class i instances in the node."
   ]
  },
  {
   "cell_type": "markdown",
   "id": "89b1001e",
   "metadata": {},
   "source": [
    "### 4. What is the mathematical formula for Entropy?\n",
    "\n",
    "The formula for Entropy is: **Entropy = - Σ(p_i * log₂(p_i))**\n",
    "where p_i is the probability of class i in the node. It reaches maximum when all classes are equally likely."
   ]
  },
  {
   "cell_type": "markdown",
   "id": "5493b6d0",
   "metadata": {},
   "source": [
    "### 5. What is Information Gain, and how is it used in Decision Trees?\n",
    "\n",
    "Information Gain is the decrease in entropy or impurity after a dataset is split on an attribute. It helps the algorithm select the best feature. It is calculated as: **Information Gain = Entropy(parent) - [Weighted average] * Entropy(children)**."
   ]
  },
  {
   "cell_type": "markdown",
   "id": "f0c364bc",
   "metadata": {},
   "source": [
    "### 6. What is the difference between Gini Impurity and Entropy?\n",
    "\n",
    "Both are measures of impurity used to create splits. Gini is computationally faster and tends to isolate the most frequent class. Entropy comes from information theory and is more sensitive to class distribution changes."
   ]
  },
  {
   "cell_type": "markdown",
   "id": "6f2466dd",
   "metadata": {},
   "source": [
    "### 7. What is the mathematical explanation behind Decision Trees?\n",
    "\n",
    "Decision Trees use recursive binary partitioning. At each node, the algorithm chooses the feature and threshold that results in the highest Information Gain or lowest Gini Impurity. This is repeated until a stopping criterion is met."
   ]
  },
  {
   "cell_type": "markdown",
   "id": "b269ebb5",
   "metadata": {},
   "source": [
    "### 8. What is Pre-Pruning in Decision Trees?\n",
    "\n",
    "Pre-pruning stops the growth of the tree early to avoid overfitting. It uses constraints such as:\n",
    "- Maximum depth\n",
    "- Minimum samples per split\n",
    "- Minimum impurity decrease"
   ]
  },
  {
   "cell_type": "markdown",
   "id": "c61fec55",
   "metadata": {},
   "source": [
    "### 9. What is Post-Pruning in Decision Trees?\n",
    "\n",
    "Post-pruning involves building the full tree and then removing branches that do not provide significant predictive power. This is usually done by validating performance on a separate dataset."
   ]
  },
  {
   "cell_type": "markdown",
   "id": "6ac14bc6",
   "metadata": {},
   "source": [
    "### 10. What is the difference between Pre-Pruning and Post–Pruning?\n",
    "\n",
    "- **Pre-Pruning**: Stops the tree from growing beyond a set condition.\n",
    "- **Post-Pruning**: Builds a complete tree and prunes it back.\n",
    "Pre-pruning can stop useful splits, while post-pruning may recover more generalization by testing performance."
   ]
  },
  {
   "cell_type": "markdown",
   "id": "0cda5adb",
   "metadata": {},
   "source": [
    "### 11. What is a Decision Tree Regressor?\n",
    "\n",
    "A Decision Tree Regressor is a variant of decision trees that predicts continuous numerical values. It splits the data into segments with minimal variance and predicts the mean of the target values in each leaf."
   ]
  },
  {
   "cell_type": "markdown",
   "id": "01bc4a64",
   "metadata": {},
   "source": [
    "### 12. What are the advantages and disadvantages of Decision Trees?\n",
    "\n",
    "**Advantages:**\n",
    "- Easy to understand and interpret\n",
    "- Requires little data preprocessing\n",
    "- Can handle both categorical and numerical data\n",
    "**Disadvantages:**\n",
    "- Prone to overfitting\n",
    "- Can be unstable to small data variations\n",
    "- Biased with imbalanced datasets"
   ]
  },
  {
   "cell_type": "markdown",
   "id": "fabb39c3",
   "metadata": {},
   "source": [
    "### 13. How does a Decision Tree handle missing values?\n",
    "\n",
    "Some implementations (like C4.5) use surrogate splits or probabilistic approaches. Sklearn generally requires preprocessing like imputing missing values before training."
   ]
  },
  {
   "cell_type": "markdown",
   "id": "a1c75929",
   "metadata": {},
   "source": [
    "### 14. How does a Decision Tree handle categorical features?\n",
    "\n",
    "Categorical features can be handled by converting them into binary splits or using one-hot encoding. Sklearn requires them to be encoded numerically before model training."
   ]
  },
  {
   "cell_type": "markdown",
   "id": "8369f0d5",
   "metadata": {},
   "source": [
    "### 15. What are some real-world applications of Decision Trees?\n",
    "\n",
    "- Credit Risk Assessment\n",
    "- Medical Diagnosis\n",
    "- Fraud Detection\n",
    "- Customer Churn Prediction\n",
    "- Loan Approval\n",
    "- Stock Market Prediction"
   ]
  },
  {
   "cell_type": "code",
   "execution_count": null,
   "id": "9a2498d3-3e17-44fe-b93e-1c492ec76557",
   "metadata": {},
   "outputs": [],
   "source": [
    "######################## Practical questions ######################"
   ]
  },
  {
   "cell_type": "markdown",
   "id": "099a064e",
   "metadata": {},
   "source": [
    "### 16. Write a Python program to train a Decision Tree Classifier on the Iris dataset and print the model accuracy."
   ]
  },
  {
   "cell_type": "code",
   "execution_count": 13,
   "id": "60c7fd88",
   "metadata": {},
   "outputs": [
    {
     "name": "stdout",
     "output_type": "stream",
     "text": [
      "Accuracy: 1.0\n"
     ]
    }
   ],
   "source": [
    "from sklearn.datasets import load_iris\n",
    "from sklearn.tree import DecisionTreeClassifier\n",
    "from sklearn.model_selection import train_test_split\n",
    "from sklearn.metrics import accuracy_score\n",
    "\n",
    "iris = load_iris()\n",
    "X_train, X_test, y_train, y_test = train_test_split(iris.data, iris.target, test_size=0.3, random_state=42)\n",
    "model = DecisionTreeClassifier()\n",
    "model.fit(X_train, y_train)\n",
    "predictions = model.predict(X_test)\n",
    "print(\"Accuracy:\", accuracy_score(y_test, predictions))"
   ]
  },
  {
   "cell_type": "markdown",
   "id": "c813b44b",
   "metadata": {},
   "source": [
    "### 17. Write a Python program to train a Decision Tree Classifier using Gini Impurity as the criterion and print the feature importances."
   ]
  },
  {
   "cell_type": "code",
   "execution_count": 14,
   "id": "a3987159",
   "metadata": {},
   "outputs": [
    {
     "name": "stdout",
     "output_type": "stream",
     "text": [
      "Feature importances: [0.         0.01911002 0.42356658 0.5573234 ]\n"
     ]
    }
   ],
   "source": [
    "clf = DecisionTreeClassifier(criterion='gini')\n",
    "clf.fit(X_train, y_train)\n",
    "print(\"Feature importances:\", clf.feature_importances_)# Write your code here"
   ]
  },
  {
   "cell_type": "markdown",
   "id": "e57cb3e4",
   "metadata": {},
   "source": [
    "### 18. Write a Python program to train a Decision Tree Classifier using Entropy as the splitting criterion and print the model accuracy."
   ]
  },
  {
   "cell_type": "code",
   "execution_count": 15,
   "id": "c2bad6a2",
   "metadata": {},
   "outputs": [
    {
     "name": "stdout",
     "output_type": "stream",
     "text": [
      "Accuracy: 0.9777777777777777\n"
     ]
    }
   ],
   "source": [
    "clf = DecisionTreeClassifier(criterion='entropy')\n",
    "clf.fit(X_train, y_train)\n",
    "y_pred = clf.predict(X_test)\n",
    "print(\"Accuracy:\", accuracy_score(y_test, y_pred))"
   ]
  },
  {
   "cell_type": "markdown",
   "id": "7136efe1",
   "metadata": {},
   "source": [
    "### 19. Write a Python program to train a Decision Tree Regressor on a housing dataset and evaluate using Mean Squared Error (MSE)."
   ]
  },
  {
   "cell_type": "code",
   "execution_count": 16,
   "id": "be365c09",
   "metadata": {},
   "outputs": [
    {
     "name": "stdout",
     "output_type": "stream",
     "text": [
      "MSE: 0.5258487964675388\n"
     ]
    }
   ],
   "source": [
    "from sklearn.datasets import fetch_california_housing\n",
    "from sklearn.tree import DecisionTreeRegressor\n",
    "from sklearn.metrics import mean_squared_error\n",
    "\n",
    "data = fetch_california_housing()\n",
    "X_train, X_test, y_train, y_test = train_test_split(data.data, data.target, test_size=0.3, random_state=42)\n",
    "\n",
    "reg = DecisionTreeRegressor()\n",
    "reg.fit(X_train, y_train)\n",
    "y_pred = reg.predict(X_test)\n",
    "print(\"MSE:\", mean_squared_error(y_test, y_pred))"
   ]
  },
  {
   "cell_type": "markdown",
   "id": "78f872b2",
   "metadata": {},
   "source": [
    "### 20. Write a Python program to train a Decision Tree Classifier and visualize the tree using graphviz."
   ]
  },
  {
   "cell_type": "code",
   "execution_count": 43,
   "id": "02864beb-6b0b-4abb-bab1-37b74d27de9f",
   "metadata": {},
   "outputs": [
    {
     "name": "stdout",
     "output_type": "stream",
     "text": [
      "Requirement already satisfied: graphviz in c:\\users\\91922\\anaconda3\\lib\\site-packages (0.20.3)\n",
      "Note: you may need to restart the kernel to use updated packages.\n"
     ]
    }
   ],
   "source": [
    "pip install graphviz\n"
   ]
  },
  {
   "cell_type": "code",
   "execution_count": null,
   "id": "913191f4-f938-44f9-a846-2f225d616776",
   "metadata": {},
   "outputs": [],
   "source": [
    "from sklearn.datasets import load_iris\n",
    "from sklearn.tree import DecisionTreeClassifier, export_graphviz\n",
    "import graphviz\n",
    "\n",
    "# Step 1: Load the dataset\n",
    "iris = load_iris()\n",
    "X = iris.data\n",
    "y = iris.target\n",
    "\n",
    "# Step 2: Train the Decision Tree Classifier\n",
    "clf = DecisionTreeClassifier()\n",
    "clf.fit(X, y)\n",
    "\n",
    "# Step 3: Export the tree structure to DOT format\n",
    "dot_data = export_graphviz(clf,\n",
    "                           out_file=None,\n",
    "                           feature_names=iris.feature_names,\n",
    "                           class_names=iris.target_names,\n",
    "                           filled=True,\n",
    "                           rounded=True,\n",
    "                           special_characters=True)\n",
    "\n",
    "# Step 4: Render the DOT data using Graphviz\n",
    "graph = graphviz.Source(dot_data)\n",
    "graph.render(\"iris_tree\")  # Saves iris_tree.pdf\n",
    "graph.view()  # Opens the file if system supports it\n"
   ]
  },
  {
   "cell_type": "markdown",
   "id": "ad244b9c",
   "metadata": {},
   "source": [
    "### 21. Write a Python program to train a Decision Tree Classifier with a maximum depth of 3 and compare its accuracy with a fully grown tree."
   ]
  },
  {
   "cell_type": "code",
   "execution_count": 30,
   "id": "03245b54",
   "metadata": {},
   "outputs": [
    {
     "name": "stdout",
     "output_type": "stream",
     "text": [
      "Full tree accuracy: 1.0\n",
      "Depth-limited tree accuracy: 1.0\n"
     ]
    }
   ],
   "source": [
    "from sklearn.datasets import load_iris\n",
    "from sklearn.tree import DecisionTreeClassifier\n",
    "from sklearn.metrics import accuracy_score\n",
    "from sklearn.model_selection import train_test_split\n",
    "\n",
    "# Load dataset\n",
    "iris = load_iris()\n",
    "X = iris.data\n",
    "y = iris.target  # This is categorical (0, 1, 2)\n",
    "\n",
    "# Split into training and testing\n",
    "X_train, X_test, y_train, y_test = train_test_split(X, y, test_size=0.3, random_state=42)\n",
    "\n",
    "# Full tree (no depth limit)\n",
    "clf_full = DecisionTreeClassifier()\n",
    "clf_full.fit(X_train, y_train)\n",
    "acc_full = accuracy_score(y_test, clf_full.predict(X_test))\n",
    "\n",
    "# Tree with max depth = 3\n",
    "clf_limited = DecisionTreeClassifier(max_depth=3)\n",
    "clf_limited.fit(X_train, y_train)\n",
    "acc_limited = accuracy_score(y_test, clf_limited.predict(X_test))\n",
    "\n",
    "# Compare accuracies\n",
    "print(\"Full tree accuracy:\", acc_full)\n",
    "print(\"Depth-limited tree accuracy:\", acc_limited)\n"
   ]
  },
  {
   "cell_type": "markdown",
   "id": "c7ad58f8",
   "metadata": {},
   "source": [
    "### 22. Write a Python program to train a Decision Tree Classifier using min_samples_split=5 and compare its accuracy with a default tree."
   ]
  },
  {
   "cell_type": "code",
   "execution_count": 31,
   "id": "9e2ee111",
   "metadata": {},
   "outputs": [
    {
     "name": "stdout",
     "output_type": "stream",
     "text": [
      "Default tree accuracy: 1.0\n",
      "min_samples_split=5 tree accuracy: 1.0\n"
     ]
    }
   ],
   "source": [
    "from sklearn.datasets import load_iris\n",
    "from sklearn.tree import DecisionTreeClassifier\n",
    "from sklearn.metrics import accuracy_score\n",
    "from sklearn.model_selection import train_test_split\n",
    "\n",
    "# Load the Iris dataset\n",
    "iris = load_iris()\n",
    "X = iris.data\n",
    "y = iris.target\n",
    "\n",
    "# Split the data into training and testing sets\n",
    "X_train, X_test, y_train, y_test = train_test_split(X, y, test_size=0.3, random_state=42)\n",
    "\n",
    "# Default Decision Tree Classifier\n",
    "clf_default = DecisionTreeClassifier()\n",
    "clf_default.fit(X_train, y_train)\n",
    "acc_default = accuracy_score(y_test, clf_default.predict(X_test))\n",
    "\n",
    "# Decision Tree with min_samples_split=5\n",
    "clf_custom = DecisionTreeClassifier(min_samples_split=5)\n",
    "clf_custom.fit(X_train, y_train)\n",
    "acc_custom = accuracy_score(y_test, clf_custom.predict(X_test))\n",
    "\n",
    "# Print and compare accuracies\n",
    "print(\"Default tree accuracy:\", acc_default)\n",
    "print(\"min_samples_split=5 tree accuracy:\", acc_custom)\n"
   ]
  },
  {
   "cell_type": "markdown",
   "id": "c5aeaf48",
   "metadata": {},
   "source": [
    "### 23. Write a Python program to apply feature scaling before training a Decision Tree Classifier and compare its accuracy with unscaled data."
   ]
  },
  {
   "cell_type": "code",
   "execution_count": 32,
   "id": "062faa2e",
   "metadata": {},
   "outputs": [
    {
     "name": "stdout",
     "output_type": "stream",
     "text": [
      "Accuracy without scaling: 1.0\n",
      "Accuracy with scaling   : 1.0\n"
     ]
    }
   ],
   "source": [
    "from sklearn.datasets import load_iris\n",
    "from sklearn.tree import DecisionTreeClassifier\n",
    "from sklearn.model_selection import train_test_split\n",
    "from sklearn.preprocessing import StandardScaler\n",
    "from sklearn.metrics import accuracy_score\n",
    "\n",
    "# Load dataset\n",
    "iris = load_iris()\n",
    "X = iris.data\n",
    "y = iris.target\n",
    "\n",
    "# Split data\n",
    "X_train, X_test, y_train, y_test = train_test_split(X, y, test_size=0.3, random_state=42)\n",
    "\n",
    "# 1. Train without feature scaling\n",
    "clf_unscaled = DecisionTreeClassifier()\n",
    "clf_unscaled.fit(X_train, y_train)\n",
    "acc_unscaled = accuracy_score(y_test, clf_unscaled.predict(X_test))\n",
    "\n",
    "# 2. Apply feature scaling\n",
    "scaler = StandardScaler()\n",
    "X_train_scaled = scaler.fit_transform(X_train)\n",
    "X_test_scaled = scaler.transform(X_test)\n",
    "\n",
    "# Train with scaled features\n",
    "clf_scaled = DecisionTreeClassifier()\n",
    "clf_scaled.fit(X_train_scaled, y_train)\n",
    "acc_scaled = accuracy_score(y_test, clf_scaled.predict(X_test_scaled))\n",
    "\n",
    "# Print comparison\n",
    "print(\"Accuracy without scaling:\", acc_unscaled)\n",
    "print(\"Accuracy with scaling   :\", acc_scaled)\n"
   ]
  },
  {
   "cell_type": "markdown",
   "id": "6d4380b5",
   "metadata": {},
   "source": [
    "### 24. Write a Python program to train a Decision Tree Classifier using One-vs-Rest (OvR) strategy for multiclass classification."
   ]
  },
  {
   "cell_type": "code",
   "execution_count": 33,
   "id": "8bf10454",
   "metadata": {},
   "outputs": [
    {
     "name": "stdout",
     "output_type": "stream",
     "text": [
      "Accuracy using One-vs-Rest Decision Tree: 1.0\n"
     ]
    }
   ],
   "source": [
    "from sklearn.datasets import load_iris\n",
    "from sklearn.tree import DecisionTreeClassifier\n",
    "from sklearn.multiclass import OneVsRestClassifier\n",
    "from sklearn.model_selection import train_test_split\n",
    "from sklearn.metrics import accuracy_score\n",
    "\n",
    "# Load dataset\n",
    "iris = load_iris()\n",
    "X = iris.data\n",
    "y = iris.target  # Multiclass: 0, 1, 2\n",
    "\n",
    "# Split data\n",
    "X_train, X_test, y_train, y_test = train_test_split(X, y, test_size=0.3, random_state=42)\n",
    "\n",
    "# Train using One-vs-Rest with Decision Tree\n",
    "ovr_clf = OneVsRestClassifier(DecisionTreeClassifier())\n",
    "ovr_clf.fit(X_train, y_train)\n",
    "\n",
    "# Predict and evaluate\n",
    "y_pred = ovr_clf.predict(X_test)\n",
    "accuracy = accuracy_score(y_test, y_pred)\n",
    "\n",
    "print(\"Accuracy using One-vs-Rest Decision Tree:\", accuracy)\n"
   ]
  },
  {
   "cell_type": "markdown",
   "id": "0d6e3f22",
   "metadata": {},
   "source": [
    "### 25. Write a Python program to train a Decision Tree Classifier and display the feature importance scores."
   ]
  },
  {
   "cell_type": "code",
   "execution_count": 34,
   "id": "f17c51d2",
   "metadata": {},
   "outputs": [
    {
     "name": "stdout",
     "output_type": "stream",
     "text": [
      "Feature Importances: [0.01911002 0.         0.55727376 0.42361622]\n"
     ]
    }
   ],
   "source": [
    "clf = DecisionTreeClassifier()\n",
    "clf.fit(X_train, y_train)\n",
    "print(\"Feature Importances:\", clf.feature_importances_)"
   ]
  },
  {
   "cell_type": "markdown",
   "id": "7b0603c3",
   "metadata": {},
   "source": [
    "### 26. Write a Python program to train a Decision Tree Regressor with max_depth=5 and compare its performance with an unrestricted tree."
   ]
  },
  {
   "cell_type": "code",
   "execution_count": 35,
   "id": "623bef2a",
   "metadata": {},
   "outputs": [
    {
     "name": "stdout",
     "output_type": "stream",
     "text": [
      "MSE full: 0.0\n",
      "MSE limited: 0.0\n"
     ]
    }
   ],
   "source": [
    "reg_full = DecisionTreeRegressor()\n",
    "reg_full.fit(X_train, y_train)\n",
    "\n",
    "reg_limited = DecisionTreeRegressor(max_depth=5)\n",
    "reg_limited.fit(X_train, y_train)\n",
    "\n",
    "print(\"MSE full:\", mean_squared_error(y_test, reg_full.predict(X_test)))\n",
    "print(\"MSE limited:\", mean_squared_error(y_test, reg_limited.predict(X_test)))"
   ]
  },
  {
   "cell_type": "markdown",
   "id": "e4c4e5a9",
   "metadata": {},
   "source": [
    "### 27. Write a Python program to train a Decision Tree Classifier, apply Cost Complexity Pruning (CCP), and visualize its effect on accuracy."
   ]
  },
  {
   "cell_type": "code",
   "execution_count": 36,
   "id": "d15c268d",
   "metadata": {},
   "outputs": [
    {
     "name": "stdout",
     "output_type": "stream",
     "text": [
      "ccp_alpha: 0.0000, Accuracy: 1.0\n",
      "ccp_alpha: 0.0092, Accuracy: 1.0\n",
      "ccp_alpha: 0.0127, Accuracy: 1.0\n",
      "ccp_alpha: 0.0185, Accuracy: 1.0\n",
      "ccp_alpha: 0.0397, Accuracy: 1.0\n",
      "ccp_alpha: 0.2503, Accuracy: 0.7111111111111111\n",
      "ccp_alpha: 0.3121, Accuracy: 0.28888888888888886\n"
     ]
    }
   ],
   "source": [
    "path = clf.cost_complexity_pruning_path(X_train, y_train)\n",
    "ccp_alphas = path.ccp_alphas\n",
    "\n",
    "for ccp_alpha in ccp_alphas:\n",
    "    clf_pruned = DecisionTreeClassifier(ccp_alpha=ccp_alpha)\n",
    "    clf_pruned.fit(X_train, y_train)\n",
    "    print(f\"ccp_alpha: {ccp_alpha:.4f}, Accuracy: {accuracy_score(y_test, clf_pruned.predict(X_test))}\")"
   ]
  },
  {
   "cell_type": "markdown",
   "id": "e19e1c35",
   "metadata": {},
   "source": [
    "### 28. Write a Python program to train a Decision Tree Classifier and evaluate its performance using Precision, Recall, and F1-Score."
   ]
  },
  {
   "cell_type": "code",
   "execution_count": 37,
   "id": "08627a2f",
   "metadata": {},
   "outputs": [
    {
     "name": "stdout",
     "output_type": "stream",
     "text": [
      "              precision    recall  f1-score   support\n",
      "\n",
      "           0       1.00      1.00      1.00        19\n",
      "           1       1.00      1.00      1.00        13\n",
      "           2       1.00      1.00      1.00        13\n",
      "\n",
      "    accuracy                           1.00        45\n",
      "   macro avg       1.00      1.00      1.00        45\n",
      "weighted avg       1.00      1.00      1.00        45\n",
      "\n"
     ]
    }
   ],
   "source": [
    "from sklearn.metrics import classification_report\n",
    "\n",
    "clf = DecisionTreeClassifier()\n",
    "clf.fit(X_train, y_train)\n",
    "y_pred = clf.predict(X_test)\n",
    "print(classification_report(y_test, y_pred))"
   ]
  },
  {
   "cell_type": "markdown",
   "id": "581893a4",
   "metadata": {},
   "source": [
    "### 29. Write a Python program to train a Decision Tree Classifier and visualize the confusion matrix using seaborn."
   ]
  },
  {
   "cell_type": "code",
   "execution_count": 38,
   "id": "6177f333",
   "metadata": {},
   "outputs": [
    {
     "data": {
      "image/png": "[encoded data removed]",
      "text/plain": [
       "<Figure size 640x480 with 2 Axes>"
      ]
     },
     "metadata": {},
     "output_type": "display_data"
    }
   ],
   "source": [
    "import seaborn as sns\n",
    "import matplotlib.pyplot as plt\n",
    "from sklearn.metrics import confusion_matrix\n",
    "\n",
    "cm = confusion_matrix(y_test, y_pred)\n",
    "sns.heatmap(cm, annot=True, fmt='d', cmap='Blues')\n",
    "plt.xlabel('Predicted')\n",
    "plt.ylabel('Actual')\n",
    "plt.show()"
   ]
  },
  {
   "cell_type": "markdown",
   "id": "97642877",
   "metadata": {},
   "source": [
    "### 30. Write a Python program to train a Decision Tree Classifier and use GridSearchCV to find the optimal values for max_depth and min_samples_split."
   ]
  },
  {
   "cell_type": "code",
   "execution_count": 39,
   "id": "5e526f77",
   "metadata": {},
   "outputs": [
    {
     "name": "stdout",
     "output_type": "stream",
     "text": [
      "Best Params: {'max_depth': 3, 'min_samples_split': 2}\n",
      "Best Score: 0.9238095238095237\n"
     ]
    }
   ],
   "source": [
    "from sklearn.model_selection import GridSearchCV\n",
    "\n",
    "params = {\n",
    "    'max_depth': [3, 5, 10, None],\n",
    "    'min_samples_split': [2, 5, 10]\n",
    "}\n",
    "\n",
    "grid = GridSearchCV(DecisionTreeClassifier(), param_grid=params, cv=3)\n",
    "grid.fit(X_train, y_train)\n",
    "print(\"Best Params:\", grid.best_params_)\n",
    "print(\"Best Score:\", grid.best_score_)"
   ]
  },
  {
   "cell_type": "code",
   "execution_count": null,
   "id": "99139244-9f9b-47f8-98d5-09fd17ecc7fa",
   "metadata": {},
   "outputs": [],
   "source": []
  }
 ],
 "metadata": {
  "kernelspec": {
   "display_name": "Python 3 (ipykernel)",
   "language": "python",
   "name": "python3"
  },
  "language_info": {
   "codemirror_mode": {
    "name": "ipython",
    "version": 3
   },
   "file_extension": ".py",
   "mimetype": "text/x-python",
   "name": "python",
   "nbconvert_exporter": "python",
   "pygments_lexer": "ipython3",
   "version": "3.12.7"
  }
 },
 "nbformat": 4,
 "nbformat_minor": 5
}

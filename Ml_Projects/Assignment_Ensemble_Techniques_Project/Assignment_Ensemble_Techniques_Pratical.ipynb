{
 "cells": [
  {
   "cell_type": "code",
   "execution_count": null,
   "id": "822e033b-490f-42af-a9e4-385b36d179a3",
   "metadata": {},
   "outputs": [],
   "source": [
    "#### Assignment Ensemble Techniques Pratical Questions ####"
   ]
  },
  {
   "cell_type": "markdown",
   "id": "232aa279",
   "metadata": {},
   "source": [
    "Q21. Train a Bagging Classifier using Decision Trees on a sample dataset and print model accuracy."
   ]
  },
  {
   "cell_type": "code",
   "execution_count": 9,
   "id": "5666bb3a-c92d-4eba-8519-74dc3d7b7ad7",
   "metadata": {},
   "outputs": [
    {
     "name": "stdout",
     "output_type": "stream",
     "text": [
      "1.5.1\n"
     ]
    }
   ],
   "source": [
    "import sklearn\n",
    "print(sklearn.__version__)"
   ]
  },
  {
   "cell_type": "code",
   "execution_count": 11,
   "id": "eea32900",
   "metadata": {},
   "outputs": [
    {
     "name": "stdout",
     "output_type": "stream",
     "text": [
      "Accuracy: 1.0\n"
     ]
    }
   ],
   "source": [
    "from sklearn.ensemble import BaggingClassifier\n",
    "from sklearn.tree import DecisionTreeClassifier\n",
    "from sklearn.datasets import load_iris\n",
    "from sklearn.model_selection import train_test_split\n",
    "from sklearn.metrics import accuracy_score\n",
    "\n",
    "X, y = load_iris(return_X_y=True)\n",
    "X_train, X_test, y_train, y_test = train_test_split(X, y, test_size=0.3, random_state=42)\n",
    "\n",
    "model = BaggingClassifier(estimator=DecisionTreeClassifier(), n_estimators=10, random_state=42)\n",
    "model.fit(X_train, y_train)\n",
    "y_pred = model.predict(X_test)\n",
    "\n",
    "print(\"Accuracy:\", accuracy_score(y_test, y_pred))\n"
   ]
  },
  {
   "cell_type": "markdown",
   "id": "60246950",
   "metadata": {},
   "source": [
    "Q22. Train a Bagging Regressor using Decision Trees and evaluate using Mean Squared Error (MSE)."
   ]
  },
  {
   "cell_type": "code",
   "execution_count": 14,
   "id": "5b6bb043",
   "metadata": {},
   "outputs": [
    {
     "name": "stdout",
     "output_type": "stream",
     "text": [
      "MSE: 994.1027861104376\n"
     ]
    }
   ],
   "source": [
    "from sklearn.ensemble import BaggingRegressor\n",
    "from sklearn.tree import DecisionTreeRegressor\n",
    "from sklearn.datasets import make_regression\n",
    "from sklearn.model_selection import train_test_split\n",
    "from sklearn.metrics import mean_squared_error\n",
    "\n",
    "X, y = make_regression(n_samples=200, n_features=5, noise=0.2, random_state=42)\n",
    "X_train, X_test, y_train, y_test = train_test_split(X, y, test_size=0.3, random_state=42)\n",
    "\n",
    "model = BaggingRegressor(estimator=DecisionTreeRegressor(), n_estimators=10, random_state=42)\n",
    "model.fit(X_train, y_train)\n",
    "y_pred = model.predict(X_test)\n",
    "\n",
    "print(\"MSE:\", mean_squared_error(y_test, y_pred))\n"
   ]
  },
  {
   "cell_type": "markdown",
   "id": "a0811ffb",
   "metadata": {},
   "source": [
    "Q23. Train a Random Forest Classifier on the Breast Cancer dataset and print feature importance scores."
   ]
  },
  {
   "cell_type": "code",
   "execution_count": 15,
   "id": "3e86df48",
   "metadata": {},
   "outputs": [
    {
     "name": "stdout",
     "output_type": "stream",
     "text": [
      "mean radius: 0.0348\n",
      "mean texture: 0.0152\n",
      "mean perimeter: 0.0680\n",
      "mean area: 0.0605\n",
      "mean smoothness: 0.0080\n",
      "mean compactness: 0.0116\n",
      "mean concavity: 0.0669\n",
      "mean concave points: 0.1070\n",
      "mean symmetry: 0.0034\n",
      "mean fractal dimension: 0.0026\n",
      "radius error: 0.0143\n",
      "texture error: 0.0037\n",
      "perimeter error: 0.0101\n",
      "area error: 0.0296\n",
      "smoothness error: 0.0047\n",
      "compactness error: 0.0056\n",
      "concavity error: 0.0058\n",
      "concave points error: 0.0038\n",
      "symmetry error: 0.0035\n",
      "fractal dimension error: 0.0059\n",
      "worst radius: 0.0828\n",
      "worst texture: 0.0175\n",
      "worst perimeter: 0.0808\n",
      "worst area: 0.1394\n",
      "worst smoothness: 0.0122\n",
      "worst compactness: 0.0199\n",
      "worst concavity: 0.0373\n",
      "worst concave points: 0.1322\n",
      "worst symmetry: 0.0082\n",
      "worst fractal dimension: 0.0045\n"
     ]
    }
   ],
   "source": [
    "from sklearn.ensemble import RandomForestClassifier\n",
    "from sklearn.datasets import load_breast_cancer\n",
    "\n",
    "data = load_breast_cancer()\n",
    "X, y = data.data, data.target\n",
    "\n",
    "model = RandomForestClassifier(n_estimators=100, random_state=42)\n",
    "model.fit(X, y)\n",
    "importances = model.feature_importances_\n",
    "\n",
    "for feature, importance in zip(data.feature_names, importances):\n",
    "    print(f\"{feature}: {importance:.4f}\")"
   ]
  },
  {
   "cell_type": "markdown",
   "id": "770c8dee",
   "metadata": {},
   "source": [
    "Q24. Train a Random Forest Regressor and compare its performance with a single Decision Tree."
   ]
  },
  {
   "cell_type": "code",
   "execution_count": 12,
   "id": "aa490bd2",
   "metadata": {},
   "outputs": [
    {
     "name": "stdout",
     "output_type": "stream",
     "text": [
      "MSE - Decision Tree: 2010.3086284190963\n",
      "MSE - Random Forest: 908.6652649932128\n"
     ]
    }
   ],
   "source": [
    "from sklearn.ensemble import RandomForestRegressor\n",
    "from sklearn.tree import DecisionTreeRegressor\n",
    "from sklearn.datasets import make_regression\n",
    "from sklearn.model_selection import train_test_split\n",
    "from sklearn.metrics import mean_squared_error\n",
    "\n",
    "X, y = make_regression(n_samples=200, n_features=5, noise=0.2, random_state=42)\n",
    "X_train, X_test, y_train, y_test = train_test_split(X, y, test_size=0.3, random_state=42)\n",
    "\n",
    "tree = DecisionTreeRegressor(random_state=42)\n",
    "forest = RandomForestRegressor(n_estimators=10, random_state=42)\n",
    "\n",
    "tree.fit(X_train, y_train)\n",
    "forest.fit(X_train, y_train)\n",
    "\n",
    "y_tree = tree.predict(X_test)\n",
    "y_forest = forest.predict(X_test)\n",
    "\n",
    "print(\"MSE - Decision Tree:\", mean_squared_error(y_test, y_tree))\n",
    "print(\"MSE - Random Forest:\", mean_squared_error(y_test, y_forest))"
   ]
  },
  {
   "cell_type": "markdown",
   "id": "11367053",
   "metadata": {},
   "source": [
    "Q25. Compute the Out-of-Bag (OOB) Score for a Random Forest Classifier."
   ]
  },
  {
   "cell_type": "code",
   "execution_count": 16,
   "id": "252a6daf",
   "metadata": {},
   "outputs": [
    {
     "name": "stdout",
     "output_type": "stream",
     "text": [
      "OOB Score: 0.87\n"
     ]
    }
   ],
   "source": [
    "from sklearn.ensemble import RandomForestClassifier\n",
    "from sklearn.datasets import make_classification\n",
    "\n",
    "X, y = make_classification(n_samples=200, n_features=5, random_state=42)\n",
    "\n",
    "model = RandomForestClassifier(n_estimators=15, oob_score=True, random_state=42)\n",
    "model.fit(X, y)\n",
    "print(\"OOB Score:\", model.oob_score_)"
   ]
  },
  {
   "cell_type": "markdown",
   "id": "534240fa-9bcd-44ab-a52a-8af2cbb84942",
   "metadata": {},
   "source": [
    "Q26. Train a Bagging Classifier using SVM as a base estimator and print accuracy."
   ]
  },
  {
   "cell_type": "code",
   "execution_count": 17,
   "id": "6df9d901-69aa-4843-ade2-ffd9249e4901",
   "metadata": {},
   "outputs": [
    {
     "name": "stdout",
     "output_type": "stream",
     "text": [
      "Accuracy: 1.0\n"
     ]
    }
   ],
   "source": [
    "from sklearn.ensemble import BaggingClassifier\n",
    "from sklearn.svm import SVC\n",
    "from sklearn.datasets import load_iris\n",
    "from sklearn.model_selection import train_test_split\n",
    "from sklearn.metrics import accuracy_score\n",
    "\n",
    "X, y = load_iris(return_X_y=True)\n",
    "X_train, X_test, y_train, y_test = train_test_split(X, y, test_size=0.3, random_state=42)\n",
    "\n",
    "model = BaggingClassifier(estimator=SVC(), n_estimators=10, random_state=42)\n",
    "model.fit(X_train, y_train)\n",
    "y_pred = model.predict(X_test)\n",
    "\n",
    "print(\"Accuracy:\", accuracy_score(y_test, y_pred))\n"
   ]
  },
  {
   "cell_type": "markdown",
   "id": "6934cf49-d518-444a-ab8e-5c7acf8536c2",
   "metadata": {},
   "source": [
    "Q27. Train a Random Forest Classifier with different numbers of trees and compare accuracy"
   ]
  },
  {
   "cell_type": "code",
   "execution_count": 18,
   "id": "97b966d1-6e65-42fa-9a85-06e3e4ff378c",
   "metadata": {},
   "outputs": [
    {
     "name": "stdout",
     "output_type": "stream",
     "text": [
      "n_estimators=10, Accuracy=1.0000\n",
      "n_estimators=50, Accuracy=1.0000\n",
      "n_estimators=100, Accuracy=1.0000\n",
      "n_estimators=200, Accuracy=1.0000\n"
     ]
    }
   ],
   "source": [
    "from sklearn.ensemble import RandomForestClassifier\n",
    "from sklearn.datasets import load_iris\n",
    "from sklearn.model_selection import train_test_split\n",
    "from sklearn.metrics import accuracy_score\n",
    "\n",
    "X, y = load_iris(return_X_y=True)\n",
    "X_train, X_test, y_train, y_test = train_test_split(X, y, test_size=0.3, random_state=42)\n",
    "\n",
    "for n in [10, 50, 100, 200]:\n",
    "    model = RandomForestClassifier(n_estimators=n, random_state=42)\n",
    "    model.fit(X_train, y_train)\n",
    "    y_pred = model.predict(X_test)\n",
    "    print(f\"n_estimators={n}, Accuracy={accuracy_score(y_test, y_pred):.4f}\")\n"
   ]
  },
  {
   "cell_type": "markdown",
   "id": "7df210cf-3e26-4526-ae1d-655259d14d91",
   "metadata": {},
   "source": [
    "Q28. Train a Bagging Classifier using Logistic Regression as a base estimator and print AUC score."
   ]
  },
  {
   "cell_type": "code",
   "execution_count": 19,
   "id": "d8937231-675b-4d16-a31c-40cf9893f695",
   "metadata": {},
   "outputs": [
    {
     "name": "stdout",
     "output_type": "stream",
     "text": [
      "AUC Score: 0.8472850678733032\n"
     ]
    }
   ],
   "source": [
    "from sklearn.ensemble import BaggingClassifier\n",
    "from sklearn.linear_model import LogisticRegression\n",
    "from sklearn.datasets import make_classification\n",
    "from sklearn.model_selection import train_test_split\n",
    "from sklearn.metrics import roc_auc_score\n",
    "\n",
    "X, y = make_classification(n_samples=200, n_features=10, random_state=42)\n",
    "X_train, X_test, y_train, y_test = train_test_split(X, y, test_size=0.3, random_state=42)\n",
    "\n",
    "model = BaggingClassifier(estimator=LogisticRegression(), n_estimators=10, random_state=42)\n",
    "model.fit(X_train, y_train)\n",
    "y_prob = model.predict_proba(X_test)[:, 1]\n",
    "\n",
    "print(\"AUC Score:\", roc_auc_score(y_test, y_prob))\n"
   ]
  },
  {
   "cell_type": "markdown",
   "id": "dcf39171-3f0e-45b9-a707-caac3eb91741",
   "metadata": {},
   "source": [
    "Q29. Train a Random Forest Regressor and analyze feature importance scores."
   ]
  },
  {
   "cell_type": "code",
   "execution_count": 20,
   "id": "1749fe23-54e0-4330-b54b-539e04d1eb46",
   "metadata": {},
   "outputs": [
    {
     "name": "stdout",
     "output_type": "stream",
     "text": [
      "Feature Importances: [0.01283374 0.01790727 0.41588562 0.02167459 0.53169878]\n"
     ]
    }
   ],
   "source": [
    "from sklearn.ensemble import RandomForestRegressor\n",
    "from sklearn.datasets import make_regression\n",
    "from sklearn.model_selection import train_test_split\n",
    "\n",
    "X, y = make_regression(n_samples=200, n_features=5, noise=0.3, random_state=42)\n",
    "X_train, X_test, y_train, y_test = train_test_split(X, y, test_size=0.3, random_state=42)\n",
    "\n",
    "model = RandomForestRegressor(n_estimators=100, random_state=42)\n",
    "model.fit(X_train, y_train)\n",
    "\n",
    "print(\"Feature Importances:\", model.feature_importances_)\n"
   ]
  },
  {
   "cell_type": "markdown",
   "id": "2126618e-903a-4f2a-adb7-49c461f34c1c",
   "metadata": {},
   "source": [
    "Q30. Train an ensemble model using both Bagging and Random Forest and compare "
   ]
  },
  {
   "cell_type": "code",
   "execution_count": 22,
   "id": "1b628c95-5ae6-4484-8f06-5487c583053d",
   "metadata": {},
   "outputs": [
    {
     "name": "stdout",
     "output_type": "stream",
     "text": [
      "Bagging Accuracy: 1.0\n",
      "Random Forest Accuracy: 1.0\n"
     ]
    }
   ],
   "source": [
    "from sklearn.ensemble import BaggingClassifier, RandomForestClassifier\n",
    "from sklearn.tree import DecisionTreeClassifier\n",
    "from sklearn.datasets import load_iris\n",
    "from sklearn.model_selection import train_test_split\n",
    "from sklearn.metrics import accuracy_score\n",
    "\n",
    "X, y = load_iris(return_X_y=True)\n",
    "X_train, X_test, y_train, y_test = train_test_split(X, y, test_size=0.3, random_state=42)\n",
    "\n",
    "bag_model = BaggingClassifier(estimator=DecisionTreeClassifier(), n_estimators=10, random_state=42)\n",
    "rf_model = RandomForestClassifier(n_estimators=100, random_state=42)\n",
    "\n",
    "bag_model.fit(X_train, y_train)\n",
    "rf_model.fit(X_train, y_train)\n",
    "\n",
    "bag_acc = accuracy_score(y_test, bag_model.predict(X_test))\n",
    "rf_acc = accuracy_score(y_test, rf_model.predict(X_test))\n",
    "\n",
    "print(\"Bagging Accuracy:\", bag_acc)\n",
    "print(\"Random Forest Accuracy:\", rf_acc)\n"
   ]
  },
  {
   "cell_type": "markdown",
   "id": "ec331fdb-b291-4544-b916-1f83f584d72a",
   "metadata": {},
   "source": [
    "31. Train a Random Forest Classifier and tune hyperparameters using GridSearchCV."
   ]
  },
  {
   "cell_type": "code",
   "execution_count": 23,
   "id": "576c1d74-15f6-4179-beeb-659d900aa48b",
   "metadata": {},
   "outputs": [
    {
     "name": "stdout",
     "output_type": "stream",
     "text": [
      "Best params: {'max_depth': None, 'min_samples_split': 5, 'n_estimators': 50}\n",
      "              precision    recall  f1-score   support\n",
      "\n",
      "           0       0.83      0.88      0.85        66\n",
      "           1       0.90      0.86      0.88        84\n",
      "\n",
      "    accuracy                           0.87       150\n",
      "   macro avg       0.86      0.87      0.87       150\n",
      "weighted avg       0.87      0.87      0.87       150\n",
      "\n"
     ]
    }
   ],
   "source": [
    "from sklearn.datasets import make_classification\n",
    "from sklearn.model_selection import train_test_split, GridSearchCV\n",
    "from sklearn.ensemble import RandomForestClassifier\n",
    "from sklearn.metrics import classification_report\n",
    "\n",
    "# Data\n",
    "X, y = make_classification(n_samples=500, n_features=10, n_informative=5, random_state=0)\n",
    "X_train, X_test, y_train, y_test = train_test_split(X, y, test_size=0.3, random_state=0)\n",
    "\n",
    "# Model + GridSearch\n",
    "param_grid = {\n",
    "    'n_estimators': [50, 100, 200],\n",
    "    'max_depth': [None, 5, 10],\n",
    "    'min_samples_split': [2, 5]\n",
    "}\n",
    "grid = GridSearchCV(RandomForestClassifier(random_state=0), param_grid, cv=5, n_jobs=-1)\n",
    "grid.fit(X_train, y_train)\n",
    "\n",
    "# Evaluate\n",
    "best = grid.best_estimator_\n",
    "y_pred = best.predict(X_test)\n",
    "print(\"Best params:\", grid.best_params_)\n",
    "print(classification_report(y_test, y_pred))\n"
   ]
  },
  {
   "cell_type": "markdown",
   "id": "4b8252e2-c88e-4bd6-9a37-ba043e88870e",
   "metadata": {},
   "source": [
    "32. Train a Bagging Regressor with different numbers of base estimators and compare performance."
   ]
  },
  {
   "cell_type": "code",
   "execution_count": 39,
   "id": "de0a7fdd-f9f5-45f2-a2a5-85e8ec908b82",
   "metadata": {},
   "outputs": [
    {
     "name": "stdout",
     "output_type": "stream",
     "text": [
      "n_estimators=5 → RMSE=79.054\n",
      "n_estimators=10 → RMSE=70.407\n",
      "n_estimators=20 → RMSE=65.907\n",
      "n_estimators=50 → RMSE=66.867\n"
     ]
    }
   ],
   "source": [
    "from sklearn.ensemble import BaggingRegressor\n",
    "from sklearn.tree import DecisionTreeRegressor\n",
    "from sklearn.metrics import root_mean_squared_error\n",
    "from sklearn.datasets import make_regression\n",
    "from sklearn.model_selection import train_test_split\n",
    "\n",
    "# Data\n",
    "X, y = make_regression(n_samples=500, n_features=10, noise=0.2, random_state=0)\n",
    "X_train, X_test, y_train, y_test = train_test_split(\n",
    "    X, y, test_size=0.3, random_state=0\n",
    ")\n",
    "\n",
    "# Compare n_estimators\n",
    "for n in [5, 10, 20, 50]:\n",
    "    model = BaggingRegressor(\n",
    "        estimator=DecisionTreeRegressor(),\n",
    "        n_estimators=n,\n",
    "        random_state=0\n",
    "    )\n",
    "    model.fit(X_train, y_train)\n",
    "    preds = model.predict(X_test)\n",
    "    \n",
    "    # use the new function for RMSE\n",
    "    rmse = root_mean_squared_error(y_test, preds)\n",
    "    print(f\"n_estimators={n} → RMSE={rmse:.3f}\")\n"
   ]
  },
  {
   "cell_type": "code",
   "execution_count": null,
   "id": "1e826115-9d0b-4ce0-ad05-a674a6d33e44",
   "metadata": {},
   "outputs": [],
   "source": [
    "### Q33. Train a Random Forest Classifier and analyze misclassified samples.\n"
   ]
  },
  {
   "cell_type": "code",
   "execution_count": 46,
   "id": "78183133-3975-4f72-b936-a9e532af9e7b",
   "metadata": {},
   "outputs": [
    {
     "name": "stdout",
     "output_type": "stream",
     "text": [
      "Confusion matrix:\n",
      " [[58  8]\n",
      " [13 71]]\n",
      "\n",
      "Number of misclassified samples: 21\n"
     ]
    },
    {
     "data": {
      "text/plain": [
       "[{'index': 1,\n",
       "  'true': 0,\n",
       "  'pred': 1,\n",
       "  'features': [1.3559342576239626,\n",
       "   -1.172726913036587,\n",
       "   -0.07655212712475945,\n",
       "   -0.08732818705761503,\n",
       "   -3.152021098231856,\n",
       "   -2.3589724067668336,\n",
       "   -0.9249856993465512,\n",
       "   1.9783726998796622,\n",
       "   -0.6293390742828846,\n",
       "   0.028169873189996596]},\n",
       " {'index': 5,\n",
       "  'true': 1,\n",
       "  'pred': 0,\n",
       "  'features': [1.0470655724363682,\n",
       "   -0.5579045064649167,\n",
       "   -1.9470624098274723,\n",
       "   -0.9818996930473791,\n",
       "   -1.2657908253763992,\n",
       "   -1.2670914516797844,\n",
       "   -0.6058039688734297,\n",
       "   -0.849614021965846,\n",
       "   -0.33799015548375855,\n",
       "   -0.9538609617541668]},\n",
       " {'index': 9,\n",
       "  'true': 0,\n",
       "  'pred': 1,\n",
       "  'features': [1.4404503585786905,\n",
       "   -1.54677273499123,\n",
       "   1.5520014246320764,\n",
       "   -1.7126293226824552,\n",
       "   -4.7111763685433425,\n",
       "   -2.30420384844052,\n",
       "   -1.7197510943738228,\n",
       "   -0.47622443631466943,\n",
       "   -1.6002299592979714,\n",
       "   0.5917269751515682]},\n",
       " {'index': 17,\n",
       "  'true': 0,\n",
       "  'pred': 1,\n",
       "  'features': [1.3028396654746377,\n",
       "   -2.054535589429749,\n",
       "   -0.30728040979356386,\n",
       "   0.6001668782522922,\n",
       "   -3.6089075693337223,\n",
       "   -1.6579695231761828,\n",
       "   -1.5003662808721214,\n",
       "   0.4511407898571997,\n",
       "   -0.5544089822625973,\n",
       "   -2.7162803092175745]},\n",
       " {'index': 21,\n",
       "  'true': 0,\n",
       "  'pred': 1,\n",
       "  'features': [3.005337107214172,\n",
       "   2.2179991413841638,\n",
       "   -2.0499100163525403,\n",
       "   0.6289995874568216,\n",
       "   0.7438078632804331,\n",
       "   1.978094299397568,\n",
       "   0.5771971075297471,\n",
       "   0.23497719288905192,\n",
       "   -1.7486848054301953,\n",
       "   -1.1076469009010301]}]"
      ]
     },
     "execution_count": 46,
     "metadata": {},
     "output_type": "execute_result"
    }
   ],
   "source": [
    "from sklearn.datasets import make_classification\n",
    "from sklearn.model_selection import train_test_split\n",
    "from sklearn.ensemble import RandomForestClassifier\n",
    "from sklearn.metrics import confusion_matrix\n",
    "\n",
    "# 1) Generate a binary classification dataset\n",
    "X, y = make_classification(\n",
    "    n_samples=500,\n",
    "    n_features=10,\n",
    "    n_informative=5,\n",
    "    n_classes=2,\n",
    "    random_state=0\n",
    ")\n",
    "X_train, X_test, y_train, y_test = train_test_split(\n",
    "    X, y, test_size=0.3, random_state=0\n",
    ")\n",
    "\n",
    "# 2) Train the Random Forest\n",
    "rf = RandomForestClassifier(n_estimators=100, random_state=0)\n",
    "rf.fit(X_train, y_train)\n",
    "\n",
    "# 3) Predict and compute confusion matrix\n",
    "y_pred = rf.predict(X_test)\n",
    "cm = confusion_matrix(y_test, y_pred)\n",
    "print(\"Confusion matrix:\\n\", cm)\n",
    "\n",
    "# 4) Find misclassified indices\n",
    "mis_idx = [i for i, (true, pred) in enumerate(zip(y_test, y_pred)) if true != pred]\n",
    "print(f\"\\nNumber of misclassified samples: {len(mis_idx)}\")\n",
    "\n",
    "# 5) Prepare a list of first 5 misclassifications for display\n",
    "mis_examples = [\n",
    "    {\"index\": i, \"true\": y_test[i], \"pred\": y_pred[i], \"features\": X_test[i].tolist()}\n",
    "    for i in mis_idx[:5]\n",
    "]\n",
    "\n",
    "# Return for Jupyter display\n",
    "mis_examples\n"
   ]
  },
  {
   "cell_type": "code",
   "execution_count": null,
   "id": "7a7146d8-535c-4172-900b-39008f2b3328",
   "metadata": {},
   "outputs": [],
   "source": [
    "### Q34. Train a Bagging Classifier and compare its performance with a single Decision Tree Classifier."
   ]
  },
  {
   "cell_type": "code",
   "execution_count": 48,
   "id": "b0a2aeaa-baf3-4121-8305-bdd6811b18e1",
   "metadata": {},
   "outputs": [
    {
     "name": "stdout",
     "output_type": "stream",
     "text": [
      "Decision Tree accuracy: 0.793\n",
      "Bagging Classifier accuracy: 0.860\n"
     ]
    },
    {
     "data": {
      "text/plain": [
       "{'Decision Tree Accuracy': 0.7933333333333333,\n",
       " 'Bagging Classifier Accuracy': 0.86}"
      ]
     },
     "execution_count": 48,
     "metadata": {},
     "output_type": "execute_result"
    }
   ],
   "source": [
    "from sklearn.datasets import make_classification\n",
    "from sklearn.model_selection import train_test_split\n",
    "from sklearn.tree import DecisionTreeClassifier\n",
    "from sklearn.ensemble import BaggingClassifier\n",
    "from sklearn.metrics import accuracy_score\n",
    "\n",
    "# 1) Generate a binary classification dataset\n",
    "X, y = make_classification(\n",
    "    n_samples=500,\n",
    "    n_features=10,\n",
    "    n_informative=5,\n",
    "    n_classes=2,\n",
    "    random_state=0\n",
    ")\n",
    "X_train, X_test, y_train, y_test = train_test_split(\n",
    "    X, y, test_size=0.3, random_state=0\n",
    ")\n",
    "\n",
    "# 2) Train a single Decision Tree\n",
    "dt = DecisionTreeClassifier(random_state=0)\n",
    "dt.fit(X_train, y_train)\n",
    "dt_acc = accuracy_score(y_test, dt.predict(X_test))\n",
    "print(f\"Decision Tree accuracy: {dt_acc:.3f}\")\n",
    "\n",
    "# 3) Train a Bagging Classifier with Decision Trees as base estimators\n",
    "bg = BaggingClassifier(\n",
    "    estimator=DecisionTreeClassifier(),\n",
    "    n_estimators=10,\n",
    "    random_state=0\n",
    ")\n",
    "bg.fit(X_train, y_train)\n",
    "bg_acc = accuracy_score(y_test, bg.predict(X_test))\n",
    "print(f\"Bagging Classifier accuracy: {bg_acc:.3f}\")\n",
    "\n",
    "# 4) Return results for Jupyter display\n",
    "results = {\n",
    "    \"Decision Tree Accuracy\": dt_acc,\n",
    "    \"Bagging Classifier Accuracy\": bg_acc\n",
    "}\n",
    "results\n"
   ]
  },
  {
   "cell_type": "code",
   "execution_count": null,
   "id": "b8f12ff7-8d84-4a64-bd41-33b6dea85347",
   "metadata": {},
   "outputs": [],
   "source": [
    "### Q35. Train a Random Forest Classifier and visualize the confusion matrix.\n"
   ]
  },
  {
   "cell_type": "code",
   "execution_count": 49,
   "id": "e078258d-e41d-4866-862e-b27fbe174b00",
   "metadata": {},
   "outputs": [
    {
     "data": {
      "image/png": "[encoded data removed]",
      "text/plain": [
       "<Figure size 640x480 with 2 Axes>"
      ]
     },
     "metadata": {},
     "output_type": "display_data"
    }
   ],
   "source": [
    "from sklearn.datasets import make_classification\n",
    "from sklearn.model_selection import train_test_split\n",
    "from sklearn.ensemble import RandomForestClassifier\n",
    "from sklearn.metrics import ConfusionMatrixDisplay\n",
    "import matplotlib.pyplot as plt\n",
    "\n",
    "# 1) Generate a binary classification dataset\n",
    "X, y = make_classification(\n",
    "    n_samples=500,\n",
    "    n_features=10,\n",
    "    n_informative=5,\n",
    "    n_classes=2,\n",
    "    random_state=0\n",
    ")\n",
    "X_train, X_test, y_train, y_test = train_test_split(\n",
    "    X, y, test_size=0.3, random_state=0\n",
    ")\n",
    "\n",
    "# 2) Train the Random Forest\n",
    "rf = RandomForestClassifier(n_estimators=100, random_state=0)\n",
    "rf.fit(X_train, y_train)\n",
    "\n",
    "# 3) Predict and display confusion matrix\n",
    "ConfusionMatrixDisplay.from_estimator(rf, X_test, y_test)\n",
    "plt.title(\"Confusion Matrix for Random Forest\")\n",
    "plt.show()\n"
   ]
  },
  {
   "cell_type": "code",
   "execution_count": null,
   "id": "113edfc5-f4c7-4406-9676-eb4394cbc405",
   "metadata": {},
   "outputs": [],
   "source": [
    "### Q36. Train a Stacking Classifier using Decision Trees, SVM, and Logistic Regression, and compare accuracy.\n"
   ]
  },
  {
   "cell_type": "code",
   "execution_count": 52,
   "id": "8a2bb982-caf8-4926-85a3-f35b44c557a4",
   "metadata": {},
   "outputs": [
    {
     "name": "stdout",
     "output_type": "stream",
     "text": [
      "Stacking Classifier accuracy: 0.893\n"
     ]
    }
   ],
   "source": [
    "from sklearn.datasets import make_classification\n",
    "from sklearn.model_selection import train_test_split\n",
    "from sklearn.ensemble import StackingClassifier\n",
    "from sklearn.tree import DecisionTreeClassifier\n",
    "from sklearn.svm import SVC\n",
    "from sklearn.linear_model import LogisticRegression\n",
    "from sklearn.metrics import accuracy_score\n",
    "\n",
    "# 1) Generate a binary classification dataset\n",
    "X, y = make_classification(\n",
    "    n_samples=500,\n",
    "    n_features=10,\n",
    "    n_informative=5,\n",
    "    n_classes=2,\n",
    "    random_state=0\n",
    ")\n",
    "X_train, X_test, y_train, y_test = train_test_split(\n",
    "    X, y, test_size=0.3, random_state=0\n",
    ")\n",
    "\n",
    "# 2) Define base learners and stacking model\n",
    "estimators = [\n",
    "    ('dt', DecisionTreeClassifier(random_state=0)),\n",
    "    ('svc', SVC(probability=True, random_state=0))\n",
    "]\n",
    "stack = StackingClassifier(\n",
    "    estimators=estimators,\n",
    "    final_estimator=LogisticRegression(),\n",
    "    cv=5,\n",
    "    n_jobs=-1\n",
    ")\n",
    "\n",
    "# 3) Train and evaluate\n",
    "stack.fit(X_train, y_train)\n",
    "y_pred = stack.predict(X_test)\n",
    "stack_acc = accuracy_score(y_test, y_pred)\n",
    "print(f\"Stacking Classifier accuracy: {stack_acc:.3f}\")\n"
   ]
  },
  {
   "cell_type": "code",
   "execution_count": null,
   "id": "b5020adf-9451-461c-8e16-e8ec6bd19017",
   "metadata": {},
   "outputs": [],
   "source": [
    "### Q37. Train a Random Forest Classifier and print the top 5 most important features."
   ]
  },
  {
   "cell_type": "code",
   "execution_count": 53,
   "id": "0b1657a3-6ce5-45c8-88f2-0130aef6a2a8",
   "metadata": {},
   "outputs": [
    {
     "name": "stdout",
     "output_type": "stream",
     "text": [
      "Top 5 feature importances (feature index: importance):\n",
      "Feature 6: 0.2711\n",
      "Feature 8: 0.1890\n",
      "Feature 5: 0.1422\n",
      "Feature 4: 0.0923\n",
      "Feature 0: 0.0871\n"
     ]
    },
    {
     "data": {
      "text/plain": [
       "[(6, 0.2711351872057966),\n",
       " (8, 0.18904393732558578),\n",
       " (5, 0.1422473820008795),\n",
       " (4, 0.09226990649946744),\n",
       " (0, 0.08706158837978581)]"
      ]
     },
     "execution_count": 53,
     "metadata": {},
     "output_type": "execute_result"
    }
   ],
   "source": [
    "from sklearn.datasets import make_classification\n",
    "from sklearn.model_selection import train_test_split\n",
    "from sklearn.ensemble import RandomForestClassifier\n",
    "\n",
    "# 1) Generate a binary classification dataset\n",
    "X, y = make_classification(\n",
    "    n_samples=500,\n",
    "    n_features=10,\n",
    "    n_informative=5,\n",
    "    n_classes=2,\n",
    "    random_state=0\n",
    ")\n",
    "X_train, X_test, y_train, y_test = train_test_split(\n",
    "    X, y, test_size=0.3, random_state=0\n",
    ")\n",
    "\n",
    "# 2) Train the Random Forest\n",
    "rf = RandomForestClassifier(n_estimators=100, random_state=0)\n",
    "rf.fit(X_train, y_train)\n",
    "\n",
    "# 3) Compute feature importances and sort\n",
    "importances = rf.feature_importances_\n",
    "indices = importances.argsort()[::-1][:5]\n",
    "\n",
    "# 4) Print the top 5 features\n",
    "print(\"Top 5 feature importances (feature index: importance):\")\n",
    "for idx in indices:\n",
    "    print(f\"Feature {idx}: {importances[idx]:.4f}\")\n",
    "\n",
    "# 5) Return list of tuples for Jupyter display\n",
    "top5 = [(int(idx), float(importances[idx])) for idx in indices]\n",
    "top5\n"
   ]
  },
  {
   "cell_type": "code",
   "execution_count": null,
   "id": "0d4f299d-92a0-4c0c-acd7-41a180e8942a",
   "metadata": {},
   "outputs": [],
   "source": [
    "### Q38. Train a Bagging Classifier and evaluate performance using Precision, Recall, and F1-score.\n"
   ]
  },
  {
   "cell_type": "code",
   "execution_count": 54,
   "id": "54fc5f3e-cae9-4a79-bf6f-1a2c3c88d955",
   "metadata": {},
   "outputs": [
    {
     "name": "stdout",
     "output_type": "stream",
     "text": [
      "Precision: 0.899\n",
      "Recall:    0.845\n",
      "F1-score:  0.871\n"
     ]
    },
    {
     "data": {
      "text/plain": [
       "{'precision': 0.8987341772151899,\n",
       " 'recall': 0.8452380952380952,\n",
       " 'f1_score': 0.8711656441717791}"
      ]
     },
     "execution_count": 54,
     "metadata": {},
     "output_type": "execute_result"
    }
   ],
   "source": [
    "from sklearn.datasets import make_classification\n",
    "from sklearn.model_selection import train_test_split\n",
    "from sklearn.tree import DecisionTreeClassifier\n",
    "from sklearn.ensemble import BaggingClassifier\n",
    "from sklearn.metrics import precision_recall_fscore_support\n",
    "\n",
    "# 1) Generate a binary classification dataset\n",
    "X, y = make_classification(\n",
    "    n_samples=500,\n",
    "    n_features=10,\n",
    "    n_informative=5,\n",
    "    n_classes=2,\n",
    "    random_state=0\n",
    ")\n",
    "X_train, X_test, y_train, y_test = train_test_split(\n",
    "    X, y, test_size=0.3, random_state=0\n",
    ")\n",
    "\n",
    "# 2) Train a Bagging Classifier\n",
    "bg = BaggingClassifier(\n",
    "    estimator=DecisionTreeClassifier(random_state=0),\n",
    "    n_estimators=20,\n",
    "    random_state=0,\n",
    "    n_jobs=-1\n",
    ")\n",
    "bg.fit(X_train, y_train)\n",
    "\n",
    "# 3) Predict and evaluate\n",
    "y_pred = bg.predict(X_test)\n",
    "precision, recall, f1, _ = precision_recall_fscore_support(\n",
    "    y_test, y_pred, average='binary'\n",
    ")\n",
    "\n",
    "print(f\"Precision: {precision:.3f}\")\n",
    "print(f\"Recall:    {recall:.3f}\")\n",
    "print(f\"F1-score:  {f1:.3f}\")\n",
    "\n",
    "# 4) Return the metrics for display\n",
    "{\"precision\": precision, \"recall\": recall, \"f1_score\": f1}\n"
   ]
  },
  {
   "cell_type": "code",
   "execution_count": null,
   "id": "a011bdf7-cb00-4c6f-8729-5659ec63ad94",
   "metadata": {},
   "outputs": [],
   "source": [
    "### Q39. Train a Random Forest Classifier and analyze the effect of max_depth on accuracy.\n"
   ]
  },
  {
   "cell_type": "code",
   "execution_count": 55,
   "id": "c8d627c4-f741-4e98-bbd9-ef6cc59238b8",
   "metadata": {},
   "outputs": [
    {
     "name": "stdout",
     "output_type": "stream",
     "text": [
      "max_depth=None → Accuracy=0.860\n",
      "max_depth=5    → Accuracy=0.867\n",
      "max_depth=10   → Accuracy=0.860\n",
      "max_depth=20   → Accuracy=0.860\n"
     ]
    },
    {
     "data": {
      "text/plain": [
       "[(None, 0.86), (5, 0.8666666666666667), (10, 0.86), (20, 0.86)]"
      ]
     },
     "execution_count": 55,
     "metadata": {},
     "output_type": "execute_result"
    }
   ],
   "source": [
    "from sklearn.datasets import make_classification\n",
    "from sklearn.model_selection import train_test_split\n",
    "from sklearn.ensemble import RandomForestClassifier\n",
    "\n",
    "# 1) Generate a binary classification dataset\n",
    "X, y = make_classification(\n",
    "    n_samples=500,\n",
    "    n_features=10,\n",
    "    n_informative=5,\n",
    "    n_classes=2,\n",
    "    random_state=0\n",
    ")\n",
    "X_train, X_test, y_train, y_test = train_test_split(\n",
    "    X, y, test_size=0.3, random_state=0\n",
    ")\n",
    "\n",
    "# 2) Train Random Forests with different max_depth values and record accuracy\n",
    "results = []\n",
    "for depth in [None, 5, 10, 20]:\n",
    "    rf = RandomForestClassifier(\n",
    "        n_estimators=100,\n",
    "        max_depth=depth,\n",
    "        random_state=0\n",
    "    )\n",
    "    rf.fit(X_train, y_train)\n",
    "    acc = rf.score(X_test, y_test)\n",
    "    print(f\"max_depth={depth!s:<4} → Accuracy={acc:.3f}\")\n",
    "    results.append((depth, acc))\n",
    "\n",
    "# 3) Return results for Jupyter display\n",
    "results\n"
   ]
  },
  {
   "cell_type": "code",
   "execution_count": null,
   "id": "b7126989-af2d-4069-b181-86081c6311b3",
   "metadata": {},
   "outputs": [],
   "source": [
    "### Q40. Train a Bagging Regressor using different base estimators (DecisionTreeRegressor and KNeighborsRegressor) and compare performance."
   ]
  },
  {
   "cell_type": "code",
   "execution_count": 56,
   "id": "4c329794-847e-41a6-9f00-55e3e4b7a5f2",
   "metadata": {},
   "outputs": [
    {
     "name": "stdout",
     "output_type": "stream",
     "text": [
      "DecisionTreeRegressor base → RMSE=65.907\n",
      "KNeighborsRegressor base → RMSE=69.957\n"
     ]
    },
    {
     "data": {
      "text/plain": [
       "[('DecisionTreeRegressor', 65.90706514149535),\n",
       " ('KNeighborsRegressor', 69.95711502849221)]"
      ]
     },
     "execution_count": 56,
     "metadata": {},
     "output_type": "execute_result"
    }
   ],
   "source": [
    "from sklearn.datasets import make_regression\n",
    "from sklearn.model_selection import train_test_split\n",
    "from sklearn.ensemble import BaggingRegressor\n",
    "from sklearn.tree import DecisionTreeRegressor\n",
    "from sklearn.neighbors import KNeighborsRegressor\n",
    "from sklearn.metrics import root_mean_squared_error\n",
    "\n",
    "# 1) Generate a regression dataset\n",
    "X, y = make_regression(\n",
    "    n_samples=500,\n",
    "    n_features=10,\n",
    "    noise=0.2,\n",
    "    random_state=0\n",
    ")\n",
    "X_train, X_test, y_train, y_test = train_test_split(\n",
    "    X, y, test_size=0.3, random_state=0\n",
    ")\n",
    "\n",
    "# 2) Train BaggingRegressor with different base estimators\n",
    "results = []\n",
    "for base in [DecisionTreeRegressor(random_state=0), KNeighborsRegressor()]:\n",
    "    model = BaggingRegressor(\n",
    "        estimator=base,\n",
    "        n_estimators=20,\n",
    "        random_state=0,\n",
    "        n_jobs=-1\n",
    "    )\n",
    "    model.fit(X_train, y_train)\n",
    "    preds = model.predict(X_test)\n",
    "    rmse = root_mean_squared_error(y_test, preds)\n",
    "    print(f\"{base.__class__.__name__} base → RMSE={rmse:.3f}\")\n",
    "    results.append((base.__class__.__name__, rmse))\n",
    "\n",
    "# 3) Return results for Jupyter display\n",
    "results\n"
   ]
  },
  {
   "cell_type": "code",
   "execution_count": null,
   "id": "bdc5c36c-e6a8-45c4-9e49-f5e08464c7af",
   "metadata": {},
   "outputs": [],
   "source": [
    "### Q41. Train a Random Forest Classifier and evaluate its performance using ROC-AUC Score."
   ]
  },
  {
   "cell_type": "code",
   "execution_count": 57,
   "id": "60fcb3d9-6b8f-45eb-b9c9-0a139b52bd62",
   "metadata": {},
   "outputs": [
    {
     "name": "stdout",
     "output_type": "stream",
     "text": [
      "ROC-AUC Score: 0.917\n"
     ]
    },
    {
     "data": {
      "text/plain": [
       "0.9167568542568544"
      ]
     },
     "execution_count": 57,
     "metadata": {},
     "output_type": "execute_result"
    }
   ],
   "source": [
    "from sklearn.datasets import make_classification\n",
    "from sklearn.model_selection import train_test_split\n",
    "from sklearn.ensemble import RandomForestClassifier\n",
    "from sklearn.metrics import roc_auc_score\n",
    "\n",
    "# 1) Generate a binary classification dataset\n",
    "X, y = make_classification(\n",
    "    n_samples=500,\n",
    "    n_features=10,\n",
    "    n_informative=5,\n",
    "    n_classes=2,\n",
    "    random_state=0\n",
    ")\n",
    "X_train, X_test, y_train, y_test = train_test_split(\n",
    "    X, y, test_size=0.3, random_state=0\n",
    ")\n",
    "\n",
    "# 2) Train the Random Forest\n",
    "rf = RandomForestClassifier(n_estimators=100, random_state=0)\n",
    "rf.fit(X_train, y_train)\n",
    "\n",
    "# 3) Compute predicted probabilities and ROC-AUC\n",
    "y_prob = rf.predict_proba(X_test)[:, 1]\n",
    "roc_auc = roc_auc_score(y_test, y_prob)\n",
    "print(f\"ROC-AUC Score: {roc_auc:.3f}\")\n",
    "\n",
    "# 4) Return for Jupyter display\n",
    "roc_auc\n"
   ]
  },
  {
   "cell_type": "code",
   "execution_count": null,
   "id": "2a44b493-3c4a-4e45-beea-0ac44ad64077",
   "metadata": {},
   "outputs": [],
   "source": [
    "### Q42. Train a Bagging Classifier and evaluate its performance using cross-validation."
   ]
  },
  {
   "cell_type": "code",
   "execution_count": 58,
   "id": "6bfb432e-e05c-4c33-afb6-09efac1751df",
   "metadata": {},
   "outputs": [
    {
     "name": "stdout",
     "output_type": "stream",
     "text": [
      "Cross-validation accuracies: [0.82 0.91 0.89 0.87 0.88]\n",
      "Mean accuracy: 0.874\n"
     ]
    },
    {
     "data": {
      "text/plain": [
       "array([0.82, 0.91, 0.89, 0.87, 0.88])"
      ]
     },
     "execution_count": 58,
     "metadata": {},
     "output_type": "execute_result"
    }
   ],
   "source": [
    "from sklearn.datasets import make_classification\n",
    "from sklearn.model_selection import cross_val_score\n",
    "from sklearn.tree import DecisionTreeClassifier\n",
    "from sklearn.ensemble import BaggingClassifier\n",
    "\n",
    "# 1) Generate a binary classification dataset\n",
    "X, y = make_classification(\n",
    "    n_samples=500,\n",
    "    n_features=10,\n",
    "    n_informative=5,\n",
    "    n_classes=2,\n",
    "    random_state=0\n",
    ")\n",
    "\n",
    "# 2) Define the Bagging Classifier\n",
    "bg = BaggingClassifier(\n",
    "    estimator=DecisionTreeClassifier(random_state=0),\n",
    "    n_estimators=20,\n",
    "    random_state=0,\n",
    "    n_jobs=-1\n",
    ")\n",
    "\n",
    "# 3) Evaluate with 5-fold cross-validation\n",
    "scores = cross_val_score(bg, X, y, cv=5)\n",
    "\n",
    "# 4) Print and return results\n",
    "print(\"Cross-validation accuracies:\", scores)\n",
    "print(\"Mean accuracy:\", scores.mean())\n",
    "\n",
    "# Return scores for Jupyter display\n",
    "scores\n"
   ]
  },
  {
   "cell_type": "code",
   "execution_count": null,
   "id": "4f3ecb0a-610c-49c9-b9c5-15506a1a5ae6",
   "metadata": {},
   "outputs": [],
   "source": [
    "### Q43. Train a Random Forest Classifier and plot the Precision–Recall curve."
   ]
  },
  {
   "cell_type": "code",
   "execution_count": 59,
   "id": "8441f922-3792-4f40-ac5f-8fef61bd4557",
   "metadata": {},
   "outputs": [
    {
     "data": {
      "image/png": "[encoded data removed]",
      "text/plain": [
       "<Figure size 640x480 with 1 Axes>"
      ]
     },
     "metadata": {},
     "output_type": "display_data"
    }
   ],
   "source": [
    "from sklearn.datasets import make_classification\n",
    "from sklearn.model_selection import train_test_split\n",
    "from sklearn.ensemble import RandomForestClassifier\n",
    "from sklearn.metrics import PrecisionRecallDisplay\n",
    "import matplotlib.pyplot as plt\n",
    "\n",
    "# 1) Generate a binary classification dataset\n",
    "X, y = make_classification(\n",
    "    n_samples=500,\n",
    "    n_features=10,\n",
    "    n_informative=5,\n",
    "    n_classes=2,\n",
    "    random_state=0\n",
    ")\n",
    "X_train, X_test, y_train, y_test = train_test_split(\n",
    "    X, y, test_size=0.3, random_state=0\n",
    ")\n",
    "\n",
    "# 2) Train the Random Forest\n",
    "rf = RandomForestClassifier(n_estimators=100, random_state=0)\n",
    "rf.fit(X_train, y_train)\n",
    "\n",
    "# 3) Predict probabilities for the positive class\n",
    "y_prob = rf.predict_proba(X_test)[:, 1]\n",
    "\n",
    "# 4) Plot Precision–Recall curve\n",
    "PrecisionRecallDisplay.from_predictions(y_test, y_prob)\n",
    "plt.title(\"Precision–Recall Curve for Random Forest\")\n",
    "plt.xlabel(\"Recall\")\n",
    "plt.ylabel(\"Precision\")\n",
    "plt.show()"
   ]
  },
  {
   "cell_type": "code",
   "execution_count": null,
   "id": "fce47802-c085-4bb5-835a-bb9f9a64a672",
   "metadata": {},
   "outputs": [],
   "source": [
    "### Q44. Train a Stacking Classifier with Random Forest and Logistic Regression and compare accuracy."
   ]
  },
  {
   "cell_type": "code",
   "execution_count": 60,
   "id": "1a93de98-93ea-486a-89c4-0fb4200f16e7",
   "metadata": {},
   "outputs": [
    {
     "name": "stdout",
     "output_type": "stream",
     "text": [
      "Stacking (RF + LR) accuracy: 0.860\n"
     ]
    },
    {
     "data": {
      "text/plain": [
       "0.86"
      ]
     },
     "execution_count": 60,
     "metadata": {},
     "output_type": "execute_result"
    }
   ],
   "source": [
    "from sklearn.datasets import make_classification\n",
    "from sklearn.model_selection import train_test_split\n",
    "from sklearn.ensemble import StackingClassifier, RandomForestClassifier\n",
    "from sklearn.linear_model import LogisticRegression\n",
    "from sklearn.metrics import accuracy_score\n",
    "\n",
    "# 1) Generate a binary classification dataset\n",
    "X, y = make_classification(\n",
    "    n_samples=500,\n",
    "    n_features=10,\n",
    "    n_informative=5,\n",
    "    n_classes=2,\n",
    "    random_state=0\n",
    ")\n",
    "X_train, X_test, y_train, y_test = train_test_split(\n",
    "    X, y, test_size=0.3, random_state=0\n",
    ")\n",
    "\n",
    "# 2) Define the stacking ensemble (RF as base, LR as final estimator)\n",
    "estimators = [\n",
    "    ('rf', RandomForestClassifier(n_estimators=100, random_state=0))\n",
    "]\n",
    "stack = StackingClassifier(\n",
    "    estimators=estimators,\n",
    "    final_estimator=LogisticRegression(),\n",
    "    cv=5,\n",
    "    n_jobs=-1\n",
    ")\n",
    "\n",
    "# 3) Train and evaluate\n",
    "stack.fit(X_train, y_train)\n",
    "y_pred = stack.predict(X_test)\n",
    "stack_acc = accuracy_score(y_test, y_pred)\n",
    "print(f\"Stacking (RF + LR) accuracy: {stack_acc:.3f}\")\n",
    "\n",
    "# 4) Return accuracy for Jupyter display\n",
    "stack_acc"
   ]
  },
  {
   "cell_type": "code",
   "execution_count": null,
   "id": "fdedd0d6-9250-4d10-87f1-d0309933621e",
   "metadata": {},
   "outputs": [],
   "source": [
    "### Q45. Train a Bagging Regressor with different levels of bootstrap samples and compare performance."
   ]
  },
  {
   "cell_type": "code",
   "execution_count": 61,
   "id": "aaed22dd-15b7-4fce-8c80-5772a33d2bb8",
   "metadata": {},
   "outputs": [
    {
     "name": "stdout",
     "output_type": "stream",
     "text": [
      "bootstrap=True → RMSE=65.907\n",
      "bootstrap=False → RMSE=105.717\n"
     ]
    },
    {
     "data": {
      "text/plain": [
       "[(True, 65.90706514149535), (False, 105.71677402349597)]"
      ]
     },
     "execution_count": 61,
     "metadata": {},
     "output_type": "execute_result"
    }
   ],
   "source": [
    "from sklearn.datasets import make_regression\n",
    "from sklearn.model_selection import train_test_split\n",
    "from sklearn.ensemble import BaggingRegressor\n",
    "from sklearn.tree import DecisionTreeRegressor\n",
    "from sklearn.metrics import root_mean_squared_error\n",
    "\n",
    "# 1) Generate a regression dataset\n",
    "X, y = make_regression(\n",
    "    n_samples=500,\n",
    "    n_features=10,\n",
    "    noise=0.2,\n",
    "    random_state=0\n",
    ")\n",
    "X_train, X_test, y_train, y_test = train_test_split(\n",
    "    X, y, test_size=0.3, random_state=0\n",
    ")\n",
    "\n",
    "# 2) Train BaggingRegressor with and without bootstrap sampling\n",
    "results = []\n",
    "for boot in [True, False]:\n",
    "    model = BaggingRegressor(\n",
    "        estimator=DecisionTreeRegressor(random_state=0),\n",
    "        n_estimators=20,\n",
    "        bootstrap=boot,\n",
    "        random_state=0,\n",
    "        n_jobs=-1\n",
    "    )\n",
    "    model.fit(X_train, y_train)\n",
    "    preds = model.predict(X_test)\n",
    "    rmse = root_mean_squared_error(y_test, preds)\n",
    "    print(f\"bootstrap={boot} → RMSE={rmse:.3f}\")\n",
    "    results.append((boot, rmse))\n",
    "\n",
    "# 3) Return results for Jupyter display\n",
    "results"
   ]
  },
  {
   "cell_type": "code",
   "execution_count": null,
   "id": "e75bd88d-f3bd-48e4-a7bf-66cf6207896d",
   "metadata": {},
   "outputs": [],
   "source": []
  }
 ],
 "metadata": {
  "kernelspec": {
   "display_name": "Python 3 (ipykernel)",
   "language": "python",
   "name": "python3"
  },
  "language_info": {
   "codemirror_mode": {
    "name": "ipython",
    "version": 3
   },
   "file_extension": ".py",
   "mimetype": "text/x-python",
   "name": "python",
   "nbconvert_exporter": "python",
   "pygments_lexer": "ipython3",
   "version": "3.12.7"
  }
 },
 "nbformat": 4,
 "nbformat_minor": 5
}

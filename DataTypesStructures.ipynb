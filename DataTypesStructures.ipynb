{
  "nbformat": 4,
  "nbformat_minor": 0,
  "metadata": {
    "colab": {
      "provenance": [],
      "collapsed_sections": [
        "09oFCfsiZqHz",
        "X28C8-7xaIdV",
        "hm2h_2MmdKxP",
        "7nW_OHddg_-K",
        "RtifN1ZUhoSg",
        "TqtuW2DHjerG",
        "gDDCmspAkwaq",
        "jg_E1AsLm0WG",
        "VsZELltgs895",
        "eh-kKtlBu0aM",
        "a6LRELXkvPCX",
        "k5H2FdjHwk__",
        "ZInWy2jPxJAu",
        "oU5hMfio6OjC",
        "UdI_gT606p28",
        "ZqJuy-FC8ePl",
        "gJ2nWt2v_eHk",
        "np_muWGOAPYJ",
        "9VrDoE4KA7Qx",
        "wi2kjKILD0P2",
        "aMUo2fL0ERIP",
        "CV7pVdIMF1J-",
        "UL4jMW6_GH5F",
        "8NWE0-yQ82FO"
      ],
      "toc_visible": true
    },
    "kernelspec": {
      "name": "python3",
      "display_name": "Python 3"
    },
    "language_info": {
      "name": "python"
    }
  },
  "cells": [
    {
      "cell_type": "code",
      "execution_count": null,
      "metadata": {
        "id": "7sl2ePL4ZV1M"
      },
      "outputs": [],
      "source": []
    },
    {
      "cell_type": "markdown",
      "source": [
        "### Q.1)What are data structures, and why are they important?"
      ],
      "metadata": {
        "id": "09oFCfsiZqHz"
      }
    },
    {
      "cell_type": "markdown",
      "source": [
        "In Python, data structures are used to store and organize data in a way that makes it easy to access and modify. They are crucial because they help manage data efficiently, allowing for fast data operations like searching, sorting, and manipulation, which can improve the performance of Python programs. Examples include lists, dictionaries, sets, and tuples."
      ],
      "metadata": {
        "id": "gAJwOP1CaFd1"
      }
    },
    {
      "cell_type": "markdown",
      "source": [
        "### Q.2)Explain the difference between mutable and immutable data types with examples?*italicized text*"
      ],
      "metadata": {
        "id": "X28C8-7xaIdV"
      }
    },
    {
      "cell_type": "markdown",
      "source": [
        "In Python, mutable data types are those that can be changed after they are created, while immutable data types cannot be altered once they're established.*italicized text*"
      ],
      "metadata": {
        "id": "PIw0kysLab5G"
      }
    },
    {
      "cell_type": "code",
      "source": [
        "#string: Strings in Python are immutable,\n",
        "name = \"PWSKILLS\"\n",
        "print(f\"Before change the value : {name}\")\n",
        "name = \"PWSKILLS ACADEMY\" # we can change the value of strings\n",
        "print(f\"After changing the value : {name}\")"
      ],
      "metadata": {
        "colab": {
          "base_uri": "https://localhost:8080/"
        },
        "id": "fbHmY0rYad6j",
        "outputId": "30e2f5a0-a39c-45fe-d2bf-284810df8172"
      },
      "execution_count": 3,
      "outputs": [
        {
          "output_type": "stream",
          "name": "stdout",
          "text": [
            "Before change the value : PWSKILLS\n",
            "After changing the value : PWSKILLS ACADEMY\n"
          ]
        }
      ]
    },
    {
      "cell_type": "code",
      "source": [
        "# Lists are mutable\n",
        "fruits = ['Mango', 'Apple', 'Cherry']\n",
        "print(f\"Before change the value: {fruits}\")\n",
        "fruits[1] = 'Banana'  # Changing 'Apple' to 'Banana'\n",
        "print(f\"After changing the value: {fruits}\")"
      ],
      "metadata": {
        "colab": {
          "base_uri": "https://localhost:8080/"
        },
        "id": "DvdCfZoxapjb",
        "outputId": "ac55f2ed-2f02-40d9-91df-a5a899db2752"
      },
      "execution_count": 4,
      "outputs": [
        {
          "output_type": "stream",
          "name": "stdout",
          "text": [
            "Before change the value : ['Mongo', 'Apple', 'Cherry']\n",
            "After changing the value : ['Mongo', 'Banana', 'Cherry']\n"
          ]
        }
      ]
    },
    {
      "cell_type": "code",
      "source": [],
      "metadata": {
        "id": "m3mx0QOlcMlW"
      },
      "execution_count": null,
      "outputs": []
    },
    {
      "cell_type": "code",
      "source": [
        "#Tuples are immutable\n",
        "fruits=('Mango','Banana','Cherry')\n",
        "print(f\"Before change the value : {fruits}\")\n",
        "fruits['Mango'] = 'Banana' ## Changing 'Mango'' to 'Banana'\n",
        "print(f\"After changing the value: {fruits}\") # It will throw an error, it means its immutable\n"
      ],
      "metadata": {
        "colab": {
          "base_uri": "https://localhost:8080/",
          "height": 211
        },
        "id": "39ZmdwNzbsbC",
        "outputId": "f7f13d56-d0a5-4bf7-de92-7bdefbf0f798"
      },
      "execution_count": 9,
      "outputs": [
        {
          "output_type": "stream",
          "name": "stdout",
          "text": [
            "Before change the value : ('Mango', 'Banana', 'Cherry')\n"
          ]
        },
        {
          "output_type": "error",
          "ename": "TypeError",
          "evalue": "'tuple' object does not support item assignment",
          "traceback": [
            "\u001b[0;31m---------------------------------------------------------------------------\u001b[0m",
            "\u001b[0;31mTypeError\u001b[0m                                 Traceback (most recent call last)",
            "\u001b[0;32m<ipython-input-9-c72a1ac28063>\u001b[0m in \u001b[0;36m<cell line: 4>\u001b[0;34m()\u001b[0m\n\u001b[1;32m      2\u001b[0m \u001b[0mfruits\u001b[0m\u001b[0;34m=\u001b[0m\u001b[0;34m(\u001b[0m\u001b[0;34m'Mango'\u001b[0m\u001b[0;34m,\u001b[0m\u001b[0;34m'Banana'\u001b[0m\u001b[0;34m,\u001b[0m\u001b[0;34m'Cherry'\u001b[0m\u001b[0;34m)\u001b[0m\u001b[0;34m\u001b[0m\u001b[0;34m\u001b[0m\u001b[0m\n\u001b[1;32m      3\u001b[0m \u001b[0mprint\u001b[0m\u001b[0;34m(\u001b[0m\u001b[0;34mf\"Before change the value : {fruits}\"\u001b[0m\u001b[0;34m)\u001b[0m\u001b[0;34m\u001b[0m\u001b[0;34m\u001b[0m\u001b[0m\n\u001b[0;32m----> 4\u001b[0;31m \u001b[0mfruits\u001b[0m\u001b[0;34m[\u001b[0m\u001b[0;34m'Mango'\u001b[0m\u001b[0;34m]\u001b[0m \u001b[0;34m=\u001b[0m \u001b[0;34m'Banana'\u001b[0m\u001b[0;34m\u001b[0m\u001b[0;34m\u001b[0m\u001b[0m\n\u001b[0m\u001b[1;32m      5\u001b[0m \u001b[0mprint\u001b[0m\u001b[0;34m(\u001b[0m\u001b[0;34mf\"After changing the value: {fruits}\"\u001b[0m\u001b[0;34m)\u001b[0m \u001b[0;31m# It will throw an error, it means its immutable\u001b[0m\u001b[0;34m\u001b[0m\u001b[0;34m\u001b[0m\u001b[0m\n",
            "\u001b[0;31mTypeError\u001b[0m: 'tuple' object does not support item assignment"
          ]
        }
      ]
    },
    {
      "cell_type": "markdown",
      "source": [
        "### Q.3)What are the main differences between lists and tuples in Python?\n",
        "\n"
      ],
      "metadata": {
        "id": "hm2h_2MmdKxP"
      }
    },
    {
      "cell_type": "markdown",
      "source": [
        "Lists are mutable, which means you can modify their content by adding, removing, or changing items.\n",
        "Tuples are immutable, meaning once they are created, their content cannot be changed. This makes tuples useful for storing data that should not be modified."
      ],
      "metadata": {
        "id": "RogEhM22dYjp"
      }
    },
    {
      "cell_type": "markdown",
      "source": [
        "### Q.4)Describe how dictionaries store data?"
      ],
      "metadata": {
        "id": "C5SFdb9AdjWh"
      }
    },
    {
      "cell_type": "markdown",
      "source": [
        "Dictionaries keep data in pairs, each with a unique key linked to a value. This setup helps you find data quickly.\n",
        "They use a special method to save each pair in a spot that's easy to find again, which speeds up data look-up.\n",
        "You can change dictionaries by adding new pairs, removing old ones, or updating values.\n",
        "Keys in dictionaries must be simple, unchangeable types like text or numbers, but the values can be any type of data."
      ],
      "metadata": {
        "id": "tn1esb3edl1C"
      }
    },
    {
      "cell_type": "code",
      "source": [
        "# Practical example of dictionaries in Python\n",
        "\n",
        "# Creating a dictionary with initial data\n",
        "dic = {\n",
        "    \"name\": \"PWskills\", # Each entry has a key (like \"name\") and a value (\"PWskills\")\n",
        "    \"course\": \"Data Science\",\n",
        "    \"duration\": \"6 months\"\n",
        "}\n",
        "\n",
        "# Accessing data: retrieve the value associated with the key 'name'\n",
        "print(\"Name:\", dic['name'])\n"
      ],
      "metadata": {
        "colab": {
          "base_uri": "https://localhost:8080/",
          "height": 35
        },
        "id": "uxFF7DrteE09",
        "outputId": "00aa3bbf-371f-4bd3-9353-63d02f773a7e"
      },
      "execution_count": 11,
      "outputs": [
        {
          "output_type": "execute_result",
          "data": {
            "text/plain": [
              "'PWskills'"
            ],
            "application/vnd.google.colaboratory.intrinsic+json": {
              "type": "string"
            }
          },
          "metadata": {},
          "execution_count": 11
        }
      ]
    },
    {
      "cell_type": "markdown",
      "source": [
        "###  Q.5)Why might you use a set instead of a list in Python?"
      ],
      "metadata": {
        "id": "Ar0XmwglfImf"
      }
    },
    {
      "cell_type": "markdown",
      "source": [
        "* Sets automatically remove duplicate items, making sure all elements are unique.\n",
        "* Checking for item presence and other operations are faster in sets because of their efficient structure.\n",
        "* Sets allow for mathematical operations like unions and intersections, useful for handling groups of items.\n",
        "* Unlike lists, sets do not preserve the order of elements, which can be beneficial if order is not a concern."
      ],
      "metadata": {
        "id": "Adbtx6u6fM7A"
      }
    },
    {
      "cell_type": "code",
      "source": [],
      "metadata": {
        "id": "I0hZqaQSb7aI"
      },
      "execution_count": null,
      "outputs": []
    },
    {
      "cell_type": "markdown",
      "source": [
        "### Q.6)What is a string in Python, and how is it different from a list?"
      ],
      "metadata": {
        "id": "HYPb0nZtgR6c"
      }
    },
    {
      "cell_type": "markdown",
      "source": [
        "A string in Python is a sequence of characters enclosed in quotes, used for storing text.*italicized text*\n",
        "\n",
        "* Strings are immutable; lists are mutable.\n",
        "* Strings hold characters; lists can contain any data type.\n",
        "* Strings are for text; lists are for collections of items.\n",
        "* Strings use a compact format; lists allow dynamic changes.\n",
        "\n"
      ],
      "metadata": {
        "id": "IrHMxO7AgZ--"
      }
    },
    {
      "cell_type": "markdown",
      "source": [
        "### Q.7)How do tuples ensure data integrity in Python?"
      ],
      "metadata": {
        "id": "cNme3Ddtgnuj"
      }
    },
    {
      "cell_type": "markdown",
      "source": [
        "Tuples ensure data integrity in Python by being immutable, meaning once created, their contents cannot be changed. This property makes them safe for storing data that must not be modified, and they can be used as keys in dictionaries, supporting consistent and reliable data handlin"
      ],
      "metadata": {
        "id": "yEsT4WWbg4-l"
      }
    },
    {
      "cell_type": "markdown",
      "source": [
        "### Q.8)What is a hash table, and how does it relate to dictionaries in Python?"
      ],
      "metadata": {
        "id": "7nW_OHddg_-K"
      }
    },
    {
      "cell_type": "markdown",
      "source": [
        "A hash table is a data structure that stores data in key-value pairs for fast access. In Python, dictionaries use hash tables to quickly find values based on their keys, making data retrieval, insertion, and deletion very efficient."
      ],
      "metadata": {
        "id": "taaE9adchPU1"
      }
    },
    {
      "cell_type": "markdown",
      "source": [
        "###  Q.9)Can lists contain different data types in Python?"
      ],
      "metadata": {
        "id": "RtifN1ZUhoSg"
      }
    },
    {
      "cell_type": "markdown",
      "source": [
        "Yes, lists in Python can contain different data types. You can mix integers, strings, other lists, dictionaries, and even functions within the same list. This flexibility allows Python lists to handle complex data structures conveniently."
      ],
      "metadata": {
        "id": "bTQ5NSV9hrdm"
      }
    },
    {
      "cell_type": "markdown",
      "source": [
        "### Q.10)Explain** why strings are immutable in Python?"
      ],
      "metadata": {
        "id": "FbzyP5xeh67C"
      }
    },
    {
      "cell_type": "markdown",
      "source": [
        "In Python, strings are immutable to prevent accidental changes to their content, which helps avoid bugs. Other immutable objects include integers, floats, tuples, and booleans. Mutable objects can be changed, but immutable ones cannot.\n",
        "* Strings are immutable to save memory by reusing them.\n",
        "* Immutability ensures safety in multi-threaded environments.\n",
        "* It allows strings to be used as keys in dictionaries.\n",
        "Prevents accidental changes, ensuring consistency."
      ],
      "metadata": {
        "id": "6A1Vy3bdh-Vt"
      }
    },
    {
      "cell_type": "markdown",
      "source": [
        "### Q.11)What advantages do dictionaries offer over lists for certain tasks?"
      ],
      "metadata": {
        "id": "TqtuW2DHjerG"
      }
    },
    {
      "cell_type": "markdown",
      "source": [
        "\n",
        "\n",
        "* Dictionaries allow quick access to values using unique keys, making lookups faster than searching through a list.\n",
        "* They store data in key-value pairs, making it easy to organize and retrieve related information.\n",
        "Dictionaries can handle complex data relationships, while lists are better for simple sequences.\n",
        "* Keys in dictionaries are unique, preventing duplicate entries for efficient data management.\n",
        "\n",
        "\n"
      ],
      "metadata": {
        "id": "qMhcDNl8joG0"
      }
    },
    {
      "cell_type": "markdown",
      "source": [
        "### Q.12)Describe a scenario where using a tuple would be preferable over a list?"
      ],
      "metadata": {
        "id": "gDDCmspAkwaq"
      }
    },
    {
      "cell_type": "markdown",
      "source": [
        "Using a tuple is preferable when you need to store data that should not change throughout the program.\n",
        "* Use tuples for fixed data like (ID, Name, Date).\n",
        "* Tuples ensure consistent data when returned from functions.\n",
        "* Tuples can be used as keys in dictionaries.\n",
        "Ideal for read-only data like constants."
      ],
      "metadata": {
        "id": "bG7DVxYliylt"
      }
    },
    {
      "cell_type": "markdown",
      "source": [
        "### Q.13)How do sets handle duplicate values in Python?"
      ],
      "metadata": {
        "id": "jg_E1AsLm0WG"
      }
    },
    {
      "cell_type": "markdown",
      "source": [
        "Sets automatically remove duplicate values in Python. When you add items to a set, any duplicates are ignored, and only unique elements are kept."
      ],
      "metadata": {
        "id": "iTHniw15nIkV"
      }
    },
    {
      "cell_type": "code",
      "source": [
        "my_set = {1, 2, 2, 3}\n",
        "print(my_set)\n"
      ],
      "metadata": {
        "id": "cOrzogU9nHnK"
      },
      "execution_count": null,
      "outputs": []
    },
    {
      "cell_type": "markdown",
      "source": [
        "### Q. 14)How does the “in” keyword work differently for lists and dictionaries?"
      ],
      "metadata": {
        "id": "1XGMTDihnfS1"
      }
    },
    {
      "cell_type": "markdown",
      "source": [
        "The **in** keyword works differently for lists and dictionaries:\n",
        "\n",
        "    * For lists, it checks if a value exists in the list.\n",
        "    * For dictionaries, it checks if a key exists in the dictionary, not the values."
      ],
      "metadata": {
        "id": "GZAIKQu9n3SY"
      }
    },
    {
      "cell_type": "code",
      "source": [
        "my_list = [1, 2, 3] # lists Example\n",
        "print(2 in my_list)  # Output: True"
      ],
      "metadata": {
        "id": "dq45IooKoBOn"
      },
      "execution_count": null,
      "outputs": []
    },
    {
      "cell_type": "code",
      "source": [
        "my_dict = {'a': 1, 'b': 2} #Dictionaries Example\n",
        "print('a' in my_dict)\n",
        "\n"
      ],
      "metadata": {
        "colab": {
          "base_uri": "https://localhost:8080/"
        },
        "id": "2M2IZNN9oLNY",
        "outputId": "2b15adb6-3f70-4dfb-bdfd-08340eaa33eb"
      },
      "execution_count": 12,
      "outputs": [
        {
          "output_type": "stream",
          "name": "stdout",
          "text": [
            "True\n",
            "False\n"
          ]
        }
      ]
    },
    {
      "cell_type": "markdown",
      "source": [
        "### Q.15)Can you modify the elements of a tuple? Explain why or why not?"
      ],
      "metadata": {
        "id": "5kgIdRdspE_f"
      }
    },
    {
      "cell_type": "markdown",
      "source": [
        "No, you cannot modify the elements of a tuple because tuples are immutable. Once a tuple is created, its elements cannot be changed, added, or removed. This immutability ensures data integrity and makes tuples suitable for storing fixed or constant data."
      ],
      "metadata": {
        "id": "VrbwlNkbpFoM"
      }
    },
    {
      "cell_type": "markdown",
      "source": [
        "### Q.16) What is a nested dictionary, and give an example of its use case?"
      ],
      "metadata": {
        "id": "Yqh1WDo3pQzX"
      }
    },
    {
      "cell_type": "markdown",
      "source": [
        "A nested dictionary is a dictionary within another dictionary. It is used to represent hierarchical or grouped data where each key maps to another dictionary."
      ],
      "metadata": {
        "id": "a8Ws0H5apidL"
      }
    },
    {
      "cell_type": "code",
      "source": [
        "students = {\n",
        "    \"Class A\": {\"John\": 85, \"Alice\": 90},\n",
        "    \"Class B\": {\"Bob\": 78, \"Emma\": 88}\n",
        "}\n",
        "\n",
        "# Accessing nested data\n",
        "print(students[\"Class A\"][\"John\"])"
      ],
      "metadata": {
        "colab": {
          "base_uri": "https://localhost:8080/"
        },
        "id": "AevU9_7bpjuN",
        "outputId": "b0370f57-ad85-4c2e-f79d-3d6df0771f56"
      },
      "execution_count": 13,
      "outputs": [
        {
          "output_type": "stream",
          "name": "stdout",
          "text": [
            "85\n"
          ]
        }
      ]
    },
    {
      "cell_type": "markdown",
      "source": [
        "### Q.17)Describe the time complexity of accessing elements in a dictionary?"
      ],
      "metadata": {
        "id": "FMHZMXeaqLrz"
      }
    },
    {
      "cell_type": "markdown",
      "source": [
        "The time complexity of retrieving a value by its key in a dictionary is O(1). This is because dictionaries use a hash table internally which allows constant time lookup."
      ],
      "metadata": {
        "id": "aMK5b8vtqVYV"
      }
    },
    {
      "cell_type": "markdown",
      "source": [
        "### Q.18)In what situations are lists preferred over dictionaries?"
      ],
      "metadata": {
        "id": "6r7t8mp8rSI9"
      }
    },
    {
      "cell_type": "markdown",
      "source": [
        "Lists are preferred over dictionaries in these situations:\n",
        "    * When storing ordered data where sequence matters.\n",
        "    * When accessing data by position (index) is needed.\n",
        "    * When duplicates are allowed in the collection.\n",
        "    * When memory usage should be minimal since lists use less space than dictionaries."
      ],
      "metadata": {
        "id": "syabbTHXrdVO"
      }
    },
    {
      "cell_type": "markdown",
      "source": [
        "### Q.19)Why are dictionaries considered unordered, and how does that affect data retrieval?"
      ],
      "metadata": {
        "id": "ua1ih2QPskiC"
      }
    },
    {
      "cell_type": "markdown",
      "source": [
        "Dictionaries are considered unordered because they store data based on hash values, not in a specific sequence.\n",
        "* This means items are not retrieved in the same order they were added.\n",
        "* Data retrieval is unaffected because values are accessed using keys, not their position.\n",
        "* The focus is on fast lookups, not maintaining order."
      ],
      "metadata": {
        "id": "O2oYeI9SsmVR"
      }
    },
    {
      "cell_type": "markdown",
      "source": [
        "### Q.20) Explain the difference between a list and a dictionary in terms of data retrieval?"
      ],
      "metadata": {
        "id": "VsZELltgs895"
      }
    },
    {
      "cell_type": "markdown",
      "source": [
        "* Lists retrieve data by position (index), so you need to know the item's location.\n",
        "* Dictionaries retrieve data by key, allowing for faster and more direct access.\n",
        "* Lists are better for sequential or positional data.\n",
        "* Dictionaries are ideal for data with unique identifiers (keys)."
      ],
      "metadata": {
        "id": "uuvLrtpHtXXG"
      }
    },
    {
      "cell_type": "code",
      "source": [],
      "metadata": {
        "id": "69e42Ul0rq14"
      },
      "execution_count": null,
      "outputs": []
    },
    {
      "cell_type": "markdown",
      "source": [
        "**# Practical Questions**"
      ],
      "metadata": {
        "id": "YtEmRTI6uNQs"
      }
    },
    {
      "cell_type": "markdown",
      "source": [
        "# Practical Questions"
      ],
      "metadata": {
        "id": "RuXdm5_puUIr"
      }
    },
    {
      "cell_type": "markdown",
      "source": [
        "### Q.1)Write a code to create a string with your name and print it?"
      ],
      "metadata": {
        "id": "1tAU46ytufty"
      }
    },
    {
      "cell_type": "code",
      "source": [
        "your_name = \"Kalpana\"\n",
        "print(your_name)"
      ],
      "metadata": {
        "colab": {
          "base_uri": "https://localhost:8080/"
        },
        "id": "3CQ_5sH4uoz0",
        "outputId": "f1d8c895-6058-4b15-ed86-f66dc4d40e3f"
      },
      "execution_count": 14,
      "outputs": [
        {
          "output_type": "stream",
          "name": "stdout",
          "text": [
            "Kalpana\n"
          ]
        }
      ]
    },
    {
      "cell_type": "code",
      "source": [],
      "metadata": {
        "id": "pNWML7b9uyeo"
      },
      "execution_count": null,
      "outputs": []
    },
    {
      "cell_type": "markdown",
      "source": [
        "### Q.2)Write a code to find the length of the string \"Hello World\"?"
      ],
      "metadata": {
        "id": "eh-kKtlBu0aM"
      }
    },
    {
      "cell_type": "code",
      "source": [
        "len('Hello World')\n"
      ],
      "metadata": {
        "colab": {
          "base_uri": "https://localhost:8080/"
        },
        "id": "4V45dlMNu7Dn",
        "outputId": "8c42fb13-d5b3-41c5-ec87-3eed8d2a98d9"
      },
      "execution_count": 15,
      "outputs": [
        {
          "output_type": "execute_result",
          "data": {
            "text/plain": [
              "11"
            ]
          },
          "metadata": {},
          "execution_count": 15
        }
      ]
    },
    {
      "cell_type": "markdown",
      "source": [
        "### Q.3)Write a code to slice the first 3 characters from the string \"Python Programming\"?"
      ],
      "metadata": {
        "id": "a6LRELXkvPCX"
      }
    },
    {
      "cell_type": "code",
      "source": [
        "course = \"python programming\"\n",
        "print(f\"sliced text : {course[:3]}\")"
      ],
      "metadata": {
        "colab": {
          "base_uri": "https://localhost:8080/"
        },
        "id": "_qUBDRc9vSwV",
        "outputId": "db5074b5-9de1-4ba4-d69b-ee24c7597b86"
      },
      "execution_count": 25,
      "outputs": [
        {
          "output_type": "stream",
          "name": "stdout",
          "text": [
            "sliced text : pyt\n"
          ]
        }
      ]
    },
    {
      "cell_type": "code",
      "source": [],
      "metadata": {
        "id": "btTtsC6GvtNi"
      },
      "execution_count": null,
      "outputs": []
    },
    {
      "cell_type": "markdown",
      "source": [
        "### Q.4)Write a code to convert the string \"hello\" to uppercase?"
      ],
      "metadata": {
        "id": "k5H2FdjHwk__"
      }
    },
    {
      "cell_type": "code",
      "source": [
        "str = \"hello\"\n",
        "print(f\"Uppercase string : {str.upper()}\")"
      ],
      "metadata": {
        "colab": {
          "base_uri": "https://localhost:8080/"
        },
        "id": "SkordOfwwpIs",
        "outputId": "f9b5d1ea-f5eb-41ba-dee8-e586ca1682ca"
      },
      "execution_count": 27,
      "outputs": [
        {
          "output_type": "stream",
          "name": "stdout",
          "text": [
            "Uppercase string : HELLO\n"
          ]
        }
      ]
    },
    {
      "cell_type": "code",
      "source": [],
      "metadata": {
        "id": "HOrvxoL9xHbN"
      },
      "execution_count": null,
      "outputs": []
    },
    {
      "cell_type": "markdown",
      "source": [
        "### Q.5)Write a code to replace the word \"apple\" with \"orange\" in the string \"I like apple\"?"
      ],
      "metadata": {
        "id": "ZInWy2jPxJAu"
      }
    },
    {
      "cell_type": "code",
      "source": [
        "str = \"I like apple\"\n",
        "print (str.replace('apple', 'orange '))"
      ],
      "metadata": {
        "colab": {
          "base_uri": "https://localhost:8080/"
        },
        "id": "uReUiWWrxSN-",
        "outputId": "97db2c84-ffe5-486c-d046-067807540aaa"
      },
      "execution_count": 30,
      "outputs": [
        {
          "output_type": "stream",
          "name": "stdout",
          "text": [
            "I like orange \n"
          ]
        }
      ]
    },
    {
      "cell_type": "markdown",
      "source": [
        "### Q.6) Write a code to create a list with numbers 1 to 5 and print it?"
      ],
      "metadata": {
        "id": "oU5hMfio6OjC"
      }
    },
    {
      "cell_type": "code",
      "source": [
        "list = [1,2,3,4,5]\n",
        "print(list)"
      ],
      "metadata": {
        "colab": {
          "base_uri": "https://localhost:8080/"
        },
        "id": "0-s6OBz46Zcs",
        "outputId": "d6857bff-c4db-4f0e-ccb5-9790908b0a21"
      },
      "execution_count": 33,
      "outputs": [
        {
          "output_type": "stream",
          "name": "stdout",
          "text": [
            "[1, 2, 3, 4, 5]\n"
          ]
        }
      ]
    },
    {
      "cell_type": "code",
      "source": [],
      "metadata": {
        "id": "L7QPPt346f3R"
      },
      "execution_count": null,
      "outputs": []
    },
    {
      "cell_type": "markdown",
      "source": [
        "### Q.7)Write a code to append the number 10 to the list [1, 2, 3, 4]?"
      ],
      "metadata": {
        "id": "UdI_gT606p28"
      }
    },
    {
      "cell_type": "code",
      "source": [
        "list=[1,2,3,4]\n",
        "print(f\"List before append : {list}\")\n",
        "list.append(10)\n",
        "print(f\"List after append : {list}\")"
      ],
      "metadata": {
        "colab": {
          "base_uri": "https://localhost:8080/"
        },
        "id": "0Rl5YqGn6291",
        "outputId": "7ae8772d-b54f-429f-f780-25470b4ae1b3"
      },
      "execution_count": 50,
      "outputs": [
        {
          "output_type": "stream",
          "name": "stdout",
          "text": [
            "List before append : [1, 2, 3, 4]\n",
            "List after append : [1, 2, 3, 4, 10]\n"
          ]
        }
      ]
    },
    {
      "cell_type": "markdown",
      "source": [
        "### Q.8) Write a code to remove the number 3 from the list [1, 2, 3, 4, 5]?"
      ],
      "metadata": {
        "id": "p2yUCyqk8AzR"
      }
    },
    {
      "cell_type": "code",
      "source": [
        "list = [1,2,3,4,5]\n",
        "list.remove(3) # remove the value three using remove function\n",
        "print(list)"
      ],
      "metadata": {
        "colab": {
          "base_uri": "https://localhost:8080/"
        },
        "id": "6ANIERsO8ITW",
        "outputId": "6a1baeee-0f19-437e-d822-b4548560ba1a"
      },
      "execution_count": 51,
      "outputs": [
        {
          "output_type": "stream",
          "name": "stdout",
          "text": [
            "[1, 2, 4, 5]\n"
          ]
        }
      ]
    },
    {
      "cell_type": "markdown",
      "source": [
        "### Q.9)Write a code to access the second element in the list ['a', 'b', 'c', 'd']?"
      ],
      "metadata": {
        "id": "ZqJuy-FC8ePl"
      }
    },
    {
      "cell_type": "code",
      "source": [
        "number = ['a', 'b', 'c', 'd']\n",
        "print(f\"The second element in the list : {number[1]}\")"
      ],
      "metadata": {
        "colab": {
          "base_uri": "https://localhost:8080/"
        },
        "id": "CGBn4GU187AZ",
        "outputId": "d8842fb9-123a-4fc9-dea5-a89d492278a5"
      },
      "execution_count": 54,
      "outputs": [
        {
          "output_type": "stream",
          "name": "stdout",
          "text": [
            "The second element of the list : b\n"
          ]
        }
      ]
    },
    {
      "cell_type": "code",
      "source": [],
      "metadata": {
        "id": "UyW2tak99FTU"
      },
      "execution_count": null,
      "outputs": []
    },
    {
      "cell_type": "markdown",
      "source": [
        "*italicized text*# New Section"
      ],
      "metadata": {
        "id": "blushNZC9VMw"
      }
    },
    {
      "cell_type": "markdown",
      "source": [
        "### Q.10)Write a code to reverse the list [10, 20, 30, 40, 50]?"
      ],
      "metadata": {
        "id": "CaRk7iIF9cug"
      }
    },
    {
      "cell_type": "code",
      "source": [
        "list = [10,20,30,40,50]\n",
        "print(f\"Reverse list : {list[::-1]}\")"
      ],
      "metadata": {
        "colab": {
          "base_uri": "https://localhost:8080/"
        },
        "id": "e_nGG_kh9ilg",
        "outputId": "944b22e3-5e69-4b68-aceb-f206f39982c4"
      },
      "execution_count": 63,
      "outputs": [
        {
          "output_type": "stream",
          "name": "stdout",
          "text": [
            "Reverse list : [50, 40, 30, 20, 10]\n"
          ]
        }
      ]
    },
    {
      "cell_type": "markdown",
      "source": [
        "### Q.11)Write a code to create a tuple with the elements 10, 20, 30 and print it?"
      ],
      "metadata": {
        "id": "Rv2mV3rm-mYi"
      }
    },
    {
      "cell_type": "code",
      "source": [
        "my_tuple = (10,20,30)\n",
        "print(my_tuple)"
      ],
      "metadata": {
        "colab": {
          "base_uri": "https://localhost:8080/"
        },
        "id": "hSHz01sv-vTT",
        "outputId": "e22703f0-0789-4b71-e77a-15ba3d926a66"
      },
      "execution_count": 65,
      "outputs": [
        {
          "output_type": "stream",
          "name": "stdout",
          "text": [
            "(10, 20, 30)\n"
          ]
        }
      ]
    },
    {
      "cell_type": "markdown",
      "source": [
        "### Q.12) Write a code to access the first element of the tuple ('apple', 'banana', 'cherry')?"
      ],
      "metadata": {
        "id": "gJ2nWt2v_eHk"
      }
    },
    {
      "cell_type": "code",
      "source": [
        "my_tuple = ('apple', 'banana', 'cherry')\n",
        "print(my_tuple[0])"
      ],
      "metadata": {
        "colab": {
          "base_uri": "https://localhost:8080/"
        },
        "id": "0Xi8xBvV_lQ3",
        "outputId": "de7ac439-11ae-4158-d084-b9cdb9006021"
      },
      "execution_count": 66,
      "outputs": [
        {
          "output_type": "stream",
          "name": "stdout",
          "text": [
            "apple\n"
          ]
        }
      ]
    },
    {
      "cell_type": "markdown",
      "source": [
        "### Q.13) Write a code to count how many times the number 2 appears in the tuple (1, 2, 3, 2, 4, 2)?"
      ],
      "metadata": {
        "id": "np_muWGOAPYJ"
      }
    },
    {
      "cell_type": "code",
      "source": [
        "number = (1,2,3,2,4,2)\n",
        "number.count(2)"
      ],
      "metadata": {
        "colab": {
          "base_uri": "https://localhost:8080/"
        },
        "id": "Dgsay9QuAXm3",
        "outputId": "8cb45f19-9502-4a7e-ec76-adbbeb0f6998"
      },
      "execution_count": 67,
      "outputs": [
        {
          "output_type": "execute_result",
          "data": {
            "text/plain": [
              "3"
            ]
          },
          "metadata": {},
          "execution_count": 67
        }
      ]
    },
    {
      "cell_type": "markdown",
      "source": [
        "### Q.14)Write a code to find the index of the element \"cat\" in the tuple ('dog', 'cat', 'rabbit')?"
      ],
      "metadata": {
        "id": "9VrDoE4KA7Qx"
      }
    },
    {
      "cell_type": "code",
      "source": [
        "animal = ('dog', 'cat', 'rabbit')\n",
        "animal.index('cat')"
      ],
      "metadata": {
        "colab": {
          "base_uri": "https://localhost:8080/"
        },
        "id": "d6qmfOuBA-uc",
        "outputId": "361f7670-1b75-40f7-bb94-bf123baf4c9f"
      },
      "execution_count": 70,
      "outputs": [
        {
          "output_type": "execute_result",
          "data": {
            "text/plain": [
              "1"
            ]
          },
          "metadata": {},
          "execution_count": 70
        }
      ]
    },
    {
      "cell_type": "code",
      "source": [],
      "metadata": {
        "id": "UadbLX4zBBD1"
      },
      "execution_count": null,
      "outputs": []
    },
    {
      "cell_type": "markdown",
      "source": [
        "### Q.15) Write a code to check if the element \"banana\" is in the tuple ('apple', 'orange', 'banana')."
      ],
      "metadata": {
        "id": "NCVPUHn5BTAS"
      }
    },
    {
      "cell_type": "code",
      "source": [
        "fruits = ('apple', 'orange', 'banana')\n",
        "is_banana_available = 'banana' in fruits\n",
        "print(is_banana_available)"
      ],
      "metadata": {
        "colab": {
          "base_uri": "https://localhost:8080/"
        },
        "id": "wnZK619bBZez",
        "outputId": "05b899e7-764e-4756-a17c-fb6a48aff7c5"
      },
      "execution_count": 76,
      "outputs": [
        {
          "output_type": "stream",
          "name": "stdout",
          "text": [
            "True\n"
          ]
        }
      ]
    },
    {
      "cell_type": "markdown",
      "source": [
        "### Q.16) Write a code to create a set with the elements 1, 2, 3, 4, 5 and print it?"
      ],
      "metadata": {
        "id": "wi2kjKILD0P2"
      }
    },
    {
      "cell_type": "code",
      "source": [
        "my_set={1,2,3,4,5}\n",
        "print(my_set)"
      ],
      "metadata": {
        "colab": {
          "base_uri": "https://localhost:8080/"
        },
        "id": "Ff_rPYf6D6KB",
        "outputId": "190514bb-b36a-4f28-8301-efe5c86e1238"
      },
      "execution_count": 77,
      "outputs": [
        {
          "output_type": "stream",
          "name": "stdout",
          "text": [
            "{1, 2, 3, 4, 5}\n"
          ]
        }
      ]
    },
    {
      "cell_type": "markdown",
      "source": [
        "### Q.17) Write a code to add the element 6 to the set {1, 2, 3, 4}."
      ],
      "metadata": {
        "id": "aMUo2fL0ERIP"
      }
    },
    {
      "cell_type": "code",
      "source": [
        "my_set = {1,2,3,4}\n",
        "my_set.add(6)\n",
        "print(my_set)"
      ],
      "metadata": {
        "colab": {
          "base_uri": "https://localhost:8080/"
        },
        "id": "z-5okBucEUuS",
        "outputId": "5564e4db-aa9f-4d1f-a51a-66abfd4508f5"
      },
      "execution_count": 101,
      "outputs": [
        {
          "output_type": "stream",
          "name": "stdout",
          "text": [
            "{1, 2, 3, 4, 6}\n"
          ]
        }
      ]
    },
    {
      "cell_type": "markdown",
      "source": [
        "### Q.18)Write a code to create a tuple with the elements 10, 20, 30 and print it."
      ],
      "metadata": {
        "id": "CV7pVdIMF1J-"
      }
    },
    {
      "cell_type": "code",
      "source": [
        "my_tuple = ( 10,20,30)\n",
        "print(my_tuple)"
      ],
      "metadata": {
        "colab": {
          "base_uri": "https://localhost:8080/"
        },
        "id": "1eis32f_F4zr",
        "outputId": "470a3c6d-d6b7-460d-f028-62476ae3006c"
      },
      "execution_count": 102,
      "outputs": [
        {
          "output_type": "stream",
          "name": "stdout",
          "text": [
            "(10, 20, 30)\n"
          ]
        }
      ]
    },
    {
      "cell_type": "markdown",
      "source": [
        "### Q.19) Write a code to access the first element of the tuple ('apple', 'banana', 'cherry')"
      ],
      "metadata": {
        "id": "UL4jMW6_GH5F"
      }
    },
    {
      "cell_type": "code",
      "source": [
        "my_tuple = ('apple', 'banana', 'cherry')\n",
        "print(my_tuple[0])"
      ],
      "metadata": {
        "colab": {
          "base_uri": "https://localhost:8080/"
        },
        "id": "qUtKioKwGLh_",
        "outputId": "70fd50ed-3f9f-49de-d4f5-2965da0a1834"
      },
      "execution_count": 1,
      "outputs": [
        {
          "output_type": "stream",
          "name": "stdout",
          "text": [
            "apple\n"
          ]
        }
      ]
    },
    {
      "cell_type": "markdown",
      "source": [
        "### Q.20)Write a code to count how many times the number 2 appears in the tuple (1, 2, 3, 2, 4, 2)?\n",
        "\n",
        "```\n",
        "# This is formatted as code\n",
        "```\n",
        "\n"
      ],
      "metadata": {
        "id": "8NWE0-yQ82FO"
      }
    },
    {
      "cell_type": "code",
      "source": [
        "my_tuple = (1, 2, 3, 2, 4, 2)\n",
        "print(my_tuple.count(2))"
      ],
      "metadata": {
        "colab": {
          "base_uri": "https://localhost:8080/"
        },
        "id": "zWJ-6vvZ9AsR",
        "outputId": "f9058cb8-7cbd-422b-f887-7b08e7a2e81f"
      },
      "execution_count": 2,
      "outputs": [
        {
          "output_type": "stream",
          "name": "stdout",
          "text": [
            "3\n"
          ]
        }
      ]
    },
    {
      "cell_type": "markdown",
      "source": [
        "### Q.21)Write a code to find the index of the element \"cat\" in the tuple ('dog', 'cat', 'rabbit')?"
      ],
      "metadata": {
        "id": "SfQ7b2gj9M4h"
      }
    },
    {
      "cell_type": "code",
      "source": [
        "my_tuple = ('dog', 'cat', 'rabbit')\n",
        "print(my_tuple.index('cat'))"
      ],
      "metadata": {
        "colab": {
          "base_uri": "https://localhost:8080/"
        },
        "id": "Wg1prtZr9VZh",
        "outputId": "7c67b1b1-490a-4370-c213-49d36102f173"
      },
      "execution_count": 3,
      "outputs": [
        {
          "output_type": "stream",
          "name": "stdout",
          "text": [
            "1\n"
          ]
        }
      ]
    },
    {
      "cell_type": "markdown",
      "source": [
        "### Q.22)Write a code to check if the element \"banana\" is in the tuple ('apple', 'orange', 'banana')."
      ],
      "metadata": {
        "id": "beNTmPnF9im4"
      }
    },
    {
      "cell_type": "code",
      "source": [
        "my_tuple = ('apple', 'orange', 'banana')\n",
        "print(\"banana\" in my_tuple)"
      ],
      "metadata": {
        "colab": {
          "base_uri": "https://localhost:8080/"
        },
        "id": "NhnxC6dQ9qiW",
        "outputId": "693489cd-d171-4380-8ba9-1db45f3b93f4"
      },
      "execution_count": 4,
      "outputs": [
        {
          "output_type": "stream",
          "name": "stdout",
          "text": [
            "True\n"
          ]
        }
      ]
    },
    {
      "cell_type": "markdown",
      "source": [
        "### Q.23) Write a code to create a set with the elements 1, 2, 3, 4, 5 and print it?"
      ],
      "metadata": {
        "id": "oIpLRyPK94d9"
      }
    },
    {
      "cell_type": "code",
      "source": [
        "my_set = {1,2,3,4,5}\n",
        "print(my_set)"
      ],
      "metadata": {
        "colab": {
          "base_uri": "https://localhost:8080/"
        },
        "id": "qroAJ-qQ98H0",
        "outputId": "9056e735-3edd-4952-ad5e-108222e84250"
      },
      "execution_count": 9,
      "outputs": [
        {
          "output_type": "stream",
          "name": "stdout",
          "text": [
            "{1, 2, 3, 4, 5}\n"
          ]
        }
      ]
    },
    {
      "cell_type": "markdown",
      "source": [
        "### Q.24)Write a code to add the element 6 to the set {1, 2, 3, 4}"
      ],
      "metadata": {
        "id": "bK-Wg8b2-PX1"
      }
    },
    {
      "cell_type": "code",
      "source": [
        "my_set = {1,2,3,4}\n",
        "my_set.add(6)\n",
        "print(my_set)"
      ],
      "metadata": {
        "colab": {
          "base_uri": "https://localhost:8080/"
        },
        "id": "Nd-JQTGk-VZP",
        "outputId": "d9120389-9bbe-4f9f-e9d4-35da4d24d56c"
      },
      "execution_count": 12,
      "outputs": [
        {
          "output_type": "stream",
          "name": "stdout",
          "text": [
            "{1, 2, 3, 4, 6}\n"
          ]
        }
      ]
    }
  ]
}
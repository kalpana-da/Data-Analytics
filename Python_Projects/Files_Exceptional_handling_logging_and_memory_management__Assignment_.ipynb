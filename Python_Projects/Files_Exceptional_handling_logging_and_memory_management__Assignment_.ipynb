{
  "nbformat": 4,
  "nbformat_minor": 0,
  "metadata": {
    "colab": {
      "provenance": []
    },
    "kernelspec": {
      "name": "python3",
      "display_name": "Python 3"
    },
    "language_info": {
      "name": "python"
    }
  },
  "cells": [
    {
      "cell_type": "markdown",
      "source": [
        "Q.1)What is the difference between interpreted and compiled languages?\n",
        "\n",
        "    Interpreted languages, like Python, execute code directly line by line at runtime without the need for prior compilation. Compiled languages, such as C or Java, convert code into machine language before execution, which typically allows for faster execution times.\n",
        "\n",
        "Q.2)What is exception handling in Python?\n",
        "\n",
        "    Exception handling in Python involves using try and except blocks to catch errors that would otherwise stop the execution of the program. It allows the program to react to exceptions gracefully without crashing.\n",
        "\n",
        "Q.3)What is the purpose of the finally block in exception handling?\n",
        "\n",
        "    The finally block in Python's exception handling framework is executed no matter what, whether an exception is raised or not. It's typically used for clean-up actions like closing files or releasing resources.\n",
        "\n",
        "Q.4)What is logging in Python?\n",
        "\n",
        "    Logging in Python involves recording events in a file or in other output streams while a program runs. It provides a way of tracking activities, especially useful for debugging and understanding program behavior.\n",
        "\n",
        "Q.5)What is the significance of the __del__ method in Python?\n",
        "\n",
        "    The __del__ method, known as a destructor, is called when an instance is about to be destroyed. This can be useful for clean-up processes, like closing files or connections.\n",
        "\n",
        "Q.6)What is the difference between import and from ... import in Python?\n",
        "\n",
        "    import imports a module and requires referencing its namespace to access functions, classes, etc. from ... import allows importing specific attributes or functions directly into the current namespace, which simplifies access.\n",
        "\n",
        "Q.7)How can you handle multiple exceptions in Python?\n",
        "\n",
        "    Multiple exceptions can be handled using multiple except clauses, specifying each exception type to handle them differently, or using a single except clause with a tuple of exception types to handle them in the same way.\n",
        "\n",
        "Q.8)What is the purpose of the with statement when handling files in Python?\n",
        "\n",
        "    The with statement simplifies exception handling by encapsulating common preparation and clean-up tasks in a block. For files, it ensures that the file is properly closed after its suite finishes, even if an exception is raised.\n",
        "\n",
        "Q.9)What is the difference between multithreading and multiprocessing?\n",
        "\n",
        "    Multithreading involves running multiple threads in a single process, sharing the same memory space, while multiprocessing uses multiple processes, each with its own memory space, which can run on different processors.\n",
        "\n",
        "Q.10)What are the advantages of using logging in a program?\n",
        "\n",
        "    Logging provides a way to continuously monitor what happens in a program, which is crucial for debugging and understanding program flow. It can also be useful for audit trails, error reporting, and analytics.\n",
        "\n",
        "Q.11)What is memory management in Python?\n",
        "\n",
        "    Memory management in Python is handled by the Python memory manager. It includes allocation of memory to objects and garbage collection, which frees up memory by destroying objects that are no longer in use.\n",
        "\n",
        "Q.12)What are the basic steps involved in exception handling in Python?\n",
        "\n",
        "    The basic steps are: defining a try block in which you place the code that might cause an exception, following it with except blocks to handle any exceptions that arise, and optionally including a finally block for clean-up actions.\n",
        "\n",
        "Q.13)Why is memory management important in Python?\n",
        "\n",
        "    Effective memory management ensures that the program runs efficiently by allocating and deallocating memory as needed, which prevents memory leaks and optimizes program performance.\n",
        "\n",
        "Q.14)What is the role of try and except in exception handling?\n",
        "\n",
        "    try and except blocks in Python are used to catch and handle exceptions respectively. try block contains the code that might throw an exception, and the except block contains the code that executes if an exception occurs.\n",
        "\n",
        "Q.15)How does Python's garbage collection system work?\n",
        "\n",
        "    Python's garbage collection system works by counting references to objects in memory and collecting those objects that have no more references pointing to them, using a form of automatic memory management.\n",
        "\n",
        "Q.16)What is the purpose of the else block in exception handling?\n",
        "\n",
        "    The else block in Python's exception handling runs if the try block did not raise an exception. It allows for code that should only execute if the try block was successful.\n",
        "\n",
        "Q.17)What are the common logging levels in Python?\n",
        "\n",
        "    The common logging levels in Python are DEBUG, INFO, WARNING, ERROR, and CRITICAL, which indicate the severity of the events that are being logged.\n",
        "\n",
        "Q.18)What is the difference between os.fork() and multiprocessing in Python?\n",
        "\n",
        "    os.fork() is used to fork the current process into two processes run by the OS, while multiprocessing is a module that allows you to create processes that run in parallel, each with its own Python interpreter.\n",
        "\n",
        "Q.19)What is the importance of closing a file in Python?\n",
        "\n",
        "    Closing a file in Python is important to free up system resources and ensure that all changes made to the file are written properly. It prevents data corruption and allows other processes or programs to access the file.\n",
        "\n",
        "Q.20)What is the difference between file.read() and file.readline() in Python?\n",
        "\n",
        "    file.read() reads the entire content of the file into a single string. file.readline(), on the other hand, reads and returns one line at a time, including the newline character at the end of each line.\n",
        "\n",
        " Q.21)What is the logging module in Python used for?\n",
        "\n",
        "    The logging module in Python is used for tracking events that occur during the execution of a program. It allows developers to write status messages to a file or other output streams. This module provides a flexible framework for emitting log messages from Python programs.\n",
        "\n",
        " Q.22)What is the os module in Python used for in file handling?\n",
        "\n",
        "    The os module in Python provides a way of using operating system dependent functionality like creating, removing, and changing directory paths, fetching their contents, and working with file attributes. It is especially useful for file handling tasks such as renaming and deleting files.\n",
        "\n",
        " Q.23)What are the challenges associated with memory management in Python?\n",
        "\n",
        "    Challenges include managing memory leaks, which occur when unused memory is not returned to the heap or memory pool. Another challenge is handling the overhead of Python's garbage collection, which can impact performance, especially in memory-intensive applications.\n",
        "\n",
        " Q.24)How do you raise an exception manually in Python?\n",
        "\n",
        "    You can raise an exception manually with the raise statement. For example, raise ValueError(\"A value error occurred.\") throws a ValueError with the specified error message.\n",
        "\n",
        " Q.25)Why is it important to use multithreading in certain applications?\n",
        "\n",
        "    Multithreading is important for improving the performance of applications that perform multiple tasks at the same time. It allows a program to handle concurrent operations, making it ideal for tasks like I/O operations, real-time processing, and handling user interfaces."
      ],
      "metadata": {
        "id": "-g1WSZjC2xKs"
      }
    },
    {
      "cell_type": "markdown",
      "source": [
        "### Practical Questions"
      ],
      "metadata": {
        "id": "xHxutdp74SNT"
      }
    },
    {
      "cell_type": "markdown",
      "source": [
        "Q.1) How can you open a file for writing in Python and write a string to it\u001f?\n"
      ],
      "metadata": {
        "id": "RU_QjAic3xTa"
      }
    },
    {
      "cell_type": "code",
      "execution_count": 26,
      "metadata": {
        "id": "EwB9ApSl01pL"
      },
      "outputs": [],
      "source": [
        "with open(\"demo.txt\", \"w\") as f:\n",
        "    f.write(\"\\n Pwskills\")\n",
        "    f.write(\"\\n Data analytics course \")\n",
        "\n"
      ]
    },
    {
      "cell_type": "markdown",
      "source": [
        "Q.2) Write a Python program to read the contents of a file and print each line?"
      ],
      "metadata": {
        "id": "K3ge7ReL5SSX"
      }
    },
    {
      "cell_type": "code",
      "source": [
        "with open('demo.txt', 'r') as file:\n",
        "    for line in file:\n",
        "        print(line.strip())"
      ],
      "metadata": {
        "colab": {
          "base_uri": "https://localhost:8080/"
        },
        "id": "6SSxIhK75VV-",
        "outputId": "1266781b-af37-49a6-b360-c8ecc46f9a11"
      },
      "execution_count": 27,
      "outputs": [
        {
          "output_type": "stream",
          "name": "stdout",
          "text": [
            "\n",
            "Pwskills\n",
            "Data analytics course\n"
          ]
        }
      ]
    },
    {
      "cell_type": "markdown",
      "source": [
        "Q.3)How would you handle a case where the file doesn't exist while trying to open it for reading?"
      ],
      "metadata": {
        "id": "01FAy6BqGNpr"
      }
    },
    {
      "cell_type": "code",
      "source": [
        "def read_file(filename):\n",
        "    try:\n",
        "        with open(filename, 'r') as file:\n",
        "            print(file.read())\n",
        "    except FileNotFoundError:\n",
        "        print(f\"Error: The file '{filename}' does not exist. Please check the filename and try again.\")\n",
        "    except Exception as e:\n",
        "        print(f\"An unexpected error occurred: {str(e)}\")\n",
        "read_file(\"missingfile.txt\")\n",
        "\n",
        "\n"
      ],
      "metadata": {
        "colab": {
          "base_uri": "https://localhost:8080/"
        },
        "id": "MEokP8LrGTaW",
        "outputId": "ffc4bc05-c7b2-4729-be05-3e5d317106db"
      },
      "execution_count": 57,
      "outputs": [
        {
          "output_type": "stream",
          "name": "stdout",
          "text": [
            "Error: The file 'missingfile.txt' does not exist. Please check the filename and try again.\n"
          ]
        }
      ]
    },
    {
      "cell_type": "markdown",
      "source": [
        "Q.4)Write a Python script that reads from one file and writes its content to another file?"
      ],
      "metadata": {
        "id": "11lqxBcNLQXN"
      }
    },
    {
      "cell_type": "code",
      "source": [
        "with open('demo.txt', 'r') as source_file, open('destination.txt', 'w') as destination_file:\n",
        "    for line in source_file:\n",
        "        destination_file.write(line)\n",
        "print(\"File has been copied successfully.\")\n"
      ],
      "metadata": {
        "colab": {
          "base_uri": "https://localhost:8080/"
        },
        "id": "F2Cwg0p7JThR",
        "outputId": "8376bca2-f518-448f-acd7-52902fb586e3"
      },
      "execution_count": 41,
      "outputs": [
        {
          "output_type": "stream",
          "name": "stdout",
          "text": [
            "File has been copied successfully.\n"
          ]
        }
      ]
    },
    {
      "cell_type": "markdown",
      "source": [
        "Q.5)How would you catch and handle division by zero error in Python?"
      ],
      "metadata": {
        "id": "0rZ6I-FzMqDk"
      }
    },
    {
      "cell_type": "code",
      "source": [
        "try:\n",
        "  num1 = 10\n",
        "  num2 = 0\n",
        "  result = num1/num2\n",
        "  print(result)\n",
        "except ZeroDivisionError:\n",
        "  print(\"Error: Division by zero\")"
      ],
      "metadata": {
        "colab": {
          "base_uri": "https://localhost:8080/"
        },
        "id": "d-xQ9CE_L-_D",
        "outputId": "276d106a-da99-458d-907f-6aaf3841472a"
      },
      "execution_count": 45,
      "outputs": [
        {
          "output_type": "stream",
          "name": "stdout",
          "text": [
            "Error: Division by zero\n"
          ]
        }
      ]
    },
    {
      "cell_type": "markdown",
      "source": [
        "Q.6)Write a Python program that logs an error message to a log file when a division by zero exception occurs?"
      ],
      "metadata": {
        "id": "VEGbR7-yM0yS"
      }
    },
    {
      "cell_type": "code",
      "source": [
        "import logging\n",
        "\n",
        "logging.basicConfig(filename='error_log.txt', level=logging.ERROR,\n",
        "                    format='%(asctime)s:%(levelname)s:%(message)s')\n",
        "\n",
        "def divide_numbers(x, y):\n",
        "    try:\n",
        "        result = x / y\n",
        "        print(f\"The result is {result}\")\n",
        "    except ZeroDivisionError:\n",
        "        logging.error(\"Attempted to divide by zero\")\n",
        "        print(\"Error: Cannot divide by zero\")\n",
        "divide_numbers(10, 0)\n"
      ],
      "metadata": {
        "colab": {
          "base_uri": "https://localhost:8080/"
        },
        "id": "LjyZrqI7OBcu",
        "outputId": "977aa42b-9bf5-43b9-fe48-aaa8539bec16"
      },
      "execution_count": 46,
      "outputs": [
        {
          "output_type": "stream",
          "name": "stderr",
          "text": [
            "ERROR:root:Attempted to divide by zero\n"
          ]
        },
        {
          "output_type": "stream",
          "name": "stdout",
          "text": [
            "Error: Cannot divide by zero\n"
          ]
        }
      ]
    },
    {
      "cell_type": "markdown",
      "source": [
        "Q.7)How do you log information at different levels (INFO, ERROR, WARNING) in Python using the logging module?"
      ],
      "metadata": {
        "id": "nHJayj2rOORD"
      }
    },
    {
      "cell_type": "code",
      "source": [
        "import logging\n",
        "\n",
        "logging.basicConfig(filename='app.log', level=logging.DEBUG,\n",
        "                    format='%(asctime)s - %(levelname)s - %(message)s')\n",
        "\n",
        "\n",
        "logging.warning(\"This is a warning message\")\n",
        "logging.error(\"This is an error message\")\n",
        "logging.info(\"This is an info message\")\n"
      ],
      "metadata": {
        "colab": {
          "base_uri": "https://localhost:8080/"
        },
        "id": "w_Qgw0jyOdFc",
        "outputId": "71bd9881-814b-4e2d-dcae-199d3dcd8552"
      },
      "execution_count": 50,
      "outputs": [
        {
          "output_type": "stream",
          "name": "stderr",
          "text": [
            "WARNING:root:This is a warning message\n",
            "ERROR:root:This is an error message\n"
          ]
        }
      ]
    },
    {
      "cell_type": "markdown",
      "source": [
        "Q.8)Write a program to handle a file opening error using exception handling?"
      ],
      "metadata": {
        "id": "Nf9uPm6jP1tu"
      }
    },
    {
      "cell_type": "code",
      "source": [
        "try:\n",
        "  with open('Nofile.txt', 'r') as file:\n",
        "      print(file.read)\n",
        "except FileNotFoundError:\n",
        "  print(\"File Not Found\")\n"
      ],
      "metadata": {
        "colab": {
          "base_uri": "https://localhost:8080/"
        },
        "id": "y4BYDvyeP5tG",
        "outputId": "43d5175c-27f5-4ec1-8ab1-fec950796c96"
      },
      "execution_count": 56,
      "outputs": [
        {
          "output_type": "stream",
          "name": "stdout",
          "text": [
            "File Not Found\n"
          ]
        }
      ]
    },
    {
      "cell_type": "markdown",
      "source": [
        "###Q.9)How can you read a file line by line and store its content in a list in Python?"
      ],
      "metadata": {
        "id": "fJcTV0v8RcJk"
      }
    },
    {
      "cell_type": "code",
      "source": [
        "def read_file_to_list(filename):\n",
        "    try:\n",
        "        with open(filename, 'r') as file:\n",
        "            return [line.strip() for line in file]\n",
        "    except FileNotFoundError:\n",
        "        print(\"File not found.\")\n",
        "        return []\n",
        "    except Exception as e:\n",
        "        print(f\"An error occurred: {e}\")\n",
        "        return []\n",
        "\n",
        "file_content = read_file_to_list(\"example.txt\")\n",
        "print(file_content)\n"
      ],
      "metadata": {
        "colab": {
          "base_uri": "https://localhost:8080/"
        },
        "id": "FBmBmxwjRzQz",
        "outputId": "06530d04-d4bc-47c0-afe9-3273675a555c"
      },
      "execution_count": 61,
      "outputs": [
        {
          "output_type": "stream",
          "name": "stdout",
          "text": [
            "['This is a line of text in example.txt']\n"
          ]
        }
      ]
    },
    {
      "cell_type": "markdown",
      "source": [
        "Q.10) How can you append data to an existing file in Python?"
      ],
      "metadata": {
        "id": "QpqR9Wc3R_8j"
      }
    },
    {
      "cell_type": "code",
      "source": [
        "with open('demo.txt','a') as file:\n",
        "  print('This is new line append to the existing text')\n",
        "with open('demo.txt','r') as file:\n",
        "  print(file.read())\n"
      ],
      "metadata": {
        "colab": {
          "base_uri": "https://localhost:8080/"
        },
        "id": "Da0wM93DSDQL",
        "outputId": "99850bd3-1942-4a02-ad81-90c1246f404d"
      },
      "execution_count": 59,
      "outputs": [
        {
          "output_type": "stream",
          "name": "stdout",
          "text": [
            "This is new line append to the existing text\n",
            "\n",
            " Pwskills\n",
            " Data analytics course \n"
          ]
        }
      ]
    },
    {
      "cell_type": "markdown",
      "source": [
        "Q.11)Write a Python program that uses a try-except block to handle an error when attempting to access a dictionary key that doesn't exist?"
      ],
      "metadata": {
        "id": "uMjblsU6TIh-"
      }
    },
    {
      "cell_type": "code",
      "source": [
        "def access_dictionary_key(dictionary, key):\n",
        "    try:\n",
        "        value = dictionary[key]\n",
        "        print(f\"Value for '{key}': {value}\")\n",
        "    except KeyError:\n",
        "        print(f\"Error: The key '{key}' does not exist in the dictionary.\")\n",
        "\n",
        "example_dict = {'name': 'John', 'age': 30}\n",
        "access_dictionary_key(example_dict, 'name')\n",
        "access_dictionary_key(example_dict, 'job')\n"
      ],
      "metadata": {
        "colab": {
          "base_uri": "https://localhost:8080/"
        },
        "id": "6wCyB_fjVBcI",
        "outputId": "a1074d8b-6f5d-45fd-e9ff-8f713bb7d168"
      },
      "execution_count": 60,
      "outputs": [
        {
          "output_type": "stream",
          "name": "stdout",
          "text": [
            "Value for 'name': John\n",
            "Error: The key 'job' does not exist in the dictionary.\n"
          ]
        }
      ]
    },
    {
      "cell_type": "markdown",
      "source": [
        "12) Write a program that demonstrates using multiple except blocks to handle different types of exceptions?"
      ],
      "metadata": {
        "id": "gvZclP4YY2y_"
      }
    },
    {
      "cell_type": "code",
      "source": [
        "def calculate_division(a, b):\n",
        "    try:\n",
        "        result = a / b\n",
        "        print(f\"Result of {a} / {b} is {result}\")\n",
        "    except ZeroDivisionError:\n",
        "        print(\"Error: Cannot divide by zero.\")\n",
        "    except TypeError:\n",
        "        print(\"Error: All inputs must be numbers.\")\n",
        "    except Exception as e:\n",
        "        print(f\"An unexpected error occurred: {str(e)}\")\n",
        "\n",
        "# Example usage of the function\n",
        "calculate_division(10, 2)  #  print the result\n",
        "calculate_division(10, 0)  # handle ZeroDivisionError\n",
        "calculate_division('10', '2')  #  catch and handle TypeError\n",
        "calculate_division(10, [])  #  general exception if input types are unexpected\n"
      ],
      "metadata": {
        "colab": {
          "base_uri": "https://localhost:8080/"
        },
        "id": "S_A0hiu_ZVsC",
        "outputId": "3a79b410-9354-4836-fdb4-f87519f16d51"
      },
      "execution_count": 62,
      "outputs": [
        {
          "output_type": "stream",
          "name": "stdout",
          "text": [
            "Result of 10 / 2 is 5.0\n",
            "Error: Cannot divide by zero.\n",
            "Error: All inputs must be numbers.\n",
            "Error: All inputs must be numbers.\n"
          ]
        }
      ]
    },
    {
      "cell_type": "code",
      "source": [],
      "metadata": {
        "id": "OtWDWZ1mY6nu"
      },
      "execution_count": null,
      "outputs": []
    },
    {
      "cell_type": "markdown",
      "source": [
        "Q.13)How would you check if a file exists before attempting to read it in Python\n",
        "?\n"
      ],
      "metadata": {
        "id": "0i7zvTirZt1U"
      }
    },
    {
      "cell_type": "code",
      "source": [
        "import os\n",
        "\n",
        "def check_file_exists(filename):\n",
        "    if os.path.exists(filename):\n",
        "        try:\n",
        "            with open(filename, 'r') as file:\n",
        "                print(f\"Contents of {filename}:\")\n",
        "                print(file.read())\n",
        "        except Exception as e:\n",
        "            print(f\"An error occurred while reading the file: {str(e)}\")\n",
        "    else:\n",
        "        print(f\"File '{filename}' does not exist.\")\n",
        "check_file_exists(\"example.txt\")\n"
      ],
      "metadata": {
        "id": "1gqXmYIBZ4SF"
      },
      "execution_count": null,
      "outputs": []
    },
    {
      "cell_type": "markdown",
      "source": [
        "Q.14)Write a program that uses the logging module to log both informational and error messages?"
      ],
      "metadata": {
        "id": "Q6DxF13faDir"
      }
    },
    {
      "cell_type": "code",
      "source": [
        "import logging\n",
        "\n",
        "# Configure the logging\n",
        "logging.basicConfig(filename='app.log', level=logging.DEBUG,\n",
        "                    format='%(levelname)s: %(asctime)s: %(message)s')\n",
        "\n",
        "def divide_numbers(x, y):\n",
        "    try:\n",
        "        result = x / y\n",
        "        logging.info(f\"Division successful: {x} / {y} = {result}\")\n",
        "        return result\n",
        "    except ZeroDivisionError:\n",
        "        logging.error(\"Error: Attempted to divide by zero.\")\n",
        "        return None\n",
        "\n",
        "# Example usage of the function\n",
        "result = divide_numbers(10, 2)\n",
        "print(f\"Result: {result}\")\n",
        "result = divide_numbers(10, 0)\n",
        "print(f\"Result: {result}\")\n"
      ],
      "metadata": {
        "colab": {
          "base_uri": "https://localhost:8080/"
        },
        "id": "VuPo_FjEaP9H",
        "outputId": "5eefc582-ec08-4c63-96f7-e4b054473fd3"
      },
      "execution_count": 63,
      "outputs": [
        {
          "output_type": "stream",
          "name": "stderr",
          "text": [
            "ERROR:root:Error: Attempted to divide by zero.\n"
          ]
        },
        {
          "output_type": "stream",
          "name": "stdout",
          "text": [
            "Result: 5.0\n",
            "Result: None\n"
          ]
        }
      ]
    },
    {
      "cell_type": "markdown",
      "source": [
        "Q.15)Write a Python program that prints the content of a file and handles the case when the file is empty?"
      ],
      "metadata": {
        "id": "TwQcWwqJac-o"
      }
    },
    {
      "cell_type": "code",
      "source": [
        "\n",
        " def print_file_content(filename):\n",
        "    try:\n",
        "        with open(filename, 'r') as file:\n",
        "            content = file.read().strip()\n",
        "            if content:\n",
        "                print(\"File content:\")\n",
        "                print(content)\n",
        "            else:\n",
        "                print(\"The file is empty.\")\n",
        "    except FileNotFoundError:\n",
        "        print(\"Error: The file does not exist.\")\n",
        "    except Exception as e:\n",
        "        print(f\"An unexpected error occurred: {e}\")\n",
        "\n",
        "# Example usage of the function\n",
        "print_file_content(\"demo1.txt\")\n"
      ],
      "metadata": {
        "colab": {
          "base_uri": "https://localhost:8080/"
        },
        "id": "q920hU7qaoS0",
        "outputId": "c49199b0-8095-403b-c36b-20c87cc9902c"
      },
      "execution_count": 72,
      "outputs": [
        {
          "output_type": "stream",
          "name": "stdout",
          "text": [
            "The file is empty.\n"
          ]
        }
      ]
    },
    {
      "cell_type": "markdown",
      "source": [
        "Q.16)Demonstrate how to use memory profiling to check the memory usage of a small program?"
      ],
      "metadata": {
        "id": "5QXWogY9cII8"
      }
    },
    {
      "cell_type": "code",
      "source": [
        "\n",
        "from memory_profiler import profile\n",
        "\n",
        "@profile\n",
        "def make_big_list():\n",
        "    return list(range(1000000))\n",
        "\n",
        "if __name__ == '__main__':\n",
        "    big_list = make_big_list()\n"
      ],
      "metadata": {
        "id": "N0m18_docIYW"
      },
      "execution_count": null,
      "outputs": []
    },
    {
      "cell_type": "markdown",
      "source": [
        "Q.17)Write a Python program to create and write a list of numbers to a file, one number per line?"
      ],
      "metadata": {
        "id": "sB_ZqzeucYG9"
      }
    },
    {
      "cell_type": "code",
      "source": [
        "def write_numbers_to_file(filename):\n",
        "    numbers = list(range(1, 101))  # Create a list of numbers from 1 to 100\n",
        "    with open(filename, 'w') as file:\n",
        "        for number in numbers:\n",
        "            file.write(f\"{number}\\n\")\n",
        "\n",
        "write_numbers_to_file(\"numbers.txt\")\n"
      ],
      "metadata": {
        "id": "51jhD4qUceSP"
      },
      "execution_count": 75,
      "outputs": []
    },
    {
      "cell_type": "markdown",
      "source": [
        "Q.18)How would you implement a basic logging setup that logs to a file with rotation after 1MB?"
      ],
      "metadata": {
        "id": "kJEGvo0lc-w-"
      }
    },
    {
      "cell_type": "code",
      "source": [
        "import logging\n",
        "from logging.handlers import RotatingFileHandler\n",
        "\n",
        "# Setup logger\n",
        "logger = logging.getLogger('MyLogger')\n",
        "logger.setLevel(logging.DEBUG)\n",
        "\n",
        "# Create handler with a file that rotates at 1MB\n",
        "handler = RotatingFileHandler('my_app.log', maxBytes=1048576, backupCount=5)\n",
        "logger.addHandler(handler)\n",
        "\n",
        "# Log some messages\n",
        "logger.debug(\"This is a debug message\")\n"
      ],
      "metadata": {
        "colab": {
          "base_uri": "https://localhost:8080/"
        },
        "id": "i9R0ioF3dGPq",
        "outputId": "e05270d5-c81e-435f-d02f-f7c004b2921f"
      },
      "execution_count": 76,
      "outputs": [
        {
          "output_type": "stream",
          "name": "stderr",
          "text": [
            "DEBUG:MyLogger:This is a debug message\n"
          ]
        }
      ]
    },
    {
      "cell_type": "markdown",
      "source": [
        "Q.19)Write a program that handles both IndexError and KeyError using a try-except block?"
      ],
      "metadata": {
        "id": "9wBiq3J4dMWD"
      }
    },
    {
      "cell_type": "code",
      "source": [
        "try:\n",
        "    list_example = [1, 2, 3]\n",
        "    print(list_example[5])  # IndexError\n",
        "    dict_example = {'a': 1}\n",
        "    print(dict_example['b'])  # KeyError\n",
        "except (IndexError, KeyError) as e:\n",
        "    print(f\"Caught an error: {e}\")\n"
      ],
      "metadata": {
        "id": "VTAUa3aldXht"
      },
      "execution_count": null,
      "outputs": []
    },
    {
      "cell_type": "markdown",
      "source": [
        "Q.20)How would you open a file and read its contents using a context manager in Python?"
      ],
      "metadata": {
        "id": "K_vLmGD6dbOB"
      }
    },
    {
      "cell_type": "code",
      "source": [
        "def read_file_contents(filename):\n",
        "    with open(filename, 'r') as file:\n",
        "        contents = file.read()\n",
        "        print(contents)\n",
        "\n",
        "read_file_contents(\"example.txt\")\n"
      ],
      "metadata": {
        "id": "qRzt50yidl65"
      },
      "execution_count": null,
      "outputs": []
    },
    {
      "cell_type": "markdown",
      "source": [
        "Q.21)Write a Python program that reads a file and prints the number of occurrences of a specific word?"
      ],
      "metadata": {
        "id": "TTQgZBNpdqK9"
      }
    },
    {
      "cell_type": "code",
      "source": [
        "def count_word_in_file(filename, word):\n",
        "    with open(filename, 'r') as file:\n",
        "        contents = file.read()\n",
        "        count = contents.count(word)\n",
        "        print(f\"The word '{word}' appears {count} times in the file.\")\n",
        "\n",
        "count_word_in_file(\"example.txt\", \"test\")\n"
      ],
      "metadata": {
        "id": "2Ua6zaYydwHj"
      },
      "execution_count": null,
      "outputs": []
    },
    {
      "cell_type": "markdown",
      "source": [
        "Q.22)ow can you check if a file is empty before attempting to read its contents?"
      ],
      "metadata": {
        "id": "VX8WwtQSdz5w"
      }
    },
    {
      "cell_type": "code",
      "source": [
        "def check_if_file_is_empty(filename):\n",
        "    with open(filename, 'r') as file:\n",
        "        if file.read().strip():\n",
        "            print(\"File is not empty.\")\n",
        "        else:\n",
        "            print(\"File is empty.\")\n",
        "\n",
        "check_if_file_is_empty(\"example.txt\")\n"
      ],
      "metadata": {
        "id": "YXRE61JHd6Sr"
      },
      "execution_count": null,
      "outputs": []
    },
    {
      "cell_type": "markdown",
      "source": [
        "Q.23)Write a Python program that writes to a log file when an error occurs during file handling."
      ],
      "metadata": {
        "id": "lXaO1umtd8mT"
      }
    },
    {
      "cell_type": "code",
      "source": [
        "import logging\n",
        "\n",
        "# Setup basic logging\n",
        "logging.basicConfig(filename='error.log', level=logging.ERROR)\n",
        "\n",
        "try:\n",
        "    # Simulate an error\n",
        "    raise ValueError(\"Something went wrong!\")\n",
        "except Exception as e:\n",
        "    logging.error(f\"Caught an exception: {e}\")\n"
      ],
      "metadata": {
        "id": "CD3eCtAbeECJ"
      },
      "execution_count": null,
      "outputs": []
    }
  ]
}

{
  "nbformat": 4,
  "nbformat_minor": 0,
  "metadata": {
    "colab": {
      "provenance": [],
      "collapsed_sections": [
        "P1gl6mS7Kqvf"
      ]
    },
    "kernelspec": {
      "name": "python3",
      "display_name": "Python 3"
    },
    "language_info": {
      "name": "python"
    }
  },
  "cells": [
    {
      "cell_type": "markdown",
      "source": [
        "# Python OOPs Questions (Theory)"
      ],
      "metadata": {
        "id": "P1gl6mS7Kqvf"
      }
    },
    {
      "cell_type": "markdown",
      "source": [
        "Q.1)What is Object-Oriented Programming (OOP)?\n",
        "\n",
        "Ans : Object-Oriented Programming (OOP) is a programming paradigm based on the concept of \"objects,\" which can contain data in the form of fields (often known as attributes or properties) and code in the form of procedures (often known as methods). OOP languages are diverse, but the most popular ones include Java, Python, C++, and C#. OOP helps in organizing complex programs, allows code reusability, and makes scalability easier.\n",
        "\n",
        "Q.2)What is a class in OOP?\n",
        "\n",
        "Ans : A class in OOP is a blueprint for creating objects (a particular data structure), providing initial values for state (member variables or attributes), and implementations of behavior (member functions or methods). The user-defined data type lets you combine data and methods.\n",
        "\n",
        "Q.3)What is an object in OOP?\n",
        "\n",
        "Ans : An object is an instance of a class. When a class is defined, no memory is allocated but when it is instantiated (i.e., an object is created), memory is allocated.\n",
        "\n",
        "Q.4)What is the difference between abstraction and encapsulation?\n",
        "\n",
        " Ans : Abstraction -This is the concept of hiding the complex reality while exposing only the necessary parts. It focuses on hiding the internal implementation and only showing the features to the users.\n",
        "\n",
        "  Encapsulation: This involves wrapping the data (variables) and code acting on the data (methods) into a single unit or class. It restricts direct access to some of an object’s components, which can prevent the accidental modification of data.\n",
        "\n",
        "Q.5)What are dunder methods in Python?\n",
        "\n",
        "Ans : Dunder methods, also known as magic methods, are special Python methods that begin and end with double underscores (__). Examples include __init__, __str__, and __repr__. These methods are used to emulate the behavior of built-in types or to implement operator overloading.\n",
        "\n",
        "Q.6)Explain the concept of inheritance in OOP?\n",
        "\n",
        "Ans : Inheritance is a mechanism in which one class acquires the properties (methods and fields) of another. With inheritance, the child class derives the properties and behavior of the parent class while also introducing its unique elements.\n",
        "\n",
        "Q.7)What is polymorphism in OOP?\n",
        "\n",
        "Ans : Polymorphism is an OOP concept referring to the ability of a variable, function, or object to take on multiple forms. In most languages, polymorphism occurs when there is a hierarchy of classes related by inheritance.\n",
        "\n",
        "Q.8)How is encapsulation achieved in Python?\n",
        "\n",
        "Ans : In Python, encapsulation is achieved by declaring private, protected, or public attributes and methods. Private members (denoted by double underscores __) restrict access to the class itself; protected members (denoted by a single underscore _) allow access from class and its subclasses; public members are accessible from anywhere.\n",
        "\n",
        "Q.9)What is a constructor in Python?\n",
        "\n",
        "Ans : A constructor is a special method of a class or structure in Python called when an object is instantiated. Constructors are often used for initializing attributes of the class. This is done using the __init__ method in Python.\n",
        "\n",
        "Q.10)What are class and static methods in Python?\n",
        "\n",
        "Ans : Class Methods:- Class methods are methods that are bound to a class rather than its object. They can modify a class state that applies across all instances of the class. To define a class method in Python, use the @classmethod decorator.\n",
        "\n",
        "Static Methods:- Static methods are methods that know nothing about the class or instance it was called on. They are utility-type methods that take neither a class nor instance reference. They are marked with the @staticmethod decorator.\n",
        "\n",
        "Q.11)What is method overloading in Python?\n",
        "\n",
        "Ans : Method overloading is the ability to create multiple methods of the same name with different implementations. Python does not support method overloading by default but can achieve this by creating methods that accept different parameters.\n",
        "\n",
        "Q.12)What is method overriding in OOP?\n",
        "\n",
        "Ans : Method overriding is a feature of object-oriented programming languages that allows a subclass or child class to provide a specific implementation of a method that is already provided by one of its super-classes or parent classes.\n",
        "\n",
        "Q.13)What is a property decorator in Python?\n",
        "\n",
        "Ans : The property decorator in Python is used to give \"special\" status to certain methods to make them behave as getters, setters, or deleters of a class property. It turns a method into a getter for a read-only attribute with the same name.\n",
        "\n",
        "Q.14)Why is polymorphism important in OOP?\n",
        "\n",
        "Ans : Polymorphism allows for flexibility and the interchanging use of instances, making it easier to change and extend existing code, thus facilitating code reusability.\n",
        "\n",
        "Q.15)What is an abstract class in Python?\n",
        "\n",
        "Ans : An abstract class in Python is a class that cannot be instantiated. It often includes one or more abstract methods or methods that have a declaration but no implementation. Python requires importing the ABC module and decorating methods with @abstractmethod to create an abstract class.\n",
        "\n",
        "Q.16)What are the advantages of OOP?\n",
        "\n",
        "Ans: OOP provides a clear modular structure for programs which makes it good for defining abstract datatypes where implementation details are hidden and the unit has a clearly defined interface. OOP makes it easy to maintain and modify existing code as new objects can be created with small differences to existing ones.\n",
        "\n",
        "Q.17)What is the difference between a class variable and an instance variable?\n",
        "\n",
        "Ans : Class Variable: A variable that is shared among all instances of a class. Class variables are defined within a class but outside any of the class's methods.\n",
        "\n",
        "Instance Variable: A variable that is defined inside a method and belongs only to the current instance of a class.\n",
        "\n",
        "Q.18)What is multiple inheritance in Python?\n",
        "\n",
        "ANS : Multiple inheritance is a feature in Python that allows a class to derive from more than one base class. This can be useful, but also complex and should be handled with care.\n",
        "\n",
        "Q.19) Explain the purpose of ‘’__str__’ and ‘__repr__’ ‘ methods in Python?\n",
        "\n",
        "Ans : __str__: Provides a user-friendly string representation of an object, mainly for readability and display purposes. It is called by functions like print() and str().\n",
        "\n",
        "__repr__: Offers a more formal string representation of an object, ideally with enough detail to recreate the object if needed. It's used mainly for debugging and development, called by the repr() function and also serves as a fallback for __str__ if the latter is not defined.\n",
        "\n",
        "Q.20)What is the significance of the super() function in Python?\n",
        "\n",
        "Ans : The super() function in Python is used to give access to methods of a superclass from the subclass that inherits from it. This allows you to call methods of the superclass in your subclass.\n",
        "\n",
        "Q.21)What is the significance of the __del__ method in Python?\n",
        "\n",
        "Ans : The __del__ method in Python is called when an object is about to be destroyed. Although Python has a garbage collector that handles memory management automatically, the __del__ method lets you define cleanup behavior.\n",
        "\n",
        "Q.22)What is the difference between @staticmethod and @classmethod in Python?\n",
        "\n",
        "    @staticmethod: A static method knows nothing about the class and just deals with the parameters.\n",
        "    @classmethod: A class method receives the class as implicit first argument, just like an instance method receives the instance.\n",
        "\n",
        "In Python, polymorphism allows methods to use objects of different types at different times. This is done by calling the same method on different objects, each responding differently according to their class implementation of the method.\n",
        "\n",
        "Q.23)How does polymorphism work in Python with inheritance?\n",
        "\n",
        "Ans : In Python, polymorphism allows methods to use objects of different types at different times. This is done by calling the same method on different objects, each responding differently according to their class implementation of the method.\n",
        "\n",
        "Q.24)What is method chaining in Python OOP?\n",
        "\n",
        "Ans : Method chaining is a programming technique in Python where each method returns an instance of the class, allowing multiple methods to be invoked sequentially on the same object in a single line of code.\n",
        "\n",
        "Q.25)What is the purpose of the __call__ method in Python?\n",
        "\n",
        "Ans : The __call__ method in Python allows an object to be called like a function. If this method is defined, you can call the object itself as a function.\n",
        "\n"
      ],
      "metadata": {
        "id": "PXPc8qkZERZr"
      }
    },
    {
      "cell_type": "code",
      "source": [],
      "metadata": {
        "id": "ajaXLnYAKc0Z"
      },
      "execution_count": 48,
      "outputs": []
    },
    {
      "cell_type": "markdown",
      "source": [
        "# Practical Questions"
      ],
      "metadata": {
        "id": "cAVnISCGLhCy"
      }
    },
    {
      "cell_type": "markdown",
      "source": [
        "\n",
        "Q.1) Create a parent class Animal with a method speak() that prints a generic message. Create a child class Dog\n",
        "that overrides the speak() method to print \"Bark!\"."
      ],
      "metadata": {
        "id": "H809cHFrLodk"
      }
    },
    {
      "cell_type": "code",
      "source": [
        "class Animal:\n",
        "  def speak(Self):\n",
        "    print('This animal makes a sound.')\n",
        "class Dog(Animal):\n",
        "  #overrides the speak() method to print \"Bark!\n",
        " def speak(self):\n",
        "    print('Bark!')\n",
        "\n",
        "animal = Animal() #parent obj\n",
        "animal.speak()\n",
        "\n",
        "dog = Dog() #child obj called\n",
        "dog.speak()\n",
        "\n",
        "\n",
        "\n",
        "\n"
      ],
      "metadata": {
        "colab": {
          "base_uri": "https://localhost:8080/"
        },
        "id": "s1DUHbLwLtQE",
        "outputId": "067d0856-65f3-41eb-a02b-6683337c56e0"
      },
      "execution_count": 9,
      "outputs": [
        {
          "output_type": "stream",
          "name": "stdout",
          "text": [
            "This animal makes a sound.\n",
            "Bark!\n"
          ]
        }
      ]
    },
    {
      "cell_type": "markdown",
      "source": [
        "Q.2. Write a program to create an abstract class Shape with a method area(). Derive classes Circle and Rectangle\n",
        "from it and implement the area() method in both.\n"
      ],
      "metadata": {
        "id": "v6ybQNnrOvta"
      }
    },
    {
      "cell_type": "code",
      "source": [
        "class Shape:\n",
        "    def area(self):\n",
        "        raise NotImplementedError(\"Subclasses must implement this abstract method\")\n",
        "\n",
        "class Circle(Shape):\n",
        "    def __init__(self, radius):\n",
        "        self.radius = radius\n",
        "\n",
        "    def area(self):\n",
        "        return 3.14159 * self.radius ** 2\n",
        "\n",
        "class Rectangle(Shape):\n",
        "    def __init__(self, width, height):\n",
        "        self.width = width\n",
        "        self.height = height\n",
        "\n",
        "    def area(self):\n",
        "        return self.width * self.height\n",
        "\n",
        "\n",
        "circle = Circle(5)\n",
        "rectangle = Rectangle(4, 5)\n",
        "\n",
        "print(f\"Area of the circle: {circle.area():.2f}\")\n",
        "print(f\"Area of the rectangle: {rectangle.area()}\")\n"
      ],
      "metadata": {
        "colab": {
          "base_uri": "https://localhost:8080/"
        },
        "id": "V9N75ybaOzV8",
        "outputId": "f52189a8-40a1-4ea1-de4c-9013c64e9cde"
      },
      "execution_count": 19,
      "outputs": [
        {
          "output_type": "stream",
          "name": "stdout",
          "text": [
            "Area of the circle: 78.54\n",
            "Area of the rectangle: 20\n"
          ]
        }
      ]
    },
    {
      "cell_type": "markdown",
      "source": [
        "Q.3) & Q.4) Implement a multi-level inheritance scenario where a class Vehicle has an attribute type. Derive a class Car\n",
        "and further derive a class ElectricCar that adds a battery attribute."
      ],
      "metadata": {
        "id": "FtT2UZZ6Tvdt"
      }
    },
    {
      "cell_type": "code",
      "source": [
        "\n",
        "class Vehicle:\n",
        "    def __init__(self, vehicle_type):\n",
        "        self.type = vehicle_type\n",
        "\n",
        "class Car(Vehicle):\n",
        "    def __init__(self, vehicle_type, model, year):\n",
        "        super().__init__(vehicle_type)\n",
        "        self.model = model\n",
        "        self.year = year\n",
        "\n",
        "class ElectricCar(Car):\n",
        "    def __init__(self, vehicle_type, model, year, battery_size):\n",
        "        super().__init__(vehicle_type, model, year)\n",
        "        self.battery_size = battery_size\n",
        "\n",
        "electric_car = ElectricCar(\"electric car\", \"Tesla Model 3\", 2021, 75)\n",
        "print(f\"Type: {electric_car.type}, Model: {electric_car.model}, Year: {electric_car.year}, Battery: {electric_car.battery_size} kWh\")\n"
      ],
      "metadata": {
        "colab": {
          "base_uri": "https://localhost:8080/"
        },
        "id": "AxRrNM64TyXl",
        "outputId": "3b817bf4-a9ed-445b-b726-92fcade86aa4"
      },
      "execution_count": 18,
      "outputs": [
        {
          "output_type": "stream",
          "name": "stdout",
          "text": [
            "Type: electric car, Model: Tesla Model 3, Year: 2021, Battery: 75 kWh\n"
          ]
        }
      ]
    },
    {
      "cell_type": "markdown",
      "source": [
        "Q.5)Write a program to demonstrate encapsulation by creating a class BankAccount with private attributes\n",
        "balance and methods to deposit, withdraw, and check balance.\n",
        "\n",
        "\n"
      ],
      "metadata": {
        "id": "YSyfH8awWVO_"
      }
    },
    {
      "cell_type": "code",
      "source": [
        "class BankAccount:\n",
        "    def __init__(self, initial_balance=0):\n",
        "        self.__balance = initial_balance\n",
        "\n",
        "    def deposit(self, amount):\n",
        "        if amount > 0:\n",
        "            self.__balance += amount\n",
        "            print(f'Deposited: {amount}')\n",
        "        else:\n",
        "            print('Deposit amount must be positive.')\n",
        "\n",
        "    def withdraw(self, amount):\n",
        "        if amount > 0:\n",
        "            if amount <= self.__balance:\n",
        "                self.__balance -= amount\n",
        "                print(f'Withdrawn: {amount}')\n",
        "            else:\n",
        "                print('Insufficient balance for the withdrawal.')\n",
        "        else:\n",
        "            print('Withdrawal amount must be positive.')\n",
        "\n",
        "    def check_balance(self):\n",
        "        print(f'Current Balance: {self.__balance}')\n",
        "\n",
        "\n",
        "obj = BankAccount(100)\n",
        "obj.deposit(50)\n",
        "obj.withdraw(25)\n",
        "obj.check_balance()\n"
      ],
      "metadata": {
        "colab": {
          "base_uri": "https://localhost:8080/"
        },
        "id": "6-gzmewpF9GV",
        "outputId": "1ab010aa-e434-4340-cc7f-52c8c0f265bc"
      },
      "execution_count": 5,
      "outputs": [
        {
          "output_type": "stream",
          "name": "stdout",
          "text": [
            "Deposited: 50\n",
            "Withdrawn: 25\n",
            "Current Balance: 125\n"
          ]
        }
      ]
    },
    {
      "cell_type": "markdown",
      "source": [
        "Q.6) Demonstrate runtime polymorphism using a method play() in a base class Instrument. Derive classes Guitar\n",
        "and Piano that implement their own version of play().\n"
      ],
      "metadata": {
        "id": "oHSwEaBqIFva"
      }
    },
    {
      "cell_type": "code",
      "source": [
        "class Instrument:\n",
        "    def play(self):\n",
        "        print(\"Playing the instrument\")\n",
        "\n",
        "class Guitar(Instrument):\n",
        "    def play(self):\n",
        "        print(\"Playing the guitar - Strum strum\")\n",
        "\n",
        "class Piano(Instrument):\n",
        "    def play(self):\n",
        "        print(\"Playing the piano - Ting ting\")\n",
        "\n",
        "# Example usage:\n",
        "instruments = [Guitar(), Piano()]\n",
        "\n",
        "for instrument in instruments:\n",
        "    instrument.play()\n"
      ],
      "metadata": {
        "colab": {
          "base_uri": "https://localhost:8080/"
        },
        "id": "jLWiszubGoj8",
        "outputId": "5898980f-020c-44d4-ee0c-cde7cf9e8cb0"
      },
      "execution_count": 6,
      "outputs": [
        {
          "output_type": "stream",
          "name": "stdout",
          "text": [
            "Playing the guitar - Strum strum\n",
            "Playing the piano - Ting ting\n"
          ]
        }
      ]
    },
    {
      "cell_type": "markdown",
      "source": [
        " Q.7) Create a class MathOperations with a class method add_numbers() to add two numbers and a static\n",
        "method subtract_numbers() to subtract two numbers."
      ],
      "metadata": {
        "id": "UAoIANvXIU6Y"
      }
    },
    {
      "cell_type": "code",
      "source": [
        "class MathOperations:\n",
        "  @classmethod\n",
        "  def add_numbers(cls, a,b):\n",
        "    print(f\"Sum {a + b}\")\n",
        "  @staticmethod\n",
        "  def subtract_numbers(a,b):\n",
        "   print(f'Substract two numbers : {a-b}')\n",
        "\n",
        "obj = MathOperations()\n",
        "obj.add_numbers(2,3)\n",
        "obj.subtract_numbers(4,3)"
      ],
      "metadata": {
        "colab": {
          "base_uri": "https://localhost:8080/"
        },
        "id": "UGa7RO8KIeTD",
        "outputId": "efb91a95-0063-410d-c97e-95628ca54279"
      },
      "execution_count": 12,
      "outputs": [
        {
          "output_type": "stream",
          "name": "stdout",
          "text": [
            "Sum 5\n",
            "Substract two numbers : 1\n"
          ]
        }
      ]
    },
    {
      "cell_type": "markdown",
      "source": [
        "Q.8)Implement a class Person with a class method to count the total number of persons created."
      ],
      "metadata": {
        "id": "JJylSYQJKYlt"
      }
    },
    {
      "cell_type": "code",
      "source": [
        "class Person:\n",
        "\n",
        "    _count = 0\n",
        "\n",
        "    def __init__(self, name):\n",
        "        self.name = name\n",
        "        Person._increment_count()\n",
        "\n",
        "    @classmethod\n",
        "    def _increment_count(cls):\n",
        "        \"\"\"Increments the internal count of instances.\"\"\"\n",
        "        cls._count += 1\n",
        "\n",
        "    @classmethod\n",
        "    def get_count(cls):\n",
        "        \"\"\"Returns the total number of Person instances created.\"\"\"\n",
        "        return cls._count\n",
        "\n",
        "\n",
        "p1 = Person(\"Alice\")\n",
        "p2 = Person(\"Bob\")\n",
        "p3 = Person(\"Charlie\")\n",
        "\n",
        "print(f\"Total Persons created: {Person.get_count()}\")\n"
      ],
      "metadata": {
        "colab": {
          "base_uri": "https://localhost:8080/"
        },
        "id": "5SNp7YaRKbtP",
        "outputId": "4fa30e81-c7d0-41df-e5f6-6ab3a79238e8"
      },
      "execution_count": 15,
      "outputs": [
        {
          "output_type": "stream",
          "name": "stdout",
          "text": [
            "Total Persons created: 3\n"
          ]
        }
      ]
    },
    {
      "cell_type": "markdown",
      "source": [
        "Q.9) Write a class Fraction with attributes numerator and denominator. Override the str method to display the\n",
        "fraction as \"numerator/denominator\""
      ],
      "metadata": {
        "id": "b1SMCehULVjd"
      }
    },
    {
      "cell_type": "code",
      "source": [
        "class Fraction:\n",
        "    def __init__(self, numerator, denominator):\n",
        "        self.numerator = numerator\n",
        "        self.denominator = denominator\n",
        "\n",
        "    def __str__(self):\n",
        "        return f\"{self.numerator}/{self.denominator}\"\n",
        "frac = Fraction(3, 4)\n",
        "print(frac)"
      ],
      "metadata": {
        "id": "thK6TM3SMW33"
      },
      "execution_count": null,
      "outputs": []
    },
    {
      "cell_type": "markdown",
      "source": [
        "Q.10) Demonstrate operator overloading by creating a class Vector and overriding the add method to add two\n",
        "vectors."
      ],
      "metadata": {
        "id": "D2dzCzGGMakh"
      }
    },
    {
      "cell_type": "code",
      "source": [
        "class Vector:\n",
        "    def __init__(self, x, y):\n",
        "        self.x = x\n",
        "        self.y = y\n",
        "\n",
        "    def __str__(self):\n",
        "        return f\"({self.x}, {self.y})\"\n",
        "\n",
        "    def __add__(self, other):\n",
        "        if isinstance(other, Vector):\n",
        "            return Vector(self.x + other.x, self.y + other.y)\n",
        "        return NotImplemented\n",
        "\n",
        "# Example usage:\n",
        "v1 = Vector(2, 3)\n",
        "v2 = Vector(5, 7)\n",
        "result = v1 + v2\n",
        "print(result)  # Output: (7, 10)\n"
      ],
      "metadata": {
        "id": "6ivU49HFMqNO"
      },
      "execution_count": null,
      "outputs": []
    },
    {
      "cell_type": "markdown",
      "source": [
        "Q.11)Create a class Person with attributes name and age. Add a method greet() that prints \"Hello, my name is\n",
        "{name} and I am {age} years old.\""
      ],
      "metadata": {
        "id": "nNUReFRoMuzQ"
      }
    },
    {
      "cell_type": "code",
      "source": [
        "class Person:\n",
        "  def __init__(self, name,age):\n",
        "      self.name = name\n",
        "      self.age = age\n",
        "\n",
        "  def greet(self):\n",
        "        print(f'Hello my name is {self.name} and I am {self.age} years old')\n",
        "\n",
        "obj = Person('Anmol', 15)\n",
        "obj.greet()\n",
        "\n"
      ],
      "metadata": {
        "colab": {
          "base_uri": "https://localhost:8080/"
        },
        "id": "ahjhXOIEM4L2",
        "outputId": "de898f7a-3a81-4ede-8b20-4db79016a223"
      },
      "execution_count": 36,
      "outputs": [
        {
          "output_type": "stream",
          "name": "stdout",
          "text": [
            "Hello my name is Anmol ans I am 15 years old\n"
          ]
        }
      ]
    },
    {
      "cell_type": "markdown",
      "source": [
        "Q.12)Implement a class Student with attributes name and grades. Create a method average_grade() to compute\n",
        "the average of the grades."
      ],
      "metadata": {
        "id": "-SH6RdKRR0QF"
      }
    },
    {
      "cell_type": "code",
      "source": [
        "class Student:\n",
        "    def __init__(self, name, grades):\n",
        "        self.name = name\n",
        "        self.grades = grades\n",
        "\n",
        "    def average_grade(self):\n",
        "        if not self.grades:\n",
        "            return 0\n",
        "        return sum(self.grades) / len(self.grades)\n",
        "\n",
        "# Example usage:\n",
        "student = Student(\"Ramesh\", [88, 92, 79, 93, 85])\n",
        "print(f\"{student.name}'s average grade: {student.average_grade():.2f}\")\n"
      ],
      "metadata": {
        "colab": {
          "base_uri": "https://localhost:8080/"
        },
        "id": "qPNuvu8KR4D0",
        "outputId": "c6e09854-5a47-4c98-ad21-b18c4a3e2678"
      },
      "execution_count": 38,
      "outputs": [
        {
          "output_type": "stream",
          "name": "stdout",
          "text": [
            "Ramesh's average grade: 87.40\n"
          ]
        }
      ]
    },
    {
      "cell_type": "markdown",
      "source": [
        "Q.13)Create a class Rectangle with methods set_dimensions() to set the dimensions and area() to calculate the\n",
        "area."
      ],
      "metadata": {
        "id": "rCZSP6aE7Y6A"
      }
    },
    {
      "cell_type": "code",
      "source": [
        "class Rectangle:\n",
        "    def __init__(self):\n",
        "        self.height = 0\n",
        "        self.width = 0\n",
        "\n",
        "    def set_dimensions(self, height, width):\n",
        "        self.height = height\n",
        "        self.width = width\n",
        "\n",
        "    def area(self):\n",
        "        return self.height * self.width\n",
        "\n",
        "# Correct way to create an instance and use it\n",
        "obj = Rectangle()\n",
        "obj.set_dimensions(2, 3)\n",
        "print(f\"The area of the rectangle is: {obj.area()} square units\")\n"
      ],
      "metadata": {
        "colab": {
          "base_uri": "https://localhost:8080/"
        },
        "id": "hyyqWMQ-88FC",
        "outputId": "a3b363d9-4074-4c9c-9a56-ad2f8b9d5dda"
      },
      "execution_count": 11,
      "outputs": [
        {
          "output_type": "stream",
          "name": "stdout",
          "text": [
            "The area of the rectangle is: 6 square units\n"
          ]
        }
      ]
    },
    {
      "cell_type": "markdown",
      "source": [
        " Q.14)Create a class Employee with a method calculate_salary() that computes the salary based on hours worked\n",
        "and hourly rate. Create a derived class Manager that adds a bonus to the salary"
      ],
      "metadata": {
        "id": "ZoUffoy1-ml1"
      }
    },
    {
      "cell_type": "code",
      "source": [
        "class Employee:\n",
        "    def __init__(self, name, hours_worked, hourly_rate):\n",
        "        self.name = name\n",
        "        self.hours_worked = hours_worked\n",
        "        self.hourly_rate = hourly_rate\n",
        "\n",
        "    def calculate_salary(self):\n",
        "        return self.hours_worked * self.hourly_rate\n",
        "\n",
        "class Manager(Employee):\n",
        "    def __init__(self, name, hours_worked, hourly_rate, bonus):\n",
        "        super().__init__(name, hours_worked, hourly_rate)\n",
        "        self.bonus = bonus\n",
        "\n",
        "    def calculate_salary(self):\n",
        "        base_salary = super().calculate_salary()\n",
        "        return base_salary + self.bonus\n",
        "\n",
        "# Example usage:\n",
        "emp = Employee(\"Radhika\", 400, 20)\n",
        "print(f\"{emp.name}'s salary is: Rs.{emp.calculate_salary()}\")\n",
        "\n",
        "mgr = Manager(\"Radhika\", 400, 30, 500)\n",
        "print(f\"{mgr.name}'s salary including bonus is: Rs.{mgr.calculate_salary()}\")\n"
      ],
      "metadata": {
        "colab": {
          "base_uri": "https://localhost:8080/"
        },
        "id": "DTWuSxFy-ppR",
        "outputId": "8099197d-5776-49d6-f61d-be635cab3721"
      },
      "execution_count": 19,
      "outputs": [
        {
          "output_type": "stream",
          "name": "stdout",
          "text": [
            "Radhika's salary is: Rs.8000\n",
            "Radhika's salary including bonus is: Rs.12500\n"
          ]
        }
      ]
    },
    {
      "cell_type": "markdown",
      "source": [
        "Q.15). Create a class Product with attributes name, price, and quantity. Implement a method total_price() that calculates the total price of the product."
      ],
      "metadata": {
        "id": "py0zGJQNL0qe"
      }
    },
    {
      "cell_type": "code",
      "source": [
        "class Product:\n",
        "  def __init__(self,name, price,quantity):\n",
        "    self.name = name\n",
        "    self.price = price\n",
        "    self.quantity = quantity\n",
        "\n",
        "  def total_price(self):\n",
        "      return self.price * self.quantity\n",
        "\n",
        "obj = Product('dress', 200, 3)\n",
        "\n",
        "\n",
        "print(f\"Product name is {obj.name} and product total price is {obj.total_price()}\")\n",
        "\n"
      ],
      "metadata": {
        "colab": {
          "base_uri": "https://localhost:8080/"
        },
        "id": "0hwilDZgL3qe",
        "outputId": "9c96d9d4-4ed4-4500-ca75-55fd2f5178f4"
      },
      "execution_count": 29,
      "outputs": [
        {
          "output_type": "stream",
          "name": "stdout",
          "text": [
            "Product name is dress and product total price is 600\n"
          ]
        }
      ]
    },
    {
      "cell_type": "markdown",
      "source": [
        "Q.16)Create a class Animal with an abstract method sound(). Create two derived classes Cow and Sheep that\n",
        "implement the sound() method."
      ],
      "metadata": {
        "id": "RXmVozn6PZmC"
      }
    },
    {
      "cell_type": "code",
      "source": [
        "from abc import ABC, abstractmethod\n",
        "\n",
        "class Animal(ABC):\n",
        "    @abstractmethod\n",
        "    def sound(self):\n",
        "        \"\"\"Implement in subclasses to define the sound made by the animal.\"\"\"\n",
        "        pass\n",
        "\n",
        "class Cow(Animal):\n",
        "    def sound(self):\n",
        "        print(\"The cow goes 'moo'\")\n",
        "\n",
        "class Sheep(Animal):\n",
        "    def sound(self):\n",
        "        print(\"The sheep goes 'baa'\")\n",
        "\n",
        "cow = Cow()\n",
        "cow.sound()\n",
        "sheep = Sheep()\n",
        "sheep.sound()\n"
      ],
      "metadata": {
        "colab": {
          "base_uri": "https://localhost:8080/"
        },
        "id": "9xZFeauXPdSs",
        "outputId": "62d954ca-edfd-4d54-ab9c-1fe1d8d3b164"
      },
      "execution_count": 33,
      "outputs": [
        {
          "output_type": "stream",
          "name": "stdout",
          "text": [
            "The cow goes 'moo'\n",
            "The sheep goes 'baa'\n"
          ]
        }
      ]
    },
    {
      "cell_type": "markdown",
      "source": [
        "Q.17)Create a class Book with attributes title, author, and year_published. Add a method get_book_info() that\n",
        "returns a formatted string with the book's details."
      ],
      "metadata": {
        "id": "hidYfLWqRjwe"
      }
    },
    {
      "cell_type": "code",
      "source": [
        "class Book:\n",
        "    def __init__(self, title, author, year_published):\n",
        "        self.title = title\n",
        "        self.author = author\n",
        "        self.year_published = year_published\n",
        "\n",
        "    def get_book_info(self):\n",
        "        return f\"The title of the book is {self.title}, \" \\\n",
        "               f\"the author's name is {self.author.strip()}, and \" \\\n",
        "               f\"it was published in the year {self.year_published}\"\n",
        "\n",
        "\n",
        "obj = Book('Rich Dad Poor Dad', 'Robert Kiyosaki', 'April 8, 1997')\n",
        "print(obj.get_book_info())\n"
      ],
      "metadata": {
        "colab": {
          "base_uri": "https://localhost:8080/"
        },
        "id": "wVh_zguxMJ4U",
        "outputId": "45d53876-c7c0-4fbb-b40a-4c70a73180ff"
      },
      "execution_count": 43,
      "outputs": [
        {
          "output_type": "stream",
          "name": "stdout",
          "text": [
            "The title of the book is Rich Dad Poor Dad, the author's name is Robert Kiyosaki, and it was published in the year April 8, 1997\n"
          ]
        }
      ]
    },
    {
      "cell_type": "markdown",
      "source": [
        "Q.18)Create a class House with attributes address and price. Create a derived class Mansion that adds an\n",
        "attribute number_of_rooms."
      ],
      "metadata": {
        "id": "8hPYhef_Vqjf"
      }
    },
    {
      "cell_type": "code",
      "source": [
        "class House:\n",
        "    def __init__(self, address, price):\n",
        "        self.address = address\n",
        "        self.price = price\n",
        "\n",
        "    def display_info(self):\n",
        "        return f\"House at {self.address} priced at Rs.{self.price}\"\n",
        "\n",
        "class Mansion(House):\n",
        "    def __init__(self, address, price, number_of_rooms):\n",
        "        super().__init__(address, price)\n",
        "        self.number_of_rooms = number_of_rooms\n",
        "\n",
        "    def display_info(self):\n",
        "        return f\"Mansion at {self.address}, with {self.number_of_rooms} rooms, priced at Rs.{self.price}\"\n",
        "\n",
        "house = House(\"123 M. G. Road\", 300000)\n",
        "mansion = Mansion(\"M. G. Road\", 2000000, 12)\n",
        "\n",
        "print(house.display_info())\n",
        "print(mansion.display_info())\n"
      ],
      "metadata": {
        "colab": {
          "base_uri": "https://localhost:8080/"
        },
        "id": "l2bgVFmDVwcT",
        "outputId": "9b7b86d9-e312-4b7a-9827-83c23115de43"
      },
      "execution_count": 48,
      "outputs": [
        {
          "output_type": "stream",
          "name": "stdout",
          "text": [
            "House at 123 M. G. Road priced at Rs.300000\n",
            "Mansion at M. G. Road, with 12 rooms, priced at Rs.2000000\n"
          ]
        }
      ]
    }
  ]
}

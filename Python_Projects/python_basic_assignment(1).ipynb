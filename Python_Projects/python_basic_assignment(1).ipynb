{
  "nbformat": 4,
  "nbformat_minor": 0,
  "metadata": {
    "colab": {
      "provenance": []
    },
    "kernelspec": {
      "name": "python3",
      "display_name": "Python 3"
    },
    "language_info": {
      "name": "python"
    }
  },
  "cells": [
    {
      "cell_type": "markdown",
      "source": [
        "**Python Basics Questions**\n",
        "\n",
        "Q 1) What is Python, and why is it popular?\n",
        "\n",
        "    Ans :  Python is a programming language known for its simplicity and readability, making it ideal for beginners. It's popular because it's versatile and used in various fields, from web development to data science. Python also has a vast library of resources  and a supportive community, which help developers find solutions and tools for their projects.\n",
       "---\n",
        "Q 2) What is an interpreter in Python?\n",
        "    \n",
        "    ANS : A Python interpreter is a program that reads and executes Python code line by line.\n",
        "---\n",
        "Q 3)What are pre-defined keywords in Python?\n",
        "    \n",
        "    ANS : Pre-defined keywords in Python are special words reserved for specific functions, like if, for, and return. They cannot be used as names for variables or other identifiers.\n",
        "---\n",
        "\n",
        "Q 4)Can keywords be used as variable names?\n",
        "\n",
        "    ANS : No, keywords cannot be used as variable names in Python because they are reserved for specific functions and commands within the language.\n",
        "---\n",
        "\n",
        "Q 5)What is mutability in Python?\n",
        "\n",
        "    ANS : Mutability in Python means whether an object can be changed after it's created. Lists and dictionaries are mutable, while strings and tuples are not.\n",
        "\n",
        "---\n",
        "Q 6) Why are lists mutable, but tuples are immutable?\n",
        "\n",
        "    ANS : Lists are mutable so you can change them after they're made. Tuples are immutable, meaning once they're created, you can't change them. This makes tuples good for keeping data safe and unchanged.\n",
        "\n",
        "---\n",
        "Q 7) What is the difference between “==” and “is” operators in Python?\n",
        "\n",
        "    ANs : In Python, == checks if two things have the same value, while is checks if they are the exact same object in memory.\n",
        "  \n",
        "---\n",
        "Q 8) What are logical operators in Python?\n",
        "\n",
        "    ANS : Logical operators in Python, such as and, or, and not, combine or modify conditions in code. and requires both conditions to be true, or needs at least one true condition, and not reverses the condition's outcome.\n",
        "\n",
        "---\n",
        "\n",
        "Q 9) What is type casting in Python?\n",
        "\n",
        "    ANS : Type casting in Python changes a variable's data type, using functions like int(), float(), and str().\n",
        "---\n",
        "Q 10) What is the difference between implicit and explicit type casting?\n",
        "\n",
        "    ANS : Implicit type casting in Python happens automatically when needed, while explicit type casting requires you to convert types manually using functions like int(), float(), or str().\n",
        "\n",
        "---\n",
        "\n",
        "Q 11) What is the purpose of conditional statements in Python?\n",
        "\n",
        "    ANS : Conditional statements in Python let you run different code based on whether a condition is true or not. They help make decisions in your program.\n",
        "\n",
        "---\n",
        "Q 12) How does the elif statement work?\n",
        "\n",
        "    ANS : The elif statement is used after an if. If the first condition is false, elif checks another condition. If it's true, the elif code runs. If none are true, the else code runs.\n",
        "\n",
        "---\n",
        "Q 13) What is the difference between for and while loops?\n",
        "    \n",
        "    ANS :  Difference between for and while loops :\n",
        "\n",
        "| **No.** | **For Loop**                                       | **While Loop**                                     |\n",
        "|---------|---------------------------------------------------|---------------------------------------------------|\n",
        "| 1       | Used when the number of iterations is known.      | Used when the number of iterations is unknown.    |\n",
        "| 2       | Variables can be initialized inside or outside.   | Variables must be initialized outside the loop.   |\n",
        "| 3       | Gives an error if no condition is specified.      | Runs infinitely if no condition is specified.     |\n",
        "| 4       | Faster because it is optimized for iteration.     | Generally slower than for loop.                                 |\n",
        "| 5       | Suitable for simple initialization and increment. | Better for handling complex conditions.           |\n",
        "\n",
        "Q 14) Describe a scenario where a while loop is more suitable than a for loop?\n",
        "\n",
        "    ANS : A while loop is more suitable when the number of repetitions depends on a condition, not a fixed number.\n",
        "         Example :\n",
        "          name = \"\"\n",
        "          while name != \"Alice\":\n",
        "              name = input(\"Enter your name: \")\n",
        "          print(\"Hello, Alice!\")\n",
        "\n",
        "   "
      ],
      "metadata": {
        "id": "PQJFNskPOIJZ"
      }
    },
    {
      "cell_type": "code",
      "source": [],
      "metadata": {
        "id": "ElM2e6uJNZFo"
      },
      "execution_count": null,
      "outputs": []
    },
    {
      "cell_type": "code",
      "source": [
        "#Practical Questions :\n",
        "# Q 1) Write a Python program to print \"Hello, World!_\n",
        "a = \"Hello World\"\n",
        "print(a)\n",
        "\n",
        "#2nd option\n",
        "print(\"Hello World\")"
      ],
      "metadata": {
        "colab": {
          "base_uri": "https://localhost:8080/"
        },
        "id": "vdYiMLwkeBvM",
        "outputId": "4dc147d4-4361-4855-b96b-f5a8eba15830"
      },
      "execution_count": null,
      "outputs": [
        {
          "output_type": "stream",
          "name": "stdout",
          "text": [
            "Hello World\n",
            "Hello World\n"
          ]
        }
      ]
    },
    {
      "cell_type": "code",
      "source": [
        "# Q 2) Write a Python program that displays your name and age?\n",
        "name =\"K Sharma\"\n",
        "age = 35\n",
        "age = int(age)\n",
        "print(\"Full Name :\" , name)\n",
        "print(\"Age :\" , age)"
      ],
      "metadata": {
        "colab": {
          "base_uri": "https://localhost:8080/"
        },
        "id": "52H2Khiae7Qq",
        "outputId": "4efde823-3c1d-4de0-d390-bcaece4ea766"
      },
      "execution_count": null,
      "outputs": [
        {
          "output_type": "stream",
          "name": "stdout",
          "text": [
            "Full Name : K Sharma\n",
            "Age : 35\n"
          ]
        }
      ]
    },
    {
      "cell_type": "code",
      "source": [
        "# Q 3) Write code to print all the pre-defined keywords in Python using the\n",
        "# keyword library?\n",
        "import keyword\n",
        "print(\"Predefined keywords in Python:\")\n",
        "for kw in keyword.kwlist:\n",
        "    print(kw)"
      ],
      "metadata": {
        "colab": {
          "base_uri": "https://localhost:8080/"
        },
        "id": "EwHvdRljgqDF",
        "outputId": "b8388c4d-d67e-4c8a-a39d-8da634b6431a"
      },
      "execution_count": null,
      "outputs": [
        {
          "output_type": "stream",
          "name": "stdout",
          "text": [
            "Predefined keywords in Python:\n",
            "False\n",
            "None\n",
            "True\n",
            "and\n",
            "as\n",
            "assert\n",
            "async\n",
            "await\n",
            "break\n",
            "class\n",
            "continue\n",
            "def\n",
            "del\n",
            "elif\n",
            "else\n",
            "except\n",
            "finally\n",
            "for\n",
            "from\n",
            "global\n",
            "if\n",
            "import\n",
            "in\n",
            "is\n",
            "lambda\n",
            "nonlocal\n",
            "not\n",
            "or\n",
            "pass\n",
            "raise\n",
            "return\n",
            "try\n",
            "while\n",
            "with\n",
            "yield\n"
          ]
        }
      ]
    },
    {
      "cell_type": "code",
      "source": [
        "#Q 4) Write a program that checks if a given word is a Python keyword?\n",
        "\n",
        "import keyword\n",
        "# Input word to check\n",
        "word = input(\"Enter a word to check if it's a Python keyword: \")\n",
        "# Check if the word is a keyword\n",
        "if keyword.iskeyword(word):\n",
        "    print(f\"'{word}' is a Python keyword.\")\n",
        "else:\n",
        "    print(f\"'{word}' is not a Python keyword.\")\n"
      ],
      "metadata": {
        "id": "_r2PM7GAgr4f"
      },
      "execution_count": null,
      "outputs": []
    },
    {
      "cell_type": "code",
      "source": [
        "#Q 5)Create a list and tuple in Python, and demonstrate how attempting to\n",
        "    #change an element works differently for each?\n",
        "#create a list eg (Lists are mutable, meaning you can modify their elements.)\n",
        "list=[1, 2, 3, 4, 5, 6]\n",
        "list[2] = 'ravi'\n",
        "print(\"Modified List\", list)\n",
        "\n",
        "#Tuple eg (Tuples are immutable, meaning you cannot modify their elements.)\n",
        "tuple = (1, 2, 3, 4)\n",
        "print(\"Tuple eg : \", tuple)\n",
        "tuple[1] = 20\n",
        "print(\"Tuple Modified : \", tuple)"
      ],
      "metadata": {
        "colab": {
          "base_uri": "https://localhost:8080/",
          "height": 228
        },
        "id": "_A38fridkYnk",
        "outputId": "923b1de1-0013-44e6-ec00-e609a4e7863b"
      },
      "execution_count": null,
      "outputs": [
        {
          "output_type": "stream",
          "name": "stdout",
          "text": [
            "Modified List [1, 2, 'ravi', 4, 5, 6]\n",
            "Tuple eg :  (1, 2, 3, 4)\n"
          ]
        },
        {
          "output_type": "error",
          "ename": "TypeError",
          "evalue": "'tuple' object does not support item assignment",
          "traceback": [
            "\u001b[0;31m---------------------------------------------------------------------------\u001b[0m",
            "\u001b[0;31mTypeError\u001b[0m                                 Traceback (most recent call last)",
            "\u001b[0;32m<ipython-input-27-be3cf373bf5c>\u001b[0m in \u001b[0;36m<cell line: 11>\u001b[0;34m()\u001b[0m\n\u001b[1;32m      9\u001b[0m \u001b[0mtuple\u001b[0m \u001b[0;34m=\u001b[0m \u001b[0;34m(\u001b[0m\u001b[0;36m1\u001b[0m\u001b[0;34m,\u001b[0m \u001b[0;36m2\u001b[0m\u001b[0;34m,\u001b[0m \u001b[0;36m3\u001b[0m\u001b[0;34m,\u001b[0m \u001b[0;36m4\u001b[0m\u001b[0;34m)\u001b[0m\u001b[0;34m\u001b[0m\u001b[0;34m\u001b[0m\u001b[0m\n\u001b[1;32m     10\u001b[0m \u001b[0mprint\u001b[0m\u001b[0;34m(\u001b[0m\u001b[0;34m\"Tuple eg : \"\u001b[0m\u001b[0;34m,\u001b[0m \u001b[0mtuple\u001b[0m\u001b[0;34m)\u001b[0m\u001b[0;34m\u001b[0m\u001b[0;34m\u001b[0m\u001b[0m\n\u001b[0;32m---> 11\u001b[0;31m \u001b[0mtuple\u001b[0m\u001b[0;34m[\u001b[0m\u001b[0;36m1\u001b[0m\u001b[0;34m]\u001b[0m \u001b[0;34m=\u001b[0m \u001b[0;36m20\u001b[0m\u001b[0;34m\u001b[0m\u001b[0;34m\u001b[0m\u001b[0m\n\u001b[0m\u001b[1;32m     12\u001b[0m \u001b[0mprint\u001b[0m\u001b[0;34m(\u001b[0m\u001b[0;34m\"Tuple Modified : \"\u001b[0m\u001b[0;34m,\u001b[0m \u001b[0mtuple\u001b[0m\u001b[0;34m)\u001b[0m\u001b[0;34m\u001b[0m\u001b[0;34m\u001b[0m\u001b[0m\n",
            "\u001b[0;31mTypeError\u001b[0m: 'tuple' object does not support item assignment"
          ]
        }
      ]
    },
    {
      "cell_type": "code",
      "source": [
        "\n",
        "# Q 6) & Q 7) are same\n",
        "#Write a function to demonstrate the behavior of mutable and immutable arguments?\n",
        " #Mutable  argument eg :\n",
        "subject = \"pwskills\"\n",
        "subject=\"pw\"\n",
        "print(\"Changed/New text : \", subject)\n",
        "\n",
        "# Immutable argument eg :\n",
        "taple = (100,200,300) # taple will not chnage the value becoz it's immutable\n",
        "taple[1]=150\n",
        "print(taple)\n"
      ],
      "metadata": {
        "colab": {
          "base_uri": "https://localhost:8080/",
          "height": 211
        },
        "id": "b1sKS1PDmrWt",
        "outputId": "74eee6cf-c168-41ae-ba9a-ad72e0cb20fa"
      },
      "execution_count": 30,
      "outputs": [
        {
          "output_type": "stream",
          "name": "stdout",
          "text": [
            "Changed/New text :  pw\n"
          ]
        },
        {
          "output_type": "error",
          "ename": "TypeError",
          "evalue": "'tuple' object does not support item assignment",
          "traceback": [
            "\u001b[0;31m---------------------------------------------------------------------------\u001b[0m",
            "\u001b[0;31mTypeError\u001b[0m                                 Traceback (most recent call last)",
            "\u001b[0;32m<ipython-input-30-dd460e1854aa>\u001b[0m in \u001b[0;36m<cell line: 10>\u001b[0;34m()\u001b[0m\n\u001b[1;32m      8\u001b[0m \u001b[0;31m# Immutable argument eg :\u001b[0m\u001b[0;34m\u001b[0m\u001b[0;34m\u001b[0m\u001b[0m\n\u001b[1;32m      9\u001b[0m \u001b[0mtaple\u001b[0m \u001b[0;34m=\u001b[0m \u001b[0;34m(\u001b[0m\u001b[0;36m100\u001b[0m\u001b[0;34m,\u001b[0m\u001b[0;36m200\u001b[0m\u001b[0;34m,\u001b[0m\u001b[0;36m300\u001b[0m\u001b[0;34m)\u001b[0m\u001b[0;34m\u001b[0m\u001b[0;34m\u001b[0m\u001b[0m\n\u001b[0;32m---> 10\u001b[0;31m \u001b[0mtaple\u001b[0m\u001b[0;34m[\u001b[0m\u001b[0;36m1\u001b[0m\u001b[0;34m]\u001b[0m\u001b[0;34m=\u001b[0m\u001b[0;36m150\u001b[0m\u001b[0;34m\u001b[0m\u001b[0;34m\u001b[0m\u001b[0m\n\u001b[0m\u001b[1;32m     11\u001b[0m \u001b[0mprint\u001b[0m\u001b[0;34m(\u001b[0m\u001b[0mtaple\u001b[0m\u001b[0;34m)\u001b[0m\u001b[0;34m\u001b[0m\u001b[0;34m\u001b[0m\u001b[0m\n",
            "\u001b[0;31mTypeError\u001b[0m: 'tuple' object does not support item assignment"
          ]
        }
      ]
    },
    {
      "cell_type": "code",
      "source": [
        "\n",
        "# Q 8) Write a program to demonstrate the use of logical operators?\n",
        "\n",
        "#and (# AND operator: Both conditions must be true)\n",
        "x = 10\n",
        "if x > 5 and x < 15:\n",
        "    print(\"AND: The condition is true because x is greater than 5 and less than 15.\")\n",
        "\n",
        "#OR (Or opearator one conditions must be true)\n",
        "age = 18\n",
        "if age > 17 or age < 35:\n",
        "  print(' You are eligible for GOVT Exam')\n",
        "\n",
        "# NOT operator: Reverses the condition\n",
        "door_locked = 0 #false\n",
        "if not door_locked :\n",
        "  print('You can enter in the house')\n",
        "else:\n",
        "    print('you can not enter in the house ')"
      ],
      "metadata": {
        "colab": {
          "base_uri": "https://localhost:8080/"
        },
        "id": "zgui_iLul_nU",
        "outputId": "0c825993-a22d-4ac5-8880-f8fc104a70a1"
      },
      "execution_count": null,
      "outputs": [
        {
          "output_type": "stream",
          "name": "stdout",
          "text": [
            "AND: The condition is true because x is greater than 5 and less than 15.\n",
            " You are eligible for GOVT Exam\n",
            "You can enter in the house\n"
          ]
        }
      ]
    },
    {
      "cell_type": "code",
      "source": [
        "# Q 9) Write a Python program to convert user input from string to integer,\n",
        "# float, and boolean types?\n",
        "#string to int\n",
        "a = input('Enter the value : ')\n",
        "a = int(a)\n",
        "print(a)\n",
        "#print(type(a))#To check the type of the variable\n",
        "\n",
        "#string to float\n",
        "x = input('Enter the height:')\n",
        "x = float(x)\n",
        "print(f\"Height : \", x)\n",
        "#print(type(x))\n",
        "\n",
        "#String - Boolean\n",
        "z = input(\"Enter 'true' or 'false :\")\n",
        "z = bool(z)\n",
        "print(z)\n",
        "#print(type(z))"
      ],
      "metadata": {
        "colab": {
          "base_uri": "https://localhost:8080/"
        },
        "id": "6tOo4B2f_enX",
        "outputId": "f09251b1-1b8d-4d9f-b91a-0a9670f216ea"
      },
      "execution_count": null,
      "outputs": [
        {
          "output_type": "stream",
          "name": "stdout",
          "text": [
            "Enter the value : 8\n",
            "8\n",
            "Enter the height:8.5\n",
            "Height :  8.5\n",
            "Enter 'true' or 'false :true\n",
            "True\n"
          ]
        }
      ]
    },
    {
      "cell_type": "code",
      "source": [
        "#Q 10)Write code to demonstrate type casting with list elements?\n",
        "numbers = [4.5 , 5.5, 6.5]\n",
        "numbers = [float(num) for num in numbers]\n",
        "print(f\"Numbers after type casting : {numbers}\")\n",
        "##print(type(numbers[1]))"
      ],
      "metadata": {
        "colab": {
          "base_uri": "https://localhost:8080/"
        },
        "id": "ZNekYpfzE4Zd",
        "outputId": "d831df1c-9120-45cf-fd5a-a7c51c92b2bb"
      },
      "execution_count": null,
      "outputs": [
        {
          "output_type": "stream",
          "name": "stdout",
          "text": [
            "Numbers after type casting : [4.5, 5.5, 6.5]\n",
            "<class 'float'>\n"
          ]
        }
      ]
    },
    {
      "cell_type": "code",
      "source": [
        "# Q 11) Write a program that checks if a number is positive, negative, or zero?\n",
        "num = int(input(\"Enter the number : \"))\n",
        "if num > 1:\n",
        "      print(f\" {num}  Number is positive\" )\n",
        "elif num < 0 :\n",
        "    print(f\" {num}  Number is Negative\")\n",
        "else:\n",
        "    print(f\"{num} is zero.\")"
      ],
      "metadata": {
        "colab": {
          "base_uri": "https://localhost:8080/"
        },
        "id": "7n2Ef64SI6GW",
        "outputId": "637f5899-5ac2-4a9f-8c10-04a833f9d038"
      },
      "execution_count": null,
      "outputs": [
        {
          "output_type": "stream",
          "name": "stdout",
          "text": [
            "Enter the number : -9\n",
            " -9  Number is Negative\n"
          ]
        }
      ]
    },
    {
      "cell_type": "code",
      "source": [
        "#Q 12) Write a for loop to print numbers from 1 to 100?\n",
        "\n",
        "for num in range (1,101) :\n",
        "  print(num)"
      ],
      "metadata": {
        "colab": {
          "base_uri": "https://localhost:8080/"
        },
        "id": "fjxauESXRWJL",
        "outputId": "03efe1e3-93fa-4ae5-b0ed-b8e267cf1c96"
      },
      "execution_count": 4,
      "outputs": [
        {
          "output_type": "stream",
          "name": "stdout",
          "text": [
            "1\n",
            "2\n",
            "3\n",
            "4\n",
            "5\n",
            "6\n",
            "7\n",
            "8\n",
            "9\n",
            "10\n",
            "11\n",
            "12\n",
            "13\n",
            "14\n",
            "15\n",
            "16\n",
            "17\n",
            "18\n",
            "19\n",
            "20\n",
            "21\n",
            "22\n",
            "23\n",
            "24\n",
            "25\n",
            "26\n",
            "27\n",
            "28\n",
            "29\n",
            "30\n",
            "31\n",
            "32\n",
            "33\n",
            "34\n",
            "35\n",
            "36\n",
            "37\n",
            "38\n",
            "39\n",
            "40\n",
            "41\n",
            "42\n",
            "43\n",
            "44\n",
            "45\n",
            "46\n",
            "47\n",
            "48\n",
            "49\n",
            "50\n",
            "51\n",
            "52\n",
            "53\n",
            "54\n",
            "55\n",
            "56\n",
            "57\n",
            "58\n",
            "59\n",
            "60\n",
            "61\n",
            "62\n",
            "63\n",
            "64\n",
            "65\n",
            "66\n",
            "67\n",
            "68\n",
            "69\n",
            "70\n",
            "71\n",
            "72\n",
            "73\n",
            "74\n",
            "75\n",
            "76\n",
            "77\n",
            "78\n",
            "79\n",
            "80\n",
            "81\n",
            "82\n",
            "83\n",
            "84\n",
            "85\n",
            "86\n",
            "87\n",
            "88\n",
            "89\n",
            "90\n",
            "91\n",
            "92\n",
            "93\n",
            "94\n",
            "95\n",
            "96\n",
            "97\n",
            "98\n",
            "99\n",
            "100\n"
          ]
        }
      ]
    },
    {
      "cell_type": "code",
      "source": [
        "# Q 13)Write a Python program to find the sum of all even numbers between 1 and 50?\n",
        "\n",
        "even_sum = 0\n",
        "\n",
        "for num in range(1, 51):\n",
        "    if num % 2 == 0:\n",
        "        even_sum += num\n",
        "print(f\"The sum of all even numbers between 1 and 50 is: {even_sum}\")"
      ],
      "metadata": {
        "colab": {
          "base_uri": "https://localhost:8080/"
        },
        "id": "QVqEXZeer2rx",
        "outputId": "5db3f1d3-f48c-42d5-c1c2-f473b0facb95"
      },
      "execution_count": 18,
      "outputs": [
        {
          "output_type": "stream",
          "name": "stdout",
          "text": [
            "The sum of all even numbers between 1 and 50 is: 650\n"
          ]
        }
      ]
    },
    {
      "cell_type": "code",
      "source": [
        "# 14) Write a program to reverse a string using a while loop?\n",
        "name= 'PWSKILLS'\n",
        "i = len(name) - 1\n",
        "\n",
        "while i >= 0:\n",
        "    print(name[i], end = '')\n",
        "    i = i - 1"
      ],
      "metadata": {
        "colab": {
          "base_uri": "https://localhost:8080/"
        },
        "id": "e33DAcdCtQOQ",
        "outputId": "5d6f7724-5084-4d7b-ae72-9b58e8baa893"
      },
      "execution_count": 21,
      "outputs": [
        {
          "output_type": "stream",
          "name": "stdout",
          "text": [
            "SLLIKSWP"
          ]
        }
      ]
    },
    {
      "cell_type": "code",
      "source": [
        "# Q 15) Write a Python program to calculate the factorial of a number provided by the user using a while loop?\n",
        "num = int(input(\"Enter any number: \"))\n",
        "f = 1\n",
        "while num >= 1:\n",
        "    f *= num\n",
        "    num -= 1\n",
        "print(\"Factorial is\", f)"
      ],
      "metadata": {
        "colab": {
          "base_uri": "https://localhost:8080/"
        },
        "id": "9PT3Fh-OwTTr",
        "outputId": "1aed8787-9968-467c-a2ba-cdbe6f4b7905"
      },
      "execution_count": 28,
      "outputs": [
        {
          "output_type": "stream",
          "name": "stdout",
          "text": [
            "Enter any number: 3\n",
            "Factorial is 6\n"
          ]
        }
      ]
    }
  ]
}

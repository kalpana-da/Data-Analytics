{
  "cells": [
    {
      "cell_type": "markdown",
      "id": "1cdcf0e2",
      "metadata": {
        "id": "1cdcf0e2"
      },
      "source": [
        "# Regression Assignment Questions"
      ]
    },
    {
      "cell_type": "markdown",
      "id": "6c0fc4d6",
      "metadata": {
        "id": "6c0fc4d6"
      },
      "source": [
        "## 1. What is Simple Linear Regression?"
      ]
    },
    {
      "cell_type": "markdown",
      "id": "690da577",
      "metadata": {
        "id": "690da577"
      },
      "source": [
        "Simple Linear Regression is a method used to understand the relationship between two variables: one dependent (Y) and one independent (X). It fits a straight line to the data that best predicts the value of Y based on X."
      ]
    },
    {
      "cell_type": "markdown",
      "id": "3dab84af",
      "metadata": {
        "id": "3dab84af"
      },
      "source": [
        "## 2. What are the key assumptions of Simple Linear Regression?"
      ]
    },
    {
      "cell_type": "markdown",
      "id": "684be8c8",
      "metadata": {
        "id": "684be8c8"
      },
      "source": [
        "The key assumptions are: the relationship between the variables is linear, the residuals (errors) are independent and normally distributed, and there is constant variance (homoscedasticity) in the residuals."
      ]
    },
    {
      "cell_type": "markdown",
      "id": "00cbe31d",
      "metadata": {
        "id": "00cbe31d"
      },
      "source": [
        "## 3. What does the coefficient m represent in the equation Y=mX+c?"
      ]
    },
    {
      "cell_type": "markdown",
      "id": "2219eaa0",
      "metadata": {
        "id": "2219eaa0"
      },
      "source": [
        "The coefficient m represents the slope of the line, showing how much Y changes for every 1-unit change in X. A higher value means a stronger relationship between the variables."
      ]
    },
    {
      "cell_type": "markdown",
      "id": "f43fa1c4",
      "metadata": {
        "id": "f43fa1c4"
      },
      "source": [
        "## 4. What does the intercept c represent in the equation Y=mX+c?"
      ]
    },
    {
      "cell_type": "markdown",
      "id": "1f2d0612",
      "metadata": {
        "id": "1f2d0612"
      },
      "source": [
        "The intercept c represents the point where the regression line crosses the Y-axis. It is the value of Y when X is 0."
      ]
    },
    {
      "cell_type": "markdown",
      "id": "74f45ee8",
      "metadata": {
        "id": "74f45ee8"
      },
      "source": [
        "## 5. How do we calculate the slope m in Simple Linear Regression?"
      ]
    },
    {
      "cell_type": "markdown",
      "id": "590e5014",
      "metadata": {
        "id": "590e5014"
      },
      "source": [
        "The slope m is calculated by finding the best fit line that minimizes the difference between the actual data points and the predicted values. This involves calculating the covariance of X and Y divided by the variance of X."
      ]
    },
    {
      "cell_type": "markdown",
      "id": "a6efe294",
      "metadata": {
        "id": "a6efe294"
      },
      "source": [
        "## 6. What is the purpose of the least squares method in Simple Linear Regression?"
      ]
    },
    {
      "cell_type": "markdown",
      "id": "d12c3b76",
      "metadata": {
        "id": "d12c3b76"
      },
      "source": [
        "The least squares method helps to find the line that minimizes the sum of squared differences between the actual data and the predicted values. This line best represents the relationship between the variables."
      ]
    },
    {
      "cell_type": "markdown",
      "id": "cd30ee0a",
      "metadata": {
        "id": "cd30ee0a"
      },
      "source": [
        "## 7. How is the coefficient of determination (R²) interpreted in Simple Linear Regression?"
      ]
    },
    {
      "cell_type": "markdown",
      "id": "bddf3276",
      "metadata": {
        "id": "bddf3276"
      },
      "source": [
        "R² tells you how much of the variation in the dependent variable (Y) can be explained by the independent variable (X). An R² value closer to 1 indicates a strong relationship between the variables."
      ]
    },
    {
      "cell_type": "markdown",
      "id": "d6b342af",
      "metadata": {
        "id": "d6b342af"
      },
      "source": [
        "## 8. What is Multiple Linear Regression?"
      ]
    },
    {
      "cell_type": "markdown",
      "id": "d223cb70",
      "metadata": {
        "id": "d223cb70"
      },
      "source": [
        "Multiple Linear Regression is a technique that models the relationship between one dependent variable and two or more independent variables. It’s useful when multiple factors influence the dependent variable."
      ]
    },
    {
      "cell_type": "markdown",
      "id": "62d84e0d",
      "metadata": {
        "id": "62d84e0d"
      },
      "source": [
        "## 9. What is the main difference between Simple and Multiple Linear Regression?"
      ]
    },
    {
      "cell_type": "markdown",
      "id": "9e98bcd3",
      "metadata": {
        "id": "9e98bcd3"
      },
      "source": [
        "Simple Linear Regression uses one independent variable to predict the dependent variable, whereas Multiple Linear Regression uses more than one independent variable to make predictions."
      ]
    },
    {
      "cell_type": "markdown",
      "id": "0acd3e2c",
      "metadata": {
        "id": "0acd3e2c"
      },
      "source": [
        "## 10. What are the key assumptions of Multiple Linear Regression?"
      ]
    },
    {
      "cell_type": "markdown",
      "id": "33a47eb3",
      "metadata": {
        "id": "33a47eb3"
      },
      "source": [
        "The key assumptions are similar to simple linear regression but also include no multicollinearity between independent variables. This ensures each predictor variable provides unique information."
      ]
    },
    {
      "cell_type": "markdown",
      "id": "64f6c8d3",
      "metadata": {
        "id": "64f6c8d3"
      },
      "source": [
        "## 11. What is heteroscedasticity, and how does it affect the results of a Multiple Linear Regression model?"
      ]
    },
    {
      "cell_type": "markdown",
      "id": "e33ebb41",
      "metadata": {
        "id": "e33ebb41"
      },
      "source": [
        "Heteroscedasticity occurs when the variance of the residuals is not constant. It can lead to inefficient estimates and incorrect conclusions about statistical significance."
      ]
    },
    {
      "cell_type": "markdown",
      "id": "6e6e63e4",
      "metadata": {
        "id": "6e6e63e4"
      },
      "source": [
        "## 12. How can you improve a Multiple Linear Regression model with high multicollinearity?"
      ]
    },
    {
      "cell_type": "markdown",
      "id": "38a2e38b",
      "metadata": {
        "id": "38a2e38b"
      },
      "source": [
        "You can improve the model by removing or combining correlated predictors, or using regularization methods like Ridge or Lasso regression to reduce the impact of multicollinearity."
      ]
    },
    {
      "cell_type": "markdown",
      "id": "22082676",
      "metadata": {
        "id": "22082676"
      },
      "source": [
        "## 13. What are some common techniques for transforming categorical variables for use in regression models?"
      ]
    },
    {
      "cell_type": "markdown",
      "id": "3d9ebb7c",
      "metadata": {
        "id": "3d9ebb7c"
      },
      "source": [
        "Common techniques include one-hot encoding (creating binary columns for each category) and label encoding (assigning numerical values to categories) to make the categorical variables usable in regression models."
      ]
    },
    {
      "cell_type": "markdown",
      "id": "c3845ac1",
      "metadata": {
        "id": "c3845ac1"
      },
      "source": [
        "## 14. What is the role of interaction terms in Multiple Linear Regression?"
      ]
    },
    {
      "cell_type": "markdown",
      "id": "5c60ae5c",
      "metadata": {
        "id": "5c60ae5c"
      },
      "source": [
        "Interaction terms help to understand how the combined effect of two or more predictors influences the dependent variable. These terms reveal if the effect of one predictor depends on the level of another."
      ]
    },
    {
      "cell_type": "markdown",
      "id": "f2f3da7c",
      "metadata": {
        "id": "f2f3da7c"
      },
      "source": [
        "## 15. How can the interpretation of intercept differ between Simple and Multiple Linear Regression?"
      ]
    },
    {
      "cell_type": "markdown",
      "id": "d501951f",
      "metadata": {
        "id": "d501951f"
      },
      "source": [
        "In simple linear regression, the intercept is the value of Y when X is zero. In multiple regression, the intercept represents the expected value of Y when all predictors are zero."
      ]
    },
    {
      "cell_type": "markdown",
      "id": "c8e65947",
      "metadata": {
        "id": "c8e65947"
      },
      "source": [
        "## 16. What is the significance of the slope in regression analysis, and how does it affect predictions?"
      ]
    },
    {
      "cell_type": "markdown",
      "id": "603c17d8",
      "metadata": {
        "id": "603c17d8"
      },
      "source": [
        "The slope tells you how much the dependent variable changes when the independent variable changes by one unit. A steeper slope indicates a stronger relationship between the variables."
      ]
    },
    {
      "cell_type": "markdown",
      "id": "5a8c074a",
      "metadata": {
        "id": "5a8c074a"
      },
      "source": [
        "## 17. How does the intercept in a regression model provide context for the relationship between variables?"
      ]
    },
    {
      "cell_type": "markdown",
      "id": "c906be91",
      "metadata": {
        "id": "c906be91"
      },
      "source": [
        "The intercept provides a baseline level of the dependent variable when all predictors are set to zero. It helps to understand the starting point of the regression line."
      ]
    },
    {
      "cell_type": "markdown",
      "id": "ffc8e0b3",
      "metadata": {
        "id": "ffc8e0b3"
      },
      "source": [
        "## 18. What are the limitations of using R² as a sole measure of model performance?"
      ]
    },
    {
      "cell_type": "markdown",
      "id": "95f6b0ef",
      "metadata": {
        "id": "95f6b0ef"
      },
      "source": [
        "R² only tells you how well the model fits the data but doesn’t guarantee the model’s accuracy. It can be misleading, especially if the model is overfitting, which is why adjusted R² is often preferred."
      ]
    },
    {
      "cell_type": "markdown",
      "id": "37b3603f",
      "metadata": {
        "id": "37b3603f"
      },
      "source": [
        "## 19. How would you interpret a large standard error for a regression coefficient?"
      ]
    },
    {
      "cell_type": "markdown",
      "id": "b525a724",
      "metadata": {
        "id": "b525a724"
      },
      "source": [
        "A large standard error means there is uncertainty in the estimate of the regression coefficient, suggesting that the predictor might not have a significant impact on the dependent variable."
      ]
    },
    {
      "cell_type": "markdown",
      "id": "447e2417",
      "metadata": {
        "id": "447e2417"
      },
      "source": [
        "## 20. How can heteroscedasticity be identified in residual plots, and why is it important to address it?"
      ]
    },
    {
      "cell_type": "markdown",
      "id": "82194091",
      "metadata": {
        "id": "82194091"
      },
      "source": [
        "Heteroscedasticity can be identified if the spread of residuals increases or decreases as the value of the independent variable changes. It’s important to address it because it can make the model’s estimates less reliable."
      ]
    },
    {
      "cell_type": "markdown",
      "id": "b67a4919",
      "metadata": {
        "id": "b67a4919"
      },
      "source": [
        "## 21. What does it mean if a Multiple Linear Regression model has a high R² but low adjusted R²?"
      ]
    },
    {
      "cell_type": "markdown",
      "id": "bbe96d05",
      "metadata": {
        "id": "bbe96d05"
      },
      "source": [
        "A high R² with a low adjusted R² suggests that the model may be overfitting. This means that although the model explains a lot of variance, it doesn’t generalize well to new data."
      ]
    },
    {
      "cell_type": "markdown",
      "id": "13eb4143",
      "metadata": {
        "id": "13eb4143"
      },
      "source": [
        "## 22. Why is it important to scale variables in Multiple Linear Regression?"
      ]
    },
    {
      "cell_type": "markdown",
      "id": "070defe8",
      "metadata": {
        "id": "070defe8"
      },
      "source": [
        "Scaling ensures that all predictors are on the same scale, preventing certain variables from disproportionately affecting the model, especially if the variables are measured in different units."
      ]
    },
    {
      "cell_type": "markdown",
      "id": "439b0674",
      "metadata": {
        "id": "439b0674"
      },
      "source": [
        "## 23. What is polynomial regression?"
      ]
    },
    {
      "cell_type": "markdown",
      "id": "9f74003b",
      "metadata": {
        "id": "9f74003b"
      },
      "source": [
        "Polynomial regression is a type of regression where the relationship between the dependent and independent variables is modeled as an nth-degree polynomial. It’s used when the data shows a non-linear relationship."
      ]
    },
    {
      "cell_type": "markdown",
      "id": "aa0206d3",
      "metadata": {
        "id": "aa0206d3"
      },
      "source": [
        "## 24. How does polynomial regression differ from linear regression?"
      ]
    },
    {
      "cell_type": "markdown",
      "id": "6f685283",
      "metadata": {
        "id": "6f685283"
      },
      "source": [
        "Polynomial regression includes higher-degree terms of the independent variable, allowing it to model non-linear relationships, whereas linear regression only fits a straight line."
      ]
    },
    {
      "cell_type": "markdown",
      "id": "0f733519",
      "metadata": {
        "id": "0f733519"
      },
      "source": [
        "## 25. When is polynomial regression used?"
      ]
    },
    {
      "cell_type": "markdown",
      "id": "8a6469ca",
      "metadata": {
        "id": "8a6469ca"
      },
      "source": [
        "Polynomial regression is used when there is a curved relationship between the dependent and independent variables, and a straight line doesn’t capture the underlying pattern."
      ]
    },
    {
      "cell_type": "markdown",
      "id": "1eda1859",
      "metadata": {
        "id": "1eda1859"
      },
      "source": [
        "## 26. What is the general equation for polynomial regression?"
      ]
    },
    {
      "cell_type": "markdown",
      "id": "e5d78c49",
      "metadata": {
        "id": "e5d78c49"
      },
      "source": [
        "The general equation for polynomial regression is: Y = β₀ + β₁X + β₂X² + ... + βₙXⁿ"
      ]
    },
    {
      "cell_type": "markdown",
      "id": "4354f4a3",
      "metadata": {
        "id": "4354f4a3"
      },
      "source": [
        "## 27. Can polynomial regression be applied to multiple variables?"
      ]
    },
    {
      "cell_type": "markdown",
      "id": "c75684fa",
      "metadata": {
        "id": "c75684fa"
      },
      "source": [
        "Yes, polynomial regression can be extended to multiple variables by adding interaction terms and higher-degree terms for each independent variable."
      ]
    },
    {
      "cell_type": "markdown",
      "id": "512b3cc0",
      "metadata": {
        "id": "512b3cc0"
      },
      "source": [
        "## 28. What are the limitations of polynomial regression?"
      ]
    },
    {
      "cell_type": "markdown",
      "id": "e3365d3b",
      "metadata": {
        "id": "e3365d3b"
      },
      "source": [
        "Polynomial regression can overfit the data if the degree is too high. It also assumes that the relationship is polynomial, which might not always be the case."
      ]
    },
    {
      "cell_type": "markdown",
      "id": "e6de1bfc",
      "metadata": {
        "id": "e6de1bfc"
      },
      "source": [
        "## 29. What methods can be used to evaluate model fit when selecting the degree of a polynomial?"
      ]
    },
    {
      "cell_type": "markdown",
      "id": "9d8397ba",
      "metadata": {
        "id": "9d8397ba"
      },
      "source": [
        "Methods include cross-validation, examining residual plots, and using information criteria like AIC or BIC to ensure the model doesn’t overfit."
      ]
    },
    {
      "cell_type": "markdown",
      "id": "37bd66bb",
      "metadata": {
        "id": "37bd66bb"
      },
      "source": [
        "## 30. Why is visualization important in polynomial regression?"
      ]
    },
    {
      "cell_type": "markdown",
      "id": "bfc04511",
      "metadata": {
        "id": "bfc04511"
      },
      "source": [
        "Visualization helps to better understand the fit of the model, see if it captures the underlying pattern in the data, and detect any potential overfitting."
      ]
    },
    {
      "cell_type": "markdown",
      "id": "11c07bf2",
      "metadata": {
        "id": "11c07bf2"
      },
      "source": [
        "## 31. How is polynomial regression implemented in Python?\n",
        "-> Polynomial regression can be implemented using scikit-learn. The process involves transforming the input data into polynomial features and fitting a linear regression model. Here's an example implementation:"
      ]
    },
    {
      "cell_type": "code",
      "source": [
        "from sklearn.preprocessing import PolynomialFeatures\n",
        "from sklearn.linear_model import LinearRegression\n",
        "import matplotlib.pyplot as plt\n",
        "import numpy as np\n",
        "\n",
        "X = np.random.rand(100, 1) * 10\n",
        "Y = 2 + 3 * X + 0.5 * X**2 + np.random.randn(100, 1) * 2\n",
        "\n",
        "poly = PolynomialFeatures(degree=2)\n",
        "X_poly = poly.fit_transform(X)\n",
        "\n",
        "model = LinearRegression()\n",
        "model.fit(X_poly, Y)\n",
        "Y_pred = model.predict(X_poly)\n",
        "\n",
        "plt.scatter(X, Y, color='red')\n",
        "plt.plot(X, Y_pred, color='blue')\n",
        "plt.title('Polynomial Regression')\n",
        "plt.show()\n"
      ],
      "metadata": {
        "colab": {
          "base_uri": "https://localhost:8080/",
          "height": 452
        },
        "id": "1xL31Q9B6TiA",
        "outputId": "1a08a8f6-ca99-4d1a-fd9c-0e797f227a32"
      },
      "id": "1xL31Q9B6TiA",
      "execution_count": 1,
      "outputs": [
        {
          "output_type": "display_data",
          "data": {
            "text/plain": [
              "<Figure size 640x480 with 1 Axes>"
            ],
            "image/png": "[encoded data removed]"
          },
          "metadata": {}
        }
      ]
    }
  ],
  "metadata": {
    "colab": {
      "provenance": []
    },
    "language_info": {
      "name": "python"
    },
    "kernelspec": {
      "name": "python3",
      "display_name": "Python 3"
    }
  },
  "nbformat": 4,
  "nbformat_minor": 5
}